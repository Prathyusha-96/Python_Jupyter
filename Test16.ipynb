{
 "cells": [
  {
   "cell_type": "code",
   "execution_count": 1,
   "id": "0b2f922d",
   "metadata": {},
   "outputs": [],
   "source": [
    "lst = [1, 2,  7, 5]"
   ]
  },
  {
   "cell_type": "code",
   "execution_count": 2,
   "id": "484de142",
   "metadata": {},
   "outputs": [
    {
     "name": "stdout",
     "output_type": "stream",
     "text": [
      "1\n",
      "2\n",
      "7\n",
      "5\n"
     ]
    }
   ],
   "source": [
    "for i in lst:\n",
    "    print(i)"
   ]
  },
  {
   "cell_type": "code",
   "execution_count": 3,
   "id": "8329da38",
   "metadata": {},
   "outputs": [
    {
     "data": {
      "text/plain": [
       "<list_iterator at 0x21802442b80>"
      ]
     },
     "execution_count": 3,
     "metadata": {},
     "output_type": "execute_result"
    }
   ],
   "source": [
    "lst1 = iter(lst)\n",
    "lst1"
   ]
  },
  {
   "cell_type": "code",
   "execution_count": 8,
   "id": "616814a8",
   "metadata": {},
   "outputs": [
    {
     "ename": "StopIteration",
     "evalue": "",
     "output_type": "error",
     "traceback": [
      "\u001b[1;31m---------------------------------------------------------------------------\u001b[0m",
      "\u001b[1;31mStopIteration\u001b[0m                             Traceback (most recent call last)",
      "Input \u001b[1;32mIn [8]\u001b[0m, in \u001b[0;36m<cell line: 1>\u001b[1;34m()\u001b[0m\n\u001b[1;32m----> 1\u001b[0m \u001b[38;5;28;43mnext\u001b[39;49m\u001b[43m(\u001b[49m\u001b[43mlst1\u001b[49m\u001b[43m)\u001b[49m\n",
      "\u001b[1;31mStopIteration\u001b[0m: "
     ]
    }
   ],
   "source": [
    "next(lst1)"
   ]
  },
  {
   "cell_type": "code",
   "execution_count": 9,
   "id": "66f7b69e",
   "metadata": {},
   "outputs": [],
   "source": [
    "def square(n):\n",
    "    yield n ** 2"
   ]
  },
  {
   "cell_type": "code",
   "execution_count": 10,
   "id": "87d567a0",
   "metadata": {},
   "outputs": [
    {
     "name": "stdout",
     "output_type": "stream",
     "text": [
      "9\n"
     ]
    }
   ],
   "source": [
    "for i in square(3):\n",
    "    print(i)"
   ]
  },
  {
   "cell_type": "code",
   "execution_count": 11,
   "id": "ae58b861",
   "metadata": {},
   "outputs": [],
   "source": [
    "iter_square = square(3)"
   ]
  },
  {
   "cell_type": "code",
   "execution_count": 12,
   "id": "8f8b469b",
   "metadata": {},
   "outputs": [
    {
     "data": {
      "text/plain": [
       "9"
      ]
     },
     "execution_count": 12,
     "metadata": {},
     "output_type": "execute_result"
    }
   ],
   "source": [
    "next(iter_square)"
   ]
  },
  {
   "cell_type": "code",
   "execution_count": 67,
   "id": "2adc2510",
   "metadata": {},
   "outputs": [],
   "source": [
    "def my_func(sub_welcome):\n",
    "    msg = \"hii\"\n",
    "    def welcome():\n",
    "        print(msg)\n",
    "        sub_welcome()\n",
    "       \n",
    "        print(\"hey how are you\")\n",
    "    return welcome"
   ]
  },
  {
   "cell_type": "code",
   "execution_count": 38,
   "id": "18c7bdf5",
   "metadata": {},
   "outputs": [
    {
     "ename": "TypeError",
     "evalue": "my_func() missing 1 required positional argument: 'func'",
     "output_type": "error",
     "traceback": [
      "\u001b[1;31m---------------------------------------------------------------------------\u001b[0m",
      "\u001b[1;31mTypeError\u001b[0m                                 Traceback (most recent call last)",
      "Input \u001b[1;32mIn [38]\u001b[0m, in \u001b[0;36m<cell line: 1>\u001b[1;34m()\u001b[0m\n\u001b[1;32m----> 1\u001b[0m \u001b[43mmy_func\u001b[49m\u001b[43m(\u001b[49m\u001b[43m)\u001b[49m\n",
      "\u001b[1;31mTypeError\u001b[0m: my_func() missing 1 required positional argument: 'func'"
     ]
    }
   ],
   "source": [
    "my_func()"
   ]
  },
  {
   "cell_type": "code",
   "execution_count": 65,
   "id": "16514fd9",
   "metadata": {},
   "outputs": [
    {
     "name": "stdout",
     "output_type": "stream",
     "text": [
      "hii\n",
      "Iam good\n",
      "hey how are you\n"
     ]
    }
   ],
   "source": [
    "@my_func\n",
    "def sub_welcome():\n",
    "    print(\"Iam good\")"
   ]
  },
  {
   "cell_type": "code",
   "execution_count": 68,
   "id": "5c94b714",
   "metadata": {},
   "outputs": [
    {
     "data": {
      "text/plain": [
       "<function __main__.my_func.<locals>.welcome()>"
      ]
     },
     "execution_count": 68,
     "metadata": {},
     "output_type": "execute_result"
    }
   ],
   "source": [
    "my_func(sub_welcome)\n"
   ]
  },
  {
   "cell_type": "code",
   "execution_count": 71,
   "id": "a034997e",
   "metadata": {},
   "outputs": [
    {
     "name": "stdout",
     "output_type": "stream",
     "text": [
      "start\n",
      "inside func\n",
      "f3\n",
      "done\n"
     ]
    }
   ],
   "source": [
    "def f1(func):\n",
    "    print(\"start\")\n",
    "    def f2():\n",
    "        print(\"inside func\")\n",
    "        func()\n",
    "        print(\"done\")\n",
    "    return f2()\n",
    "\n",
    "def f3():\n",
    "    print(\"f3\")\n",
    "    \n",
    "f1(f3)"
   ]
  },
  {
   "cell_type": "code",
   "execution_count": 81,
   "id": "e1702cdd",
   "metadata": {},
   "outputs": [
    {
     "name": "stdout",
     "output_type": "stream",
     "text": [
      "hello world\n"
     ]
    }
   ],
   "source": [
    "def make_bold(fn):\n",
    "    def wrapped():\n",
    "        return fn()\n",
    "    return wrapped()\n",
    "\n",
    "    \n",
    "@make_bold\n",
    "def main_func():\n",
    "    print(\"hello world\")"
   ]
  },
  {
   "cell_type": "code",
   "execution_count": 79,
   "id": "8da63d08",
   "metadata": {},
   "outputs": [
    {
     "name": "stdout",
     "output_type": "stream",
     "text": [
      "hello world\n"
     ]
    }
   ],
   "source": [
    "make_bold(main_func)"
   ]
  },
  {
   "cell_type": "code",
   "execution_count": 82,
   "id": "5a7c0cea",
   "metadata": {},
   "outputs": [
    {
     "name": "stdout",
     "output_type": "stream",
     "text": [
      "The current user is : Alice\n"
     ]
    }
   ],
   "source": [
    "def who():                                                                                                  \n",
    "    print(\"Alice\")                                                                                          \n",
    "                                                                                                            \n",
    "def display(func):                                                                                          \n",
    "    def inner():                                                                                            \n",
    "        print(\"The current user is : \", end=\"\")                                                             \n",
    "        func()                                                                                              \n",
    "    return inner                                                                                            \n",
    "                                                                                                            \n",
    "if __name__ == \"__main__\":                                                                                  \n",
    "    myobj = display(who)                                                                                    \n",
    "    myobj()       "
   ]
  },
  {
   "cell_type": "code",
   "execution_count": null,
   "id": "4eceee3f",
   "metadata": {},
   "outputs": [],
   "source": []
  }
 ],
 "metadata": {
  "kernelspec": {
   "display_name": "Python 3 (ipykernel)",
   "language": "python",
   "name": "python3"
  },
  "language_info": {
   "codemirror_mode": {
    "name": "ipython",
    "version": 3
   },
   "file_extension": ".py",
   "mimetype": "text/x-python",
   "name": "python",
   "nbconvert_exporter": "python",
   "pygments_lexer": "ipython3",
   "version": "3.9.12"
  }
 },
 "nbformat": 4,
 "nbformat_minor": 5
}

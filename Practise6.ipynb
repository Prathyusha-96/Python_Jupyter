{
 "cells": [
  {
   "cell_type": "code",
   "execution_count": 1,
   "id": "2830f069",
   "metadata": {},
   "outputs": [],
   "source": [
    "import pandas as pd\n",
    "import numpy as np"
   ]
  },
  {
   "cell_type": "code",
   "execution_count": 2,
   "id": "67c047f2",
   "metadata": {},
   "outputs": [
    {
     "data": {
      "text/plain": [
       "0    2\n",
       "1    4\n",
       "2    5\n",
       "3    6\n",
       "dtype: int64"
      ]
     },
     "execution_count": 2,
     "metadata": {},
     "output_type": "execute_result"
    }
   ],
   "source": [
    "# List-to-Series Conversion'\n",
    "li = [2, 4, 5, 6]\n",
    "ds = pd.Series(li)\n",
    "ds"
   ]
  },
  {
   "cell_type": "code",
   "execution_count": 4,
   "id": "b26da1bb",
   "metadata": {},
   "outputs": [
    {
     "data": {
      "text/plain": [
       "1     2\n",
       "3     4\n",
       "5     6\n",
       "7     8\n",
       "9    10\n",
       "dtype: int64"
      ]
     },
     "execution_count": 4,
     "metadata": {},
     "output_type": "execute_result"
    }
   ],
   "source": [
    "ds1 = pd.Series([2, 4, 6, 8, 10], index=[1, 3, 5, 7, 9])\n",
    "ds1"
   ]
  },
  {
   "cell_type": "code",
   "execution_count": 5,
   "id": "49fe320b",
   "metadata": {},
   "outputs": [
    {
     "data": {
      "text/plain": [
       "1    1.0\n",
       "3    2.0\n",
       "5    3.0\n",
       "7    4.0\n",
       "9    5.0\n",
       "dtype: float64"
      ]
     },
     "execution_count": 5,
     "metadata": {},
     "output_type": "execute_result"
    }
   ],
   "source": [
    "ds1.apply(lambda x:x/2)"
   ]
  },
  {
   "cell_type": "code",
   "execution_count": 6,
   "id": "20ff8045",
   "metadata": {},
   "outputs": [],
   "source": [
    "di = {'name': ['Vinay', 'Kushal', 'Aman'],\n",
    "              'age' : [22, 25, 24],\n",
    "              'occ' : ['engineer', 'doctor', 'accountant']}\n",
    "df = pd.DataFrame(di)"
   ]
  },
  {
   "cell_type": "code",
   "execution_count": 7,
   "id": "45665948",
   "metadata": {},
   "outputs": [
    {
     "data": {
      "text/html": [
       "<div>\n",
       "<style scoped>\n",
       "    .dataframe tbody tr th:only-of-type {\n",
       "        vertical-align: middle;\n",
       "    }\n",
       "\n",
       "    .dataframe tbody tr th {\n",
       "        vertical-align: top;\n",
       "    }\n",
       "\n",
       "    .dataframe thead th {\n",
       "        text-align: right;\n",
       "    }\n",
       "</style>\n",
       "<table border=\"1\" class=\"dataframe\">\n",
       "  <thead>\n",
       "    <tr style=\"text-align: right;\">\n",
       "      <th></th>\n",
       "      <th>name</th>\n",
       "      <th>age</th>\n",
       "      <th>occ</th>\n",
       "    </tr>\n",
       "  </thead>\n",
       "  <tbody>\n",
       "    <tr>\n",
       "      <th>0</th>\n",
       "      <td>Vinay</td>\n",
       "      <td>22</td>\n",
       "      <td>engineer</td>\n",
       "    </tr>\n",
       "    <tr>\n",
       "      <th>1</th>\n",
       "      <td>Kushal</td>\n",
       "      <td>25</td>\n",
       "      <td>doctor</td>\n",
       "    </tr>\n",
       "    <tr>\n",
       "      <th>2</th>\n",
       "      <td>Aman</td>\n",
       "      <td>24</td>\n",
       "      <td>accountant</td>\n",
       "    </tr>\n",
       "  </tbody>\n",
       "</table>\n",
       "</div>"
      ],
      "text/plain": [
       "     name  age         occ\n",
       "0   Vinay   22    engineer\n",
       "1  Kushal   25      doctor\n",
       "2    Aman   24  accountant"
      ]
     },
     "execution_count": 7,
     "metadata": {},
     "output_type": "execute_result"
    }
   ],
   "source": [
    "df"
   ]
  },
  {
   "cell_type": "code",
   "execution_count": 9,
   "id": "0ad12f68",
   "metadata": {},
   "outputs": [
    {
     "data": {
      "text/html": [
       "<div>\n",
       "<style scoped>\n",
       "    .dataframe tbody tr th:only-of-type {\n",
       "        vertical-align: middle;\n",
       "    }\n",
       "\n",
       "    .dataframe tbody tr th {\n",
       "        vertical-align: top;\n",
       "    }\n",
       "\n",
       "    .dataframe thead th {\n",
       "        text-align: right;\n",
       "    }\n",
       "</style>\n",
       "<table border=\"1\" class=\"dataframe\">\n",
       "  <thead>\n",
       "    <tr style=\"text-align: right;\">\n",
       "      <th></th>\n",
       "      <th>id</th>\n",
       "      <th>name</th>\n",
       "      <th>age</th>\n",
       "    </tr>\n",
       "  </thead>\n",
       "  <tbody>\n",
       "    <tr>\n",
       "      <th>0</th>\n",
       "      <td>2</td>\n",
       "      <td>Vishal</td>\n",
       "      <td>22</td>\n",
       "    </tr>\n",
       "    <tr>\n",
       "      <th>1</th>\n",
       "      <td>1</td>\n",
       "      <td>Kushal</td>\n",
       "      <td>25</td>\n",
       "    </tr>\n",
       "    <tr>\n",
       "      <th>2</th>\n",
       "      <td>1</td>\n",
       "      <td>Aman</td>\n",
       "      <td>24</td>\n",
       "    </tr>\n",
       "  </tbody>\n",
       "</table>\n",
       "</div>"
      ],
      "text/plain": [
       "   id    name  age\n",
       "0   2  Vishal   22\n",
       "1   1  Kushal   25\n",
       "2   1    Aman   24"
      ]
     },
     "execution_count": 9,
     "metadata": {},
     "output_type": "execute_result"
    }
   ],
   "source": [
    "#2D List-to-Dataframe Conversion\n",
    "lists = [[2, 'Vishal', 22],\n",
    "         [1, 'Kushal', 25],\n",
    "         [1, 'Aman', 24]]\n",
    "df1 = pd.DataFrame(lists, columns=['id', 'name', 'age'])\n",
    "df1"
   ]
  },
  {
   "cell_type": "code",
   "execution_count": 10,
   "id": "b997723c",
   "metadata": {},
   "outputs": [],
   "source": [
    "credit = pd.read_csv(\"../../Downloads/Credit card transactions - India - Simple.csv\")"
   ]
  },
  {
   "cell_type": "code",
   "execution_count": 11,
   "id": "2690b03d",
   "metadata": {},
   "outputs": [
    {
     "data": {
      "text/html": [
       "<div>\n",
       "<style scoped>\n",
       "    .dataframe tbody tr th:only-of-type {\n",
       "        vertical-align: middle;\n",
       "    }\n",
       "\n",
       "    .dataframe tbody tr th {\n",
       "        vertical-align: top;\n",
       "    }\n",
       "\n",
       "    .dataframe thead th {\n",
       "        text-align: right;\n",
       "    }\n",
       "</style>\n",
       "<table border=\"1\" class=\"dataframe\">\n",
       "  <thead>\n",
       "    <tr style=\"text-align: right;\">\n",
       "      <th></th>\n",
       "      <th>index</th>\n",
       "      <th>City</th>\n",
       "      <th>Date</th>\n",
       "      <th>Card Type</th>\n",
       "      <th>Exp Type</th>\n",
       "      <th>Gender</th>\n",
       "      <th>Amount</th>\n",
       "    </tr>\n",
       "  </thead>\n",
       "  <tbody>\n",
       "    <tr>\n",
       "      <th>0</th>\n",
       "      <td>0</td>\n",
       "      <td>Delhi, India</td>\n",
       "      <td>29-Oct-14</td>\n",
       "      <td>Gold</td>\n",
       "      <td>Bills</td>\n",
       "      <td>F</td>\n",
       "      <td>82475</td>\n",
       "    </tr>\n",
       "    <tr>\n",
       "      <th>1</th>\n",
       "      <td>1</td>\n",
       "      <td>Greater Mumbai, India</td>\n",
       "      <td>22-Aug-14</td>\n",
       "      <td>Platinum</td>\n",
       "      <td>Bills</td>\n",
       "      <td>F</td>\n",
       "      <td>32555</td>\n",
       "    </tr>\n",
       "    <tr>\n",
       "      <th>2</th>\n",
       "      <td>2</td>\n",
       "      <td>Bengaluru, India</td>\n",
       "      <td>27-Aug-14</td>\n",
       "      <td>Silver</td>\n",
       "      <td>Bills</td>\n",
       "      <td>F</td>\n",
       "      <td>101738</td>\n",
       "    </tr>\n",
       "    <tr>\n",
       "      <th>3</th>\n",
       "      <td>3</td>\n",
       "      <td>Greater Mumbai, India</td>\n",
       "      <td>12-Apr-14</td>\n",
       "      <td>Signature</td>\n",
       "      <td>Bills</td>\n",
       "      <td>F</td>\n",
       "      <td>123424</td>\n",
       "    </tr>\n",
       "    <tr>\n",
       "      <th>4</th>\n",
       "      <td>4</td>\n",
       "      <td>Bengaluru, India</td>\n",
       "      <td>5-May-15</td>\n",
       "      <td>Gold</td>\n",
       "      <td>Bills</td>\n",
       "      <td>F</td>\n",
       "      <td>171574</td>\n",
       "    </tr>\n",
       "    <tr>\n",
       "      <th>...</th>\n",
       "      <td>...</td>\n",
       "      <td>...</td>\n",
       "      <td>...</td>\n",
       "      <td>...</td>\n",
       "      <td>...</td>\n",
       "      <td>...</td>\n",
       "      <td>...</td>\n",
       "    </tr>\n",
       "    <tr>\n",
       "      <th>26047</th>\n",
       "      <td>26047</td>\n",
       "      <td>Kolkata, India</td>\n",
       "      <td>22-Jun-14</td>\n",
       "      <td>Silver</td>\n",
       "      <td>Travel</td>\n",
       "      <td>F</td>\n",
       "      <td>128191</td>\n",
       "    </tr>\n",
       "    <tr>\n",
       "      <th>26048</th>\n",
       "      <td>26048</td>\n",
       "      <td>Pune, India</td>\n",
       "      <td>3-Aug-14</td>\n",
       "      <td>Signature</td>\n",
       "      <td>Travel</td>\n",
       "      <td>M</td>\n",
       "      <td>246316</td>\n",
       "    </tr>\n",
       "    <tr>\n",
       "      <th>26049</th>\n",
       "      <td>26049</td>\n",
       "      <td>Hyderabad, India</td>\n",
       "      <td>16-Jan-15</td>\n",
       "      <td>Silver</td>\n",
       "      <td>Travel</td>\n",
       "      <td>M</td>\n",
       "      <td>265019</td>\n",
       "    </tr>\n",
       "    <tr>\n",
       "      <th>26050</th>\n",
       "      <td>26050</td>\n",
       "      <td>Kanpur, India</td>\n",
       "      <td>14-Sep-14</td>\n",
       "      <td>Silver</td>\n",
       "      <td>Travel</td>\n",
       "      <td>M</td>\n",
       "      <td>88174</td>\n",
       "    </tr>\n",
       "    <tr>\n",
       "      <th>26051</th>\n",
       "      <td>26051</td>\n",
       "      <td>Hyderabad, India</td>\n",
       "      <td>19-Oct-13</td>\n",
       "      <td>Signature</td>\n",
       "      <td>Bills</td>\n",
       "      <td>M</td>\n",
       "      <td>184410</td>\n",
       "    </tr>\n",
       "  </tbody>\n",
       "</table>\n",
       "<p>26052 rows × 7 columns</p>\n",
       "</div>"
      ],
      "text/plain": [
       "       index                   City       Date  Card Type Exp Type Gender  \\\n",
       "0          0           Delhi, India  29-Oct-14       Gold    Bills      F   \n",
       "1          1  Greater Mumbai, India  22-Aug-14   Platinum    Bills      F   \n",
       "2          2       Bengaluru, India  27-Aug-14     Silver    Bills      F   \n",
       "3          3  Greater Mumbai, India  12-Apr-14  Signature    Bills      F   \n",
       "4          4       Bengaluru, India   5-May-15       Gold    Bills      F   \n",
       "...      ...                    ...        ...        ...      ...    ...   \n",
       "26047  26047         Kolkata, India  22-Jun-14     Silver   Travel      F   \n",
       "26048  26048            Pune, India   3-Aug-14  Signature   Travel      M   \n",
       "26049  26049       Hyderabad, India  16-Jan-15     Silver   Travel      M   \n",
       "26050  26050          Kanpur, India  14-Sep-14     Silver   Travel      M   \n",
       "26051  26051       Hyderabad, India  19-Oct-13  Signature    Bills      M   \n",
       "\n",
       "       Amount  \n",
       "0       82475  \n",
       "1       32555  \n",
       "2      101738  \n",
       "3      123424  \n",
       "4      171574  \n",
       "...       ...  \n",
       "26047  128191  \n",
       "26048  246316  \n",
       "26049  265019  \n",
       "26050   88174  \n",
       "26051  184410  \n",
       "\n",
       "[26052 rows x 7 columns]"
      ]
     },
     "execution_count": 11,
     "metadata": {},
     "output_type": "execute_result"
    }
   ],
   "source": [
    "credit"
   ]
  },
  {
   "cell_type": "code",
   "execution_count": 12,
   "id": "359bb7c7",
   "metadata": {},
   "outputs": [
    {
     "data": {
      "text/html": [
       "<div>\n",
       "<style scoped>\n",
       "    .dataframe tbody tr th:only-of-type {\n",
       "        vertical-align: middle;\n",
       "    }\n",
       "\n",
       "    .dataframe tbody tr th {\n",
       "        vertical-align: top;\n",
       "    }\n",
       "\n",
       "    .dataframe thead th {\n",
       "        text-align: right;\n",
       "    }\n",
       "</style>\n",
       "<table border=\"1\" class=\"dataframe\">\n",
       "  <thead>\n",
       "    <tr style=\"text-align: right;\">\n",
       "      <th></th>\n",
       "      <th>index</th>\n",
       "      <th>City</th>\n",
       "      <th>Date</th>\n",
       "      <th>Card Type</th>\n",
       "      <th>Exp Type</th>\n",
       "      <th>Gender</th>\n",
       "      <th>Amount</th>\n",
       "    </tr>\n",
       "  </thead>\n",
       "  <tbody>\n",
       "    <tr>\n",
       "      <th>0</th>\n",
       "      <td>0</td>\n",
       "      <td>Delhi, India</td>\n",
       "      <td>29-Oct-14</td>\n",
       "      <td>Gold</td>\n",
       "      <td>Bills</td>\n",
       "      <td>F</td>\n",
       "      <td>82475</td>\n",
       "    </tr>\n",
       "    <tr>\n",
       "      <th>1</th>\n",
       "      <td>1</td>\n",
       "      <td>Greater Mumbai, India</td>\n",
       "      <td>22-Aug-14</td>\n",
       "      <td>Platinum</td>\n",
       "      <td>Bills</td>\n",
       "      <td>F</td>\n",
       "      <td>32555</td>\n",
       "    </tr>\n",
       "    <tr>\n",
       "      <th>2</th>\n",
       "      <td>2</td>\n",
       "      <td>Bengaluru, India</td>\n",
       "      <td>27-Aug-14</td>\n",
       "      <td>Silver</td>\n",
       "      <td>Bills</td>\n",
       "      <td>F</td>\n",
       "      <td>101738</td>\n",
       "    </tr>\n",
       "    <tr>\n",
       "      <th>3</th>\n",
       "      <td>3</td>\n",
       "      <td>Greater Mumbai, India</td>\n",
       "      <td>12-Apr-14</td>\n",
       "      <td>Signature</td>\n",
       "      <td>Bills</td>\n",
       "      <td>F</td>\n",
       "      <td>123424</td>\n",
       "    </tr>\n",
       "    <tr>\n",
       "      <th>4</th>\n",
       "      <td>4</td>\n",
       "      <td>Bengaluru, India</td>\n",
       "      <td>5-May-15</td>\n",
       "      <td>Gold</td>\n",
       "      <td>Bills</td>\n",
       "      <td>F</td>\n",
       "      <td>171574</td>\n",
       "    </tr>\n",
       "  </tbody>\n",
       "</table>\n",
       "</div>"
      ],
      "text/plain": [
       "   index                   City       Date  Card Type Exp Type Gender  Amount\n",
       "0      0           Delhi, India  29-Oct-14       Gold    Bills      F   82475\n",
       "1      1  Greater Mumbai, India  22-Aug-14   Platinum    Bills      F   32555\n",
       "2      2       Bengaluru, India  27-Aug-14     Silver    Bills      F  101738\n",
       "3      3  Greater Mumbai, India  12-Apr-14  Signature    Bills      F  123424\n",
       "4      4       Bengaluru, India   5-May-15       Gold    Bills      F  171574"
      ]
     },
     "execution_count": 12,
     "metadata": {},
     "output_type": "execute_result"
    }
   ],
   "source": [
    "credit.head()"
   ]
  },
  {
   "cell_type": "code",
   "execution_count": 13,
   "id": "7f692672",
   "metadata": {},
   "outputs": [
    {
     "data": {
      "text/plain": [
       "index        0\n",
       "City         0\n",
       "Date         0\n",
       "Card Type    0\n",
       "Exp Type     0\n",
       "Gender       0\n",
       "Amount       0\n",
       "dtype: int64"
      ]
     },
     "execution_count": 13,
     "metadata": {},
     "output_type": "execute_result"
    }
   ],
   "source": [
    "credit.isna().sum()"
   ]
  },
  {
   "cell_type": "code",
   "execution_count": 14,
   "id": "54034965",
   "metadata": {},
   "outputs": [
    {
     "data": {
      "text/plain": [
       "index         int64\n",
       "City         object\n",
       "Date         object\n",
       "Card Type    object\n",
       "Exp Type     object\n",
       "Gender       object\n",
       "Amount        int64\n",
       "dtype: object"
      ]
     },
     "execution_count": 14,
     "metadata": {},
     "output_type": "execute_result"
    }
   ],
   "source": [
    "credit.dtypes"
   ]
  },
  {
   "cell_type": "code",
   "execution_count": 15,
   "id": "6ea0692d",
   "metadata": {},
   "outputs": [
    {
     "data": {
      "text/html": [
       "<div>\n",
       "<style scoped>\n",
       "    .dataframe tbody tr th:only-of-type {\n",
       "        vertical-align: middle;\n",
       "    }\n",
       "\n",
       "    .dataframe tbody tr th {\n",
       "        vertical-align: top;\n",
       "    }\n",
       "\n",
       "    .dataframe thead th {\n",
       "        text-align: right;\n",
       "    }\n",
       "</style>\n",
       "<table border=\"1\" class=\"dataframe\">\n",
       "  <thead>\n",
       "    <tr style=\"text-align: right;\">\n",
       "      <th></th>\n",
       "      <th>City</th>\n",
       "      <th>Date</th>\n",
       "      <th>Card Type</th>\n",
       "      <th>Exp Type</th>\n",
       "      <th>Gender</th>\n",
       "      <th>Amount</th>\n",
       "    </tr>\n",
       "  </thead>\n",
       "  <tbody>\n",
       "    <tr>\n",
       "      <th>0</th>\n",
       "      <td>Delhi, India</td>\n",
       "      <td>29-Oct-14</td>\n",
       "      <td>Gold</td>\n",
       "      <td>Bills</td>\n",
       "      <td>F</td>\n",
       "      <td>82475</td>\n",
       "    </tr>\n",
       "    <tr>\n",
       "      <th>1</th>\n",
       "      <td>Greater Mumbai, India</td>\n",
       "      <td>22-Aug-14</td>\n",
       "      <td>Platinum</td>\n",
       "      <td>Bills</td>\n",
       "      <td>F</td>\n",
       "      <td>32555</td>\n",
       "    </tr>\n",
       "    <tr>\n",
       "      <th>2</th>\n",
       "      <td>Bengaluru, India</td>\n",
       "      <td>27-Aug-14</td>\n",
       "      <td>Silver</td>\n",
       "      <td>Bills</td>\n",
       "      <td>F</td>\n",
       "      <td>101738</td>\n",
       "    </tr>\n",
       "    <tr>\n",
       "      <th>3</th>\n",
       "      <td>Greater Mumbai, India</td>\n",
       "      <td>12-Apr-14</td>\n",
       "      <td>Signature</td>\n",
       "      <td>Bills</td>\n",
       "      <td>F</td>\n",
       "      <td>123424</td>\n",
       "    </tr>\n",
       "    <tr>\n",
       "      <th>4</th>\n",
       "      <td>Bengaluru, India</td>\n",
       "      <td>5-May-15</td>\n",
       "      <td>Gold</td>\n",
       "      <td>Bills</td>\n",
       "      <td>F</td>\n",
       "      <td>171574</td>\n",
       "    </tr>\n",
       "    <tr>\n",
       "      <th>...</th>\n",
       "      <td>...</td>\n",
       "      <td>...</td>\n",
       "      <td>...</td>\n",
       "      <td>...</td>\n",
       "      <td>...</td>\n",
       "      <td>...</td>\n",
       "    </tr>\n",
       "    <tr>\n",
       "      <th>26047</th>\n",
       "      <td>Kolkata, India</td>\n",
       "      <td>22-Jun-14</td>\n",
       "      <td>Silver</td>\n",
       "      <td>Travel</td>\n",
       "      <td>F</td>\n",
       "      <td>128191</td>\n",
       "    </tr>\n",
       "    <tr>\n",
       "      <th>26048</th>\n",
       "      <td>Pune, India</td>\n",
       "      <td>3-Aug-14</td>\n",
       "      <td>Signature</td>\n",
       "      <td>Travel</td>\n",
       "      <td>M</td>\n",
       "      <td>246316</td>\n",
       "    </tr>\n",
       "    <tr>\n",
       "      <th>26049</th>\n",
       "      <td>Hyderabad, India</td>\n",
       "      <td>16-Jan-15</td>\n",
       "      <td>Silver</td>\n",
       "      <td>Travel</td>\n",
       "      <td>M</td>\n",
       "      <td>265019</td>\n",
       "    </tr>\n",
       "    <tr>\n",
       "      <th>26050</th>\n",
       "      <td>Kanpur, India</td>\n",
       "      <td>14-Sep-14</td>\n",
       "      <td>Silver</td>\n",
       "      <td>Travel</td>\n",
       "      <td>M</td>\n",
       "      <td>88174</td>\n",
       "    </tr>\n",
       "    <tr>\n",
       "      <th>26051</th>\n",
       "      <td>Hyderabad, India</td>\n",
       "      <td>19-Oct-13</td>\n",
       "      <td>Signature</td>\n",
       "      <td>Bills</td>\n",
       "      <td>M</td>\n",
       "      <td>184410</td>\n",
       "    </tr>\n",
       "  </tbody>\n",
       "</table>\n",
       "<p>26052 rows × 6 columns</p>\n",
       "</div>"
      ],
      "text/plain": [
       "                        City       Date  Card Type Exp Type Gender  Amount\n",
       "0               Delhi, India  29-Oct-14       Gold    Bills      F   82475\n",
       "1      Greater Mumbai, India  22-Aug-14   Platinum    Bills      F   32555\n",
       "2           Bengaluru, India  27-Aug-14     Silver    Bills      F  101738\n",
       "3      Greater Mumbai, India  12-Apr-14  Signature    Bills      F  123424\n",
       "4           Bengaluru, India   5-May-15       Gold    Bills      F  171574\n",
       "...                      ...        ...        ...      ...    ...     ...\n",
       "26047         Kolkata, India  22-Jun-14     Silver   Travel      F  128191\n",
       "26048            Pune, India   3-Aug-14  Signature   Travel      M  246316\n",
       "26049       Hyderabad, India  16-Jan-15     Silver   Travel      M  265019\n",
       "26050          Kanpur, India  14-Sep-14     Silver   Travel      M   88174\n",
       "26051       Hyderabad, India  19-Oct-13  Signature    Bills      M  184410\n",
       "\n",
       "[26052 rows x 6 columns]"
      ]
     },
     "execution_count": 15,
     "metadata": {},
     "output_type": "execute_result"
    }
   ],
   "source": [
    "credit.drop('index', axis=1)"
   ]
  },
  {
   "cell_type": "code",
   "execution_count": 18,
   "id": "13361c59",
   "metadata": {},
   "outputs": [
    {
     "data": {
      "text/plain": [
       "<pandas.core.groupby.generic.DataFrameGroupBy object at 0x000001BDF016B370>"
      ]
     },
     "execution_count": 18,
     "metadata": {},
     "output_type": "execute_result"
    }
   ],
   "source": [
    "credit.groupby(['City', 'Card Type'])"
   ]
  },
  {
   "cell_type": "code",
   "execution_count": 19,
   "id": "c64f06c5",
   "metadata": {},
   "outputs": [
    {
     "data": {
      "text/plain": [
       "156411.5374251497"
      ]
     },
     "execution_count": 19,
     "metadata": {},
     "output_type": "execute_result"
    }
   ],
   "source": [
    "credit.Amount.mean()"
   ]
  },
  {
   "cell_type": "code",
   "execution_count": 20,
   "id": "eb01e459",
   "metadata": {},
   "outputs": [
    {
     "data": {
      "text/html": [
       "<div>\n",
       "<style scoped>\n",
       "    .dataframe tbody tr th:only-of-type {\n",
       "        vertical-align: middle;\n",
       "    }\n",
       "\n",
       "    .dataframe tbody tr th {\n",
       "        vertical-align: top;\n",
       "    }\n",
       "\n",
       "    .dataframe thead th {\n",
       "        text-align: right;\n",
       "    }\n",
       "</style>\n",
       "<table border=\"1\" class=\"dataframe\">\n",
       "  <thead>\n",
       "    <tr style=\"text-align: right;\">\n",
       "      <th></th>\n",
       "      <th>index</th>\n",
       "      <th>Amount</th>\n",
       "    </tr>\n",
       "  </thead>\n",
       "  <tbody>\n",
       "    <tr>\n",
       "      <th>count</th>\n",
       "      <td>26052.000000</td>\n",
       "      <td>26052.000000</td>\n",
       "    </tr>\n",
       "    <tr>\n",
       "      <th>mean</th>\n",
       "      <td>13025.500000</td>\n",
       "      <td>156411.537425</td>\n",
       "    </tr>\n",
       "    <tr>\n",
       "      <th>std</th>\n",
       "      <td>7520.708943</td>\n",
       "      <td>103063.254287</td>\n",
       "    </tr>\n",
       "    <tr>\n",
       "      <th>min</th>\n",
       "      <td>0.000000</td>\n",
       "      <td>1005.000000</td>\n",
       "    </tr>\n",
       "    <tr>\n",
       "      <th>25%</th>\n",
       "      <td>6512.750000</td>\n",
       "      <td>77120.250000</td>\n",
       "    </tr>\n",
       "    <tr>\n",
       "      <th>50%</th>\n",
       "      <td>13025.500000</td>\n",
       "      <td>153106.500000</td>\n",
       "    </tr>\n",
       "    <tr>\n",
       "      <th>75%</th>\n",
       "      <td>19538.250000</td>\n",
       "      <td>228050.000000</td>\n",
       "    </tr>\n",
       "    <tr>\n",
       "      <th>max</th>\n",
       "      <td>26051.000000</td>\n",
       "      <td>998077.000000</td>\n",
       "    </tr>\n",
       "  </tbody>\n",
       "</table>\n",
       "</div>"
      ],
      "text/plain": [
       "              index         Amount\n",
       "count  26052.000000   26052.000000\n",
       "mean   13025.500000  156411.537425\n",
       "std     7520.708943  103063.254287\n",
       "min        0.000000    1005.000000\n",
       "25%     6512.750000   77120.250000\n",
       "50%    13025.500000  153106.500000\n",
       "75%    19538.250000  228050.000000\n",
       "max    26051.000000  998077.000000"
      ]
     },
     "execution_count": 20,
     "metadata": {},
     "output_type": "execute_result"
    }
   ],
   "source": [
    "credit.describe()"
   ]
  },
  {
   "cell_type": "code",
   "execution_count": 21,
   "id": "92f6d008",
   "metadata": {},
   "outputs": [
    {
     "data": {
      "text/plain": [
       "Card Type\n",
       "Gold         154631.621800\n",
       "Platinum     157492.813223\n",
       "Signature    157133.721886\n",
       "Silver       156376.273830\n",
       "Name: Amount, dtype: float64"
      ]
     },
     "execution_count": 21,
     "metadata": {},
     "output_type": "execute_result"
    }
   ],
   "source": [
    "credit.groupby('Card Type')['Amount'].mean()"
   ]
  },
  {
   "cell_type": "code",
   "execution_count": 22,
   "id": "34b4100a",
   "metadata": {},
   "outputs": [
    {
     "data": {
      "text/html": [
       "<div>\n",
       "<style scoped>\n",
       "    .dataframe tbody tr th:only-of-type {\n",
       "        vertical-align: middle;\n",
       "    }\n",
       "\n",
       "    .dataframe tbody tr th {\n",
       "        vertical-align: top;\n",
       "    }\n",
       "\n",
       "    .dataframe thead th {\n",
       "        text-align: right;\n",
       "    }\n",
       "</style>\n",
       "<table border=\"1\" class=\"dataframe\">\n",
       "  <thead>\n",
       "    <tr style=\"text-align: right;\">\n",
       "      <th></th>\n",
       "      <th>index</th>\n",
       "      <th>Date</th>\n",
       "      <th>Card Type</th>\n",
       "      <th>Exp Type</th>\n",
       "      <th>Gender</th>\n",
       "      <th>Amount</th>\n",
       "    </tr>\n",
       "    <tr>\n",
       "      <th>City</th>\n",
       "      <th></th>\n",
       "      <th></th>\n",
       "      <th></th>\n",
       "      <th></th>\n",
       "      <th></th>\n",
       "      <th></th>\n",
       "    </tr>\n",
       "  </thead>\n",
       "  <tbody>\n",
       "    <tr>\n",
       "      <th>Achalpur, India</th>\n",
       "      <td>14133</td>\n",
       "      <td>24-Jul-14</td>\n",
       "      <td>Signature</td>\n",
       "      <td>Grocery</td>\n",
       "      <td>M</td>\n",
       "      <td>192579</td>\n",
       "    </tr>\n",
       "    <tr>\n",
       "      <th>Adilabad, India</th>\n",
       "      <td>14894</td>\n",
       "      <td>14-Feb-15</td>\n",
       "      <td>Platinum</td>\n",
       "      <td>Bills</td>\n",
       "      <td>F</td>\n",
       "      <td>278459</td>\n",
       "    </tr>\n",
       "    <tr>\n",
       "      <th>Adityapur, India</th>\n",
       "      <td>14599</td>\n",
       "      <td>17-Sep-14</td>\n",
       "      <td>Gold</td>\n",
       "      <td>Fuel</td>\n",
       "      <td>M</td>\n",
       "      <td>50289</td>\n",
       "    </tr>\n",
       "    <tr>\n",
       "      <th>Adoni, India</th>\n",
       "      <td>14613</td>\n",
       "      <td>25-Jan-15</td>\n",
       "      <td>Platinum</td>\n",
       "      <td>Grocery</td>\n",
       "      <td>F</td>\n",
       "      <td>40082</td>\n",
       "    </tr>\n",
       "    <tr>\n",
       "      <th>Adoor, India</th>\n",
       "      <td>15304</td>\n",
       "      <td>20-Apr-14</td>\n",
       "      <td>Platinum</td>\n",
       "      <td>Fuel</td>\n",
       "      <td>M</td>\n",
       "      <td>250113</td>\n",
       "    </tr>\n",
       "    <tr>\n",
       "      <th>...</th>\n",
       "      <td>...</td>\n",
       "      <td>...</td>\n",
       "      <td>...</td>\n",
       "      <td>...</td>\n",
       "      <td>...</td>\n",
       "      <td>...</td>\n",
       "    </tr>\n",
       "    <tr>\n",
       "      <th>Zaidpur, India</th>\n",
       "      <td>14079</td>\n",
       "      <td>21-Jan-15</td>\n",
       "      <td>Silver</td>\n",
       "      <td>Food</td>\n",
       "      <td>F</td>\n",
       "      <td>7134</td>\n",
       "    </tr>\n",
       "    <tr>\n",
       "      <th>Zamania, India</th>\n",
       "      <td>15280</td>\n",
       "      <td>18-Jul-14</td>\n",
       "      <td>Silver</td>\n",
       "      <td>Entertainment</td>\n",
       "      <td>M</td>\n",
       "      <td>5006</td>\n",
       "    </tr>\n",
       "    <tr>\n",
       "      <th>Zira, India</th>\n",
       "      <td>14063</td>\n",
       "      <td>25-Apr-14</td>\n",
       "      <td>Signature</td>\n",
       "      <td>Entertainment</td>\n",
       "      <td>M</td>\n",
       "      <td>218424</td>\n",
       "    </tr>\n",
       "    <tr>\n",
       "      <th>Zirakpur, India</th>\n",
       "      <td>14567</td>\n",
       "      <td>8-Dec-14</td>\n",
       "      <td>Platinum</td>\n",
       "      <td>Food</td>\n",
       "      <td>M</td>\n",
       "      <td>175566</td>\n",
       "    </tr>\n",
       "    <tr>\n",
       "      <th>Zunheboto, India</th>\n",
       "      <td>15530</td>\n",
       "      <td>4-Nov-13</td>\n",
       "      <td>Signature</td>\n",
       "      <td>Bills</td>\n",
       "      <td>M</td>\n",
       "      <td>89271</td>\n",
       "    </tr>\n",
       "  </tbody>\n",
       "</table>\n",
       "<p>986 rows × 6 columns</p>\n",
       "</div>"
      ],
      "text/plain": [
       "                  index       Date  Card Type       Exp Type Gender  Amount\n",
       "City                                                                       \n",
       "Achalpur, India   14133  24-Jul-14  Signature        Grocery      M  192579\n",
       "Adilabad, India   14894  14-Feb-15   Platinum          Bills      F  278459\n",
       "Adityapur, India  14599  17-Sep-14       Gold           Fuel      M   50289\n",
       "Adoni, India      14613  25-Jan-15   Platinum        Grocery      F   40082\n",
       "Adoor, India      15304  20-Apr-14   Platinum           Fuel      M  250113\n",
       "...                 ...        ...        ...            ...    ...     ...\n",
       "Zaidpur, India    14079  21-Jan-15     Silver           Food      F    7134\n",
       "Zamania, India    15280  18-Jul-14     Silver  Entertainment      M    5006\n",
       "Zira, India       14063  25-Apr-14  Signature  Entertainment      M  218424\n",
       "Zirakpur, India   14567   8-Dec-14   Platinum           Food      M  175566\n",
       "Zunheboto, India  15530   4-Nov-13  Signature          Bills      M   89271\n",
       "\n",
       "[986 rows x 6 columns]"
      ]
     },
     "execution_count": 22,
     "metadata": {},
     "output_type": "execute_result"
    }
   ],
   "source": [
    "g = credit.groupby('City')\n",
    "g.first()"
   ]
  },
  {
   "cell_type": "code",
   "execution_count": 23,
   "id": "1abba8ba",
   "metadata": {},
   "outputs": [
    {
     "data": {
      "text/html": [
       "<div>\n",
       "<style scoped>\n",
       "    .dataframe tbody tr th:only-of-type {\n",
       "        vertical-align: middle;\n",
       "    }\n",
       "\n",
       "    .dataframe tbody tr th {\n",
       "        vertical-align: top;\n",
       "    }\n",
       "\n",
       "    .dataframe thead th {\n",
       "        text-align: right;\n",
       "    }\n",
       "</style>\n",
       "<table border=\"1\" class=\"dataframe\">\n",
       "  <thead>\n",
       "    <tr style=\"text-align: right;\">\n",
       "      <th></th>\n",
       "      <th></th>\n",
       "      <th>index</th>\n",
       "      <th>Date</th>\n",
       "      <th>Exp Type</th>\n",
       "      <th>Gender</th>\n",
       "      <th>Amount</th>\n",
       "    </tr>\n",
       "    <tr>\n",
       "      <th>City</th>\n",
       "      <th>Card Type</th>\n",
       "      <th></th>\n",
       "      <th></th>\n",
       "      <th></th>\n",
       "      <th></th>\n",
       "      <th></th>\n",
       "    </tr>\n",
       "  </thead>\n",
       "  <tbody>\n",
       "    <tr>\n",
       "      <th rowspan=\"4\" valign=\"top\">Achalpur, India</th>\n",
       "      <th>Gold</th>\n",
       "      <td>15170</td>\n",
       "      <td>28-Oct-14</td>\n",
       "      <td>Bills</td>\n",
       "      <td>M</td>\n",
       "      <td>173336</td>\n",
       "    </tr>\n",
       "    <tr>\n",
       "      <th>Platinum</th>\n",
       "      <td>17041</td>\n",
       "      <td>6-Feb-14</td>\n",
       "      <td>Grocery</td>\n",
       "      <td>F</td>\n",
       "      <td>178612</td>\n",
       "    </tr>\n",
       "    <tr>\n",
       "      <th>Signature</th>\n",
       "      <td>14133</td>\n",
       "      <td>24-Jul-14</td>\n",
       "      <td>Grocery</td>\n",
       "      <td>M</td>\n",
       "      <td>192579</td>\n",
       "    </tr>\n",
       "    <tr>\n",
       "      <th>Silver</th>\n",
       "      <td>19373</td>\n",
       "      <td>6-Dec-13</td>\n",
       "      <td>Grocery</td>\n",
       "      <td>F</td>\n",
       "      <td>201032</td>\n",
       "    </tr>\n",
       "    <tr>\n",
       "      <th>Adilabad, India</th>\n",
       "      <th>Gold</th>\n",
       "      <td>19457</td>\n",
       "      <td>20-Feb-15</td>\n",
       "      <td>Grocery</td>\n",
       "      <td>M</td>\n",
       "      <td>49020</td>\n",
       "    </tr>\n",
       "    <tr>\n",
       "      <th>...</th>\n",
       "      <th>...</th>\n",
       "      <td>...</td>\n",
       "      <td>...</td>\n",
       "      <td>...</td>\n",
       "      <td>...</td>\n",
       "      <td>...</td>\n",
       "    </tr>\n",
       "    <tr>\n",
       "      <th rowspan=\"2\" valign=\"top\">Zira, India</th>\n",
       "      <th>Signature</th>\n",
       "      <td>14063</td>\n",
       "      <td>25-Apr-14</td>\n",
       "      <td>Entertainment</td>\n",
       "      <td>M</td>\n",
       "      <td>218424</td>\n",
       "    </tr>\n",
       "    <tr>\n",
       "      <th>Silver</th>\n",
       "      <td>16047</td>\n",
       "      <td>26-Sep-14</td>\n",
       "      <td>Fuel</td>\n",
       "      <td>M</td>\n",
       "      <td>98224</td>\n",
       "    </tr>\n",
       "    <tr>\n",
       "      <th>Zirakpur, India</th>\n",
       "      <th>Platinum</th>\n",
       "      <td>14567</td>\n",
       "      <td>8-Dec-14</td>\n",
       "      <td>Food</td>\n",
       "      <td>M</td>\n",
       "      <td>175566</td>\n",
       "    </tr>\n",
       "    <tr>\n",
       "      <th rowspan=\"2\" valign=\"top\">Zunheboto, India</th>\n",
       "      <th>Signature</th>\n",
       "      <td>15530</td>\n",
       "      <td>4-Nov-13</td>\n",
       "      <td>Bills</td>\n",
       "      <td>M</td>\n",
       "      <td>89271</td>\n",
       "    </tr>\n",
       "    <tr>\n",
       "      <th>Silver</th>\n",
       "      <td>18804</td>\n",
       "      <td>1-Dec-14</td>\n",
       "      <td>Entertainment</td>\n",
       "      <td>F</td>\n",
       "      <td>78591</td>\n",
       "    </tr>\n",
       "  </tbody>\n",
       "</table>\n",
       "<p>3104 rows × 5 columns</p>\n",
       "</div>"
      ],
      "text/plain": [
       "                            index       Date       Exp Type Gender  Amount\n",
       "City             Card Type                                                \n",
       "Achalpur, India  Gold       15170  28-Oct-14          Bills      M  173336\n",
       "                 Platinum   17041   6-Feb-14        Grocery      F  178612\n",
       "                 Signature  14133  24-Jul-14        Grocery      M  192579\n",
       "                 Silver     19373   6-Dec-13        Grocery      F  201032\n",
       "Adilabad, India  Gold       19457  20-Feb-15        Grocery      M   49020\n",
       "...                           ...        ...            ...    ...     ...\n",
       "Zira, India      Signature  14063  25-Apr-14  Entertainment      M  218424\n",
       "                 Silver     16047  26-Sep-14           Fuel      M   98224\n",
       "Zirakpur, India  Platinum   14567   8-Dec-14           Food      M  175566\n",
       "Zunheboto, India Signature  15530   4-Nov-13          Bills      M   89271\n",
       "                 Silver     18804   1-Dec-14  Entertainment      F   78591\n",
       "\n",
       "[3104 rows x 5 columns]"
      ]
     },
     "execution_count": 23,
     "metadata": {},
     "output_type": "execute_result"
    }
   ],
   "source": [
    "g = credit.groupby(['City', 'Card Type'])\n",
    "g.first()"
   ]
  },
  {
   "cell_type": "code",
   "execution_count": 24,
   "id": "f8d5a6e1",
   "metadata": {},
   "outputs": [
    {
     "data": {
      "text/html": [
       "<div>\n",
       "<style scoped>\n",
       "    .dataframe tbody tr th:only-of-type {\n",
       "        vertical-align: middle;\n",
       "    }\n",
       "\n",
       "    .dataframe tbody tr th {\n",
       "        vertical-align: top;\n",
       "    }\n",
       "\n",
       "    .dataframe thead th {\n",
       "        text-align: right;\n",
       "    }\n",
       "</style>\n",
       "<table border=\"1\" class=\"dataframe\">\n",
       "  <thead>\n",
       "    <tr style=\"text-align: right;\">\n",
       "      <th></th>\n",
       "      <th>school_code</th>\n",
       "      <th>class</th>\n",
       "      <th>name</th>\n",
       "      <th>date_Of_Birth</th>\n",
       "      <th>age</th>\n",
       "      <th>height</th>\n",
       "      <th>weight</th>\n",
       "      <th>address</th>\n",
       "    </tr>\n",
       "  </thead>\n",
       "  <tbody>\n",
       "    <tr>\n",
       "      <th>S1</th>\n",
       "      <td>s001</td>\n",
       "      <td>V</td>\n",
       "      <td>Alberto Franco</td>\n",
       "      <td>15/05/2002</td>\n",
       "      <td>12</td>\n",
       "      <td>173</td>\n",
       "      <td>35</td>\n",
       "      <td>street1</td>\n",
       "    </tr>\n",
       "    <tr>\n",
       "      <th>S2</th>\n",
       "      <td>s002</td>\n",
       "      <td>V</td>\n",
       "      <td>Gino Mcneill</td>\n",
       "      <td>17/05/2002</td>\n",
       "      <td>12</td>\n",
       "      <td>192</td>\n",
       "      <td>32</td>\n",
       "      <td>street2</td>\n",
       "    </tr>\n",
       "    <tr>\n",
       "      <th>S3</th>\n",
       "      <td>s003</td>\n",
       "      <td>VI</td>\n",
       "      <td>Ryan Parkes</td>\n",
       "      <td>16/02/1999</td>\n",
       "      <td>13</td>\n",
       "      <td>186</td>\n",
       "      <td>33</td>\n",
       "      <td>street3</td>\n",
       "    </tr>\n",
       "    <tr>\n",
       "      <th>S4</th>\n",
       "      <td>s001</td>\n",
       "      <td>VI</td>\n",
       "      <td>Eesha Hinton</td>\n",
       "      <td>25/09/1998</td>\n",
       "      <td>13</td>\n",
       "      <td>167</td>\n",
       "      <td>30</td>\n",
       "      <td>street1</td>\n",
       "    </tr>\n",
       "    <tr>\n",
       "      <th>S5</th>\n",
       "      <td>s002</td>\n",
       "      <td>V</td>\n",
       "      <td>Gino Mcneill</td>\n",
       "      <td>11/05/2002</td>\n",
       "      <td>14</td>\n",
       "      <td>151</td>\n",
       "      <td>31</td>\n",
       "      <td>street2</td>\n",
       "    </tr>\n",
       "    <tr>\n",
       "      <th>S6</th>\n",
       "      <td>s004</td>\n",
       "      <td>VI</td>\n",
       "      <td>David Parkes</td>\n",
       "      <td>15/09/1997</td>\n",
       "      <td>12</td>\n",
       "      <td>159</td>\n",
       "      <td>32</td>\n",
       "      <td>street4</td>\n",
       "    </tr>\n",
       "  </tbody>\n",
       "</table>\n",
       "</div>"
      ],
      "text/plain": [
       "   school_code class            name date_Of_Birth   age  height  weight  \\\n",
       "S1        s001     V  Alberto Franco     15/05/2002   12     173      35   \n",
       "S2        s002     V    Gino Mcneill     17/05/2002   12     192      32   \n",
       "S3        s003    VI     Ryan Parkes     16/02/1999   13     186      33   \n",
       "S4        s001    VI    Eesha Hinton     25/09/1998   13     167      30   \n",
       "S5        s002     V    Gino Mcneill     11/05/2002   14     151      31   \n",
       "S6        s004    VI    David Parkes     15/09/1997   12     159      32   \n",
       "\n",
       "    address  \n",
       "S1  street1  \n",
       "S2  street2  \n",
       "S3  street3  \n",
       "S4  street1  \n",
       "S5  street2  \n",
       "S6  street4  "
      ]
     },
     "execution_count": 24,
     "metadata": {},
     "output_type": "execute_result"
    }
   ],
   "source": [
    "student_data = pd.DataFrame({\n",
    "    'school_code': ['s001','s002','s003','s001','s002','s004'],\n",
    "    'class': ['V', 'V', 'VI', 'VI', 'V', 'VI'],\n",
    "    'name': ['Alberto Franco','Gino Mcneill','Ryan Parkes', 'Eesha Hinton', 'Gino Mcneill', 'David Parkes'],\n",
    "    'date_Of_Birth ': ['15/05/2002','17/05/2002','16/02/1999','25/09/1998','11/05/2002','15/09/1997'],\n",
    "    'age': [12, 12, 13, 13, 14, 12],\n",
    "    'height': [173, 192, 186, 167, 151, 159],\n",
    "    'weight': [35, 32, 33, 30, 31, 32],\n",
    "    'address': ['street1', 'street2', 'street3', 'street1', 'street2', 'street4']},\n",
    "    index=['S1', 'S2', 'S3', 'S4', 'S5', 'S6'])\n",
    "student_data"
   ]
  },
  {
   "cell_type": "code",
   "execution_count": 26,
   "id": "71dde566",
   "metadata": {},
   "outputs": [],
   "source": [
    "result = student_data.groupby(['school_code'])"
   ]
  },
  {
   "cell_type": "code",
   "execution_count": 30,
   "id": "871bf1a6",
   "metadata": {},
   "outputs": [
    {
     "name": "stdout",
     "output_type": "stream",
     "text": [
      "s001\n",
      "   school_code class            name date_Of_Birth   age  height  weight  \\\n",
      "S1        s001     V  Alberto Franco     15/05/2002   12     173      35   \n",
      "S4        s001    VI    Eesha Hinton     25/09/1998   13     167      30   \n",
      "\n",
      "    address  \n",
      "S1  street1  \n",
      "S4  street1  \n",
      "<class 'pandas.core.groupby.generic.DataFrameGroupBy'>\n",
      "s002\n",
      "   school_code class          name date_Of_Birth   age  height  weight  \\\n",
      "S2        s002     V  Gino Mcneill     17/05/2002   12     192      32   \n",
      "S5        s002     V  Gino Mcneill     11/05/2002   14     151      31   \n",
      "\n",
      "    address  \n",
      "S2  street2  \n",
      "S5  street2  \n",
      "<class 'pandas.core.groupby.generic.DataFrameGroupBy'>\n",
      "s003\n",
      "   school_code class         name date_Of_Birth   age  height  weight  address\n",
      "S3        s003    VI  Ryan Parkes     16/02/1999   13     186      33  street3\n",
      "<class 'pandas.core.groupby.generic.DataFrameGroupBy'>\n",
      "s004\n",
      "   school_code class          name date_Of_Birth   age  height  weight  \\\n",
      "S6        s004    VI  David Parkes     15/09/1997   12     159      32   \n",
      "\n",
      "    address  \n",
      "S6  street4  \n",
      "<class 'pandas.core.groupby.generic.DataFrameGroupBy'>\n"
     ]
    }
   ],
   "source": [
    "for name, group in result:\n",
    "    print(name)\n",
    "    print(group)\n",
    "    print(type(result))"
   ]
  },
  {
   "cell_type": "code",
   "execution_count": 31,
   "id": "0fe0eba5",
   "metadata": {},
   "outputs": [],
   "source": [
    "#Write a Pandas program to split the following dataframe by school code and get mean, min, and max value of age for each school."
   ]
  },
  {
   "cell_type": "code",
   "execution_count": 32,
   "id": "94bdabf8",
   "metadata": {},
   "outputs": [
    {
     "data": {
      "text/html": [
       "<div>\n",
       "<style scoped>\n",
       "    .dataframe tbody tr th:only-of-type {\n",
       "        vertical-align: middle;\n",
       "    }\n",
       "\n",
       "    .dataframe tbody tr th {\n",
       "        vertical-align: top;\n",
       "    }\n",
       "\n",
       "    .dataframe thead th {\n",
       "        text-align: right;\n",
       "    }\n",
       "</style>\n",
       "<table border=\"1\" class=\"dataframe\">\n",
       "  <thead>\n",
       "    <tr style=\"text-align: right;\">\n",
       "      <th></th>\n",
       "      <th>mean</th>\n",
       "      <th>min</th>\n",
       "      <th>max</th>\n",
       "    </tr>\n",
       "    <tr>\n",
       "      <th>school_code</th>\n",
       "      <th></th>\n",
       "      <th></th>\n",
       "      <th></th>\n",
       "    </tr>\n",
       "  </thead>\n",
       "  <tbody>\n",
       "    <tr>\n",
       "      <th>s001</th>\n",
       "      <td>12.5</td>\n",
       "      <td>12</td>\n",
       "      <td>13</td>\n",
       "    </tr>\n",
       "    <tr>\n",
       "      <th>s002</th>\n",
       "      <td>13.0</td>\n",
       "      <td>12</td>\n",
       "      <td>14</td>\n",
       "    </tr>\n",
       "    <tr>\n",
       "      <th>s003</th>\n",
       "      <td>13.0</td>\n",
       "      <td>13</td>\n",
       "      <td>13</td>\n",
       "    </tr>\n",
       "    <tr>\n",
       "      <th>s004</th>\n",
       "      <td>12.0</td>\n",
       "      <td>12</td>\n",
       "      <td>12</td>\n",
       "    </tr>\n",
       "  </tbody>\n",
       "</table>\n",
       "</div>"
      ],
      "text/plain": [
       "             mean  min  max\n",
       "school_code                \n",
       "s001         12.5   12   13\n",
       "s002         13.0   12   14\n",
       "s003         13.0   13   13\n",
       "s004         12.0   12   12"
      ]
     },
     "execution_count": 32,
     "metadata": {},
     "output_type": "execute_result"
    }
   ],
   "source": [
    "student_data.groupby('school_code')['age'].agg(['mean', 'min', 'max'])"
   ]
  },
  {
   "cell_type": "code",
   "execution_count": 33,
   "id": "d0fa3fc8",
   "metadata": {},
   "outputs": [
    {
     "data": {
      "text/html": [
       "<div>\n",
       "<style scoped>\n",
       "    .dataframe tbody tr th:only-of-type {\n",
       "        vertical-align: middle;\n",
       "    }\n",
       "\n",
       "    .dataframe tbody tr th {\n",
       "        vertical-align: top;\n",
       "    }\n",
       "\n",
       "    .dataframe thead tr th {\n",
       "        text-align: left;\n",
       "    }\n",
       "\n",
       "    .dataframe thead tr:last-of-type th {\n",
       "        text-align: right;\n",
       "    }\n",
       "</style>\n",
       "<table border=\"1\" class=\"dataframe\">\n",
       "  <thead>\n",
       "    <tr>\n",
       "      <th></th>\n",
       "      <th colspan=\"3\" halign=\"left\">weight</th>\n",
       "    </tr>\n",
       "    <tr>\n",
       "      <th></th>\n",
       "      <th>mean</th>\n",
       "      <th>min</th>\n",
       "      <th>max</th>\n",
       "    </tr>\n",
       "    <tr>\n",
       "      <th>school_code</th>\n",
       "      <th></th>\n",
       "      <th></th>\n",
       "      <th></th>\n",
       "    </tr>\n",
       "  </thead>\n",
       "  <tbody>\n",
       "    <tr>\n",
       "      <th>s001</th>\n",
       "      <td>32.5</td>\n",
       "      <td>30</td>\n",
       "      <td>35</td>\n",
       "    </tr>\n",
       "    <tr>\n",
       "      <th>s002</th>\n",
       "      <td>31.5</td>\n",
       "      <td>31</td>\n",
       "      <td>32</td>\n",
       "    </tr>\n",
       "    <tr>\n",
       "      <th>s003</th>\n",
       "      <td>33.0</td>\n",
       "      <td>33</td>\n",
       "      <td>33</td>\n",
       "    </tr>\n",
       "    <tr>\n",
       "      <th>s004</th>\n",
       "      <td>32.0</td>\n",
       "      <td>32</td>\n",
       "      <td>32</td>\n",
       "    </tr>\n",
       "  </tbody>\n",
       "</table>\n",
       "</div>"
      ],
      "text/plain": [
       "            weight        \n",
       "              mean min max\n",
       "school_code               \n",
       "s001          32.5  30  35\n",
       "s002          31.5  31  32\n",
       "s003          33.0  33  33\n",
       "s004          32.0  32  32"
      ]
     },
     "execution_count": 33,
     "metadata": {},
     "output_type": "execute_result"
    }
   ],
   "source": [
    "student_data.groupby('school_code').agg({'weight':['mean', 'min', 'max']})"
   ]
  },
  {
   "cell_type": "code",
   "execution_count": 34,
   "id": "03e6c8fe",
   "metadata": {},
   "outputs": [],
   "source": [
    "result1 = student_data.groupby(['school_code', 'class'])"
   ]
  },
  {
   "cell_type": "code",
   "execution_count": 35,
   "id": "6e99925d",
   "metadata": {},
   "outputs": [
    {
     "name": "stdout",
     "output_type": "stream",
     "text": [
      "('s001', 'V')\n",
      "   school_code class            name date_Of_Birth   age  height  weight  \\\n",
      "S1        s001     V  Alberto Franco     15/05/2002   12     173      35   \n",
      "\n",
      "    address  \n",
      "S1  street1  \n",
      "('s001', 'VI')\n",
      "   school_code class          name date_Of_Birth   age  height  weight  \\\n",
      "S4        s001    VI  Eesha Hinton     25/09/1998   13     167      30   \n",
      "\n",
      "    address  \n",
      "S4  street1  \n",
      "('s002', 'V')\n",
      "   school_code class          name date_Of_Birth   age  height  weight  \\\n",
      "S2        s002     V  Gino Mcneill     17/05/2002   12     192      32   \n",
      "S5        s002     V  Gino Mcneill     11/05/2002   14     151      31   \n",
      "\n",
      "    address  \n",
      "S2  street2  \n",
      "S5  street2  \n",
      "('s003', 'VI')\n",
      "   school_code class         name date_Of_Birth   age  height  weight  address\n",
      "S3        s003    VI  Ryan Parkes     16/02/1999   13     186      33  street3\n",
      "('s004', 'VI')\n",
      "   school_code class          name date_Of_Birth   age  height  weight  \\\n",
      "S6        s004    VI  David Parkes     15/09/1997   12     159      32   \n",
      "\n",
      "    address  \n",
      "S6  street4  \n"
     ]
    }
   ],
   "source": [
    "for name, group in result1:\n",
    "    print(name)\n",
    "    print(group)"
   ]
  },
  {
   "cell_type": "code",
   "execution_count": 37,
   "id": "9a5af0c6",
   "metadata": {},
   "outputs": [
    {
     "name": "stdout",
     "output_type": "stream",
     "text": [
      "[('s001',    school_code class            name date_Of_Birth   age  height  weight  \\\n",
      "S1        s001     V  Alberto Franco     15/05/2002   12     173      35   \n",
      "S4        s001    VI    Eesha Hinton     25/09/1998   13     167      30   \n",
      "\n",
      "    address  \n",
      "S1  street1  \n",
      "S4  street1  ), ('s002',    school_code class          name date_Of_Birth   age  height  weight  \\\n",
      "S2        s002     V  Gino Mcneill     17/05/2002   12     192      32   \n",
      "S5        s002     V  Gino Mcneill     11/05/2002   14     151      31   \n",
      "\n",
      "    address  \n",
      "S2  street2  \n",
      "S5  street2  ), ('s003',    school_code class         name date_Of_Birth   age  height  weight  address\n",
      "S3        s003    VI  Ryan Parkes     16/02/1999   13     186      33  street3), ('s004',    school_code class          name date_Of_Birth   age  height  weight  \\\n",
      "S6        s004    VI  David Parkes     15/09/1997   12     159      32   \n",
      "\n",
      "    address  \n",
      "S6  street4  )]\n"
     ]
    }
   ],
   "source": [
    "result = student_data.groupby('school_code')\n",
    "print(list(result))"
   ]
  },
  {
   "cell_type": "code",
   "execution_count": 38,
   "id": "e887a7bc",
   "metadata": {},
   "outputs": [
    {
     "name": "stdout",
     "output_type": "stream",
     "text": [
      "school_code\n",
      "s001    2\n",
      "s002    2\n",
      "s003    1\n",
      "s004    1\n",
      "dtype: int64\n"
     ]
    }
   ],
   "source": [
    "grouped_single = student_data.groupby('school_code')\n",
    "print(grouped_single.size())"
   ]
  },
  {
   "cell_type": "code",
   "execution_count": 39,
   "id": "dc2b72c5",
   "metadata": {},
   "outputs": [
    {
     "name": "stdout",
     "output_type": "stream",
     "text": [
      "school_code  class\n",
      "s001         V        1\n",
      "             VI       1\n",
      "s002         V        2\n",
      "s003         VI       1\n",
      "s004         VI       1\n",
      "dtype: int64\n"
     ]
    }
   ],
   "source": [
    "grouped_mul = student_data.groupby(['school_code', 'class'])\n",
    "print(grouped_mul.size())"
   ]
  },
  {
   "cell_type": "code",
   "execution_count": 40,
   "id": "def9eca3",
   "metadata": {},
   "outputs": [],
   "source": [
    "# ../../Downloads/BigMartSales.csv"
   ]
  },
  {
   "cell_type": "code",
   "execution_count": 42,
   "id": "bc6b5272",
   "metadata": {},
   "outputs": [],
   "source": [
    "df = pd.read_csv(\"../../Downloads/BigMartSales.csv\")"
   ]
  },
  {
   "cell_type": "code",
   "execution_count": 43,
   "id": "ebc287e7",
   "metadata": {},
   "outputs": [
    {
     "data": {
      "text/html": [
       "<div>\n",
       "<style scoped>\n",
       "    .dataframe tbody tr th:only-of-type {\n",
       "        vertical-align: middle;\n",
       "    }\n",
       "\n",
       "    .dataframe tbody tr th {\n",
       "        vertical-align: top;\n",
       "    }\n",
       "\n",
       "    .dataframe thead th {\n",
       "        text-align: right;\n",
       "    }\n",
       "</style>\n",
       "<table border=\"1\" class=\"dataframe\">\n",
       "  <thead>\n",
       "    <tr style=\"text-align: right;\">\n",
       "      <th></th>\n",
       "      <th>Item_Identifier</th>\n",
       "      <th>Item_Weight</th>\n",
       "      <th>Item_Fat_Content</th>\n",
       "      <th>Item_Visibility</th>\n",
       "      <th>Item_Type</th>\n",
       "      <th>Item_MRP</th>\n",
       "      <th>Outlet_Identifier</th>\n",
       "      <th>Outlet_Establishment_Year</th>\n",
       "      <th>Outlet_Size</th>\n",
       "      <th>Outlet_Location_Type</th>\n",
       "      <th>Outlet_Type</th>\n",
       "      <th>Item_Outlet_Sales</th>\n",
       "    </tr>\n",
       "  </thead>\n",
       "  <tbody>\n",
       "    <tr>\n",
       "      <th>0</th>\n",
       "      <td>FDA15</td>\n",
       "      <td>9.30</td>\n",
       "      <td>Low Fat</td>\n",
       "      <td>0.016047</td>\n",
       "      <td>Dairy</td>\n",
       "      <td>249.8092</td>\n",
       "      <td>OUT049</td>\n",
       "      <td>1999</td>\n",
       "      <td>Medium</td>\n",
       "      <td>Tier 1</td>\n",
       "      <td>Supermarket Type1</td>\n",
       "      <td>3735.1380</td>\n",
       "    </tr>\n",
       "    <tr>\n",
       "      <th>1</th>\n",
       "      <td>DRC01</td>\n",
       "      <td>5.92</td>\n",
       "      <td>Regular</td>\n",
       "      <td>0.019278</td>\n",
       "      <td>Soft Drinks</td>\n",
       "      <td>48.2692</td>\n",
       "      <td>OUT018</td>\n",
       "      <td>2009</td>\n",
       "      <td>Medium</td>\n",
       "      <td>Tier 3</td>\n",
       "      <td>Supermarket Type2</td>\n",
       "      <td>443.4228</td>\n",
       "    </tr>\n",
       "    <tr>\n",
       "      <th>2</th>\n",
       "      <td>FDN15</td>\n",
       "      <td>17.50</td>\n",
       "      <td>Low Fat</td>\n",
       "      <td>0.016760</td>\n",
       "      <td>Meat</td>\n",
       "      <td>141.6180</td>\n",
       "      <td>OUT049</td>\n",
       "      <td>1999</td>\n",
       "      <td>Medium</td>\n",
       "      <td>Tier 1</td>\n",
       "      <td>Supermarket Type1</td>\n",
       "      <td>2097.2700</td>\n",
       "    </tr>\n",
       "    <tr>\n",
       "      <th>3</th>\n",
       "      <td>FDX07</td>\n",
       "      <td>19.20</td>\n",
       "      <td>Regular</td>\n",
       "      <td>0.000000</td>\n",
       "      <td>Fruits and Vegetables</td>\n",
       "      <td>182.0950</td>\n",
       "      <td>OUT010</td>\n",
       "      <td>1998</td>\n",
       "      <td>NaN</td>\n",
       "      <td>Tier 3</td>\n",
       "      <td>Grocery Store</td>\n",
       "      <td>732.3800</td>\n",
       "    </tr>\n",
       "    <tr>\n",
       "      <th>4</th>\n",
       "      <td>NCD19</td>\n",
       "      <td>8.93</td>\n",
       "      <td>Low Fat</td>\n",
       "      <td>0.000000</td>\n",
       "      <td>Household</td>\n",
       "      <td>53.8614</td>\n",
       "      <td>OUT013</td>\n",
       "      <td>1987</td>\n",
       "      <td>High</td>\n",
       "      <td>Tier 3</td>\n",
       "      <td>Supermarket Type1</td>\n",
       "      <td>994.7052</td>\n",
       "    </tr>\n",
       "  </tbody>\n",
       "</table>\n",
       "</div>"
      ],
      "text/plain": [
       "  Item_Identifier  Item_Weight Item_Fat_Content  Item_Visibility  \\\n",
       "0           FDA15         9.30          Low Fat         0.016047   \n",
       "1           DRC01         5.92          Regular         0.019278   \n",
       "2           FDN15        17.50          Low Fat         0.016760   \n",
       "3           FDX07        19.20          Regular         0.000000   \n",
       "4           NCD19         8.93          Low Fat         0.000000   \n",
       "\n",
       "               Item_Type  Item_MRP Outlet_Identifier  \\\n",
       "0                  Dairy  249.8092            OUT049   \n",
       "1            Soft Drinks   48.2692            OUT018   \n",
       "2                   Meat  141.6180            OUT049   \n",
       "3  Fruits and Vegetables  182.0950            OUT010   \n",
       "4              Household   53.8614            OUT013   \n",
       "\n",
       "   Outlet_Establishment_Year Outlet_Size Outlet_Location_Type  \\\n",
       "0                       1999      Medium               Tier 1   \n",
       "1                       2009      Medium               Tier 3   \n",
       "2                       1999      Medium               Tier 1   \n",
       "3                       1998         NaN               Tier 3   \n",
       "4                       1987        High               Tier 3   \n",
       "\n",
       "         Outlet_Type  Item_Outlet_Sales  \n",
       "0  Supermarket Type1          3735.1380  \n",
       "1  Supermarket Type2           443.4228  \n",
       "2  Supermarket Type1          2097.2700  \n",
       "3      Grocery Store           732.3800  \n",
       "4  Supermarket Type1           994.7052  "
      ]
     },
     "execution_count": 43,
     "metadata": {},
     "output_type": "execute_result"
    }
   ],
   "source": [
    "df.head()"
   ]
  },
  {
   "cell_type": "code",
   "execution_count": 46,
   "id": "1a1586a0",
   "metadata": {},
   "outputs": [
    {
     "data": {
      "text/html": [
       "<div>\n",
       "<style scoped>\n",
       "    .dataframe tbody tr th:only-of-type {\n",
       "        vertical-align: middle;\n",
       "    }\n",
       "\n",
       "    .dataframe tbody tr th {\n",
       "        vertical-align: top;\n",
       "    }\n",
       "\n",
       "    .dataframe thead th {\n",
       "        text-align: right;\n",
       "    }\n",
       "</style>\n",
       "<table border=\"1\" class=\"dataframe\">\n",
       "  <thead>\n",
       "    <tr style=\"text-align: right;\">\n",
       "      <th></th>\n",
       "      <th>Item_Identifier</th>\n",
       "      <th>Item_Weight</th>\n",
       "      <th>Item_Fat_Content</th>\n",
       "      <th>Item_Visibility</th>\n",
       "      <th>Item_Type</th>\n",
       "      <th>Item_MRP</th>\n",
       "      <th>Outlet_Identifier</th>\n",
       "      <th>Outlet_Establishment_Year</th>\n",
       "      <th>Outlet_Size</th>\n",
       "      <th>Outlet_Type</th>\n",
       "      <th>Item_Outlet_Sales</th>\n",
       "    </tr>\n",
       "    <tr>\n",
       "      <th>Outlet_Location_Type</th>\n",
       "      <th></th>\n",
       "      <th></th>\n",
       "      <th></th>\n",
       "      <th></th>\n",
       "      <th></th>\n",
       "      <th></th>\n",
       "      <th></th>\n",
       "      <th></th>\n",
       "      <th></th>\n",
       "      <th></th>\n",
       "      <th></th>\n",
       "    </tr>\n",
       "  </thead>\n",
       "  <tbody>\n",
       "    <tr>\n",
       "      <th>Tier 1</th>\n",
       "      <td>2388</td>\n",
       "      <td>1860</td>\n",
       "      <td>2388</td>\n",
       "      <td>2388</td>\n",
       "      <td>2388</td>\n",
       "      <td>2388</td>\n",
       "      <td>2388</td>\n",
       "      <td>2388</td>\n",
       "      <td>2388</td>\n",
       "      <td>2388</td>\n",
       "      <td>2388</td>\n",
       "    </tr>\n",
       "    <tr>\n",
       "      <th>Tier 2</th>\n",
       "      <td>2785</td>\n",
       "      <td>2785</td>\n",
       "      <td>2785</td>\n",
       "      <td>2785</td>\n",
       "      <td>2785</td>\n",
       "      <td>2785</td>\n",
       "      <td>2785</td>\n",
       "      <td>2785</td>\n",
       "      <td>930</td>\n",
       "      <td>2785</td>\n",
       "      <td>2785</td>\n",
       "    </tr>\n",
       "    <tr>\n",
       "      <th>Tier 3</th>\n",
       "      <td>3350</td>\n",
       "      <td>2415</td>\n",
       "      <td>3350</td>\n",
       "      <td>3350</td>\n",
       "      <td>3350</td>\n",
       "      <td>3350</td>\n",
       "      <td>3350</td>\n",
       "      <td>3350</td>\n",
       "      <td>2795</td>\n",
       "      <td>3350</td>\n",
       "      <td>3350</td>\n",
       "    </tr>\n",
       "  </tbody>\n",
       "</table>\n",
       "</div>"
      ],
      "text/plain": [
       "                      Item_Identifier  Item_Weight  Item_Fat_Content  \\\n",
       "Outlet_Location_Type                                                   \n",
       "Tier 1                           2388         1860              2388   \n",
       "Tier 2                           2785         2785              2785   \n",
       "Tier 3                           3350         2415              3350   \n",
       "\n",
       "                      Item_Visibility  Item_Type  Item_MRP  Outlet_Identifier  \\\n",
       "Outlet_Location_Type                                                            \n",
       "Tier 1                           2388       2388      2388               2388   \n",
       "Tier 2                           2785       2785      2785               2785   \n",
       "Tier 3                           3350       3350      3350               3350   \n",
       "\n",
       "                      Outlet_Establishment_Year  Outlet_Size  Outlet_Type  \\\n",
       "Outlet_Location_Type                                                        \n",
       "Tier 1                                     2388         2388         2388   \n",
       "Tier 2                                     2785          930         2785   \n",
       "Tier 3                                     3350         2795         3350   \n",
       "\n",
       "                      Item_Outlet_Sales  \n",
       "Outlet_Location_Type                     \n",
       "Tier 1                             2388  \n",
       "Tier 2                             2785  \n",
       "Tier 3                             3350  "
      ]
     },
     "execution_count": 46,
     "metadata": {},
     "output_type": "execute_result"
    }
   ],
   "source": [
    "df.groupby('Outlet_Location_Type').count()"
   ]
  },
  {
   "cell_type": "code",
   "execution_count": 47,
   "id": "df495bfc",
   "metadata": {},
   "outputs": [
    {
     "data": {
      "text/plain": [
       "Outlet_Location_Type\n",
       "Tier 1    4.482059e+06\n",
       "Tier 2    6.472314e+06\n",
       "Tier 3    7.636753e+06\n",
       "Name: Item_Outlet_Sales, dtype: float64"
      ]
     },
     "execution_count": 47,
     "metadata": {},
     "output_type": "execute_result"
    }
   ],
   "source": [
    "df.groupby('Outlet_Location_Type')['Item_Outlet_Sales'].sum()"
   ]
  },
  {
   "cell_type": "code",
   "execution_count": 48,
   "id": "f93b5f6e",
   "metadata": {},
   "outputs": [],
   "source": [
    "obj = df.groupby('Outlet_Location_Type')"
   ]
  },
  {
   "cell_type": "code",
   "execution_count": 49,
   "id": "bd7ff95b",
   "metadata": {},
   "outputs": [
    {
     "data": {
      "text/plain": [
       "{'Tier 1': [0, 2, 10, 11, 12, 13, 15, 17, 23, 24, 29, 34, 35, 40, 42, 48, 49, 50, 57, 58, 59, 63, 69, 70, 74, 75, 76, 77, 80, 81, 83, 88, 89, 91, 95, 96, 99, 102, 108, 110, 112, 115, 126, 131, 135, 143, 145, 154, 163, 164, 178, 182, 186, 187, 189, 190, 191, 195, 196, 197, 204, 206, 208, 220, 222, 225, 227, 234, 236, 248, 250, 252, 255, 270, 274, 284, 289, 295, 297, 299, 301, 308, 311, 312, 321, 324, 334, 336, 344, 345, 346, 347, 348, 353, 354, 355, 356, 358, 361, 363, ...], 'Tier 2': [8, 9, 19, 22, 25, 26, 33, 46, 47, 53, 54, 56, 61, 66, 67, 68, 72, 73, 78, 79, 85, 86, 92, 93, 94, 97, 100, 107, 111, 114, 116, 117, 118, 120, 121, 123, 124, 125, 127, 129, 137, 138, 140, 141, 142, 144, 146, 147, 148, 149, 150, 157, 158, 165, 166, 170, 171, 176, 179, 181, 188, 192, 200, 201, 202, 207, 210, 211, 212, 213, 219, 221, 223, 228, 232, 233, 240, 241, 242, 243, 244, 245, 247, 249, 254, 256, 258, 259, 261, 262, 263, 264, 268, 273, 277, 281, 283, 285, 288, 290, ...], 'Tier 3': [1, 3, 4, 5, 6, 7, 14, 16, 18, 20, 21, 27, 28, 30, 31, 32, 36, 37, 38, 39, 41, 43, 44, 45, 51, 52, 55, 60, 62, 64, 65, 71, 82, 84, 87, 90, 98, 101, 103, 104, 105, 106, 109, 113, 119, 122, 128, 130, 132, 133, 134, 136, 139, 151, 152, 153, 155, 156, 159, 160, 161, 162, 167, 168, 169, 172, 173, 174, 175, 177, 180, 183, 184, 185, 193, 194, 198, 199, 203, 205, 209, 214, 215, 216, 217, 218, 224, 226, 229, 230, 231, 235, 237, 238, 239, 246, 251, 253, 257, 260, ...]}"
      ]
     },
     "execution_count": 49,
     "metadata": {},
     "output_type": "execute_result"
    }
   ],
   "source": [
    "obj.groups"
   ]
  },
  {
   "cell_type": "code",
   "execution_count": 51,
   "id": "263451af",
   "metadata": {},
   "outputs": [
    {
     "data": {
      "text/html": [
       "<div>\n",
       "<style scoped>\n",
       "    .dataframe tbody tr th:only-of-type {\n",
       "        vertical-align: middle;\n",
       "    }\n",
       "\n",
       "    .dataframe tbody tr th {\n",
       "        vertical-align: top;\n",
       "    }\n",
       "\n",
       "    .dataframe thead th {\n",
       "        text-align: right;\n",
       "    }\n",
       "</style>\n",
       "<table border=\"1\" class=\"dataframe\">\n",
       "  <thead>\n",
       "    <tr style=\"text-align: right;\">\n",
       "      <th></th>\n",
       "      <th>Item_Identifier</th>\n",
       "      <th>Item_Weight</th>\n",
       "      <th>Item_Fat_Content</th>\n",
       "      <th>Item_Visibility</th>\n",
       "      <th>Item_Type</th>\n",
       "      <th>Item_MRP</th>\n",
       "      <th>Outlet_Identifier</th>\n",
       "      <th>Outlet_Establishment_Year</th>\n",
       "      <th>Outlet_Size</th>\n",
       "      <th>Outlet_Location_Type</th>\n",
       "      <th>Outlet_Type</th>\n",
       "      <th>Item_Outlet_Sales</th>\n",
       "    </tr>\n",
       "  </thead>\n",
       "  <tbody>\n",
       "    <tr>\n",
       "      <th>0</th>\n",
       "      <td>FDA15</td>\n",
       "      <td>9.30</td>\n",
       "      <td>Low Fat</td>\n",
       "      <td>0.016047</td>\n",
       "      <td>Dairy</td>\n",
       "      <td>249.8092</td>\n",
       "      <td>OUT049</td>\n",
       "      <td>1999</td>\n",
       "      <td>Medium</td>\n",
       "      <td>Tier 1</td>\n",
       "      <td>Supermarket Type1</td>\n",
       "      <td>3735.1380</td>\n",
       "    </tr>\n",
       "    <tr>\n",
       "      <th>2</th>\n",
       "      <td>FDN15</td>\n",
       "      <td>17.50</td>\n",
       "      <td>Low Fat</td>\n",
       "      <td>0.016760</td>\n",
       "      <td>Meat</td>\n",
       "      <td>141.6180</td>\n",
       "      <td>OUT049</td>\n",
       "      <td>1999</td>\n",
       "      <td>Medium</td>\n",
       "      <td>Tier 1</td>\n",
       "      <td>Supermarket Type1</td>\n",
       "      <td>2097.2700</td>\n",
       "    </tr>\n",
       "    <tr>\n",
       "      <th>10</th>\n",
       "      <td>FDY07</td>\n",
       "      <td>11.80</td>\n",
       "      <td>Low Fat</td>\n",
       "      <td>0.000000</td>\n",
       "      <td>Fruits and Vegetables</td>\n",
       "      <td>45.5402</td>\n",
       "      <td>OUT049</td>\n",
       "      <td>1999</td>\n",
       "      <td>Medium</td>\n",
       "      <td>Tier 1</td>\n",
       "      <td>Supermarket Type1</td>\n",
       "      <td>1516.0266</td>\n",
       "    </tr>\n",
       "    <tr>\n",
       "      <th>11</th>\n",
       "      <td>FDA03</td>\n",
       "      <td>18.50</td>\n",
       "      <td>Regular</td>\n",
       "      <td>0.045464</td>\n",
       "      <td>Dairy</td>\n",
       "      <td>144.1102</td>\n",
       "      <td>OUT046</td>\n",
       "      <td>1997</td>\n",
       "      <td>Small</td>\n",
       "      <td>Tier 1</td>\n",
       "      <td>Supermarket Type1</td>\n",
       "      <td>2187.1530</td>\n",
       "    </tr>\n",
       "    <tr>\n",
       "      <th>12</th>\n",
       "      <td>FDX32</td>\n",
       "      <td>15.10</td>\n",
       "      <td>Regular</td>\n",
       "      <td>0.100014</td>\n",
       "      <td>Fruits and Vegetables</td>\n",
       "      <td>145.4786</td>\n",
       "      <td>OUT049</td>\n",
       "      <td>1999</td>\n",
       "      <td>Medium</td>\n",
       "      <td>Tier 1</td>\n",
       "      <td>Supermarket Type1</td>\n",
       "      <td>1589.2646</td>\n",
       "    </tr>\n",
       "    <tr>\n",
       "      <th>...</th>\n",
       "      <td>...</td>\n",
       "      <td>...</td>\n",
       "      <td>...</td>\n",
       "      <td>...</td>\n",
       "      <td>...</td>\n",
       "      <td>...</td>\n",
       "      <td>...</td>\n",
       "      <td>...</td>\n",
       "      <td>...</td>\n",
       "      <td>...</td>\n",
       "      <td>...</td>\n",
       "      <td>...</td>\n",
       "    </tr>\n",
       "    <tr>\n",
       "      <th>8480</th>\n",
       "      <td>FDQ58</td>\n",
       "      <td>NaN</td>\n",
       "      <td>Low Fat</td>\n",
       "      <td>0.000000</td>\n",
       "      <td>Snack Foods</td>\n",
       "      <td>154.5340</td>\n",
       "      <td>OUT019</td>\n",
       "      <td>1985</td>\n",
       "      <td>Small</td>\n",
       "      <td>Tier 1</td>\n",
       "      <td>Grocery Store</td>\n",
       "      <td>459.4020</td>\n",
       "    </tr>\n",
       "    <tr>\n",
       "      <th>8490</th>\n",
       "      <td>FDU44</td>\n",
       "      <td>NaN</td>\n",
       "      <td>Regular</td>\n",
       "      <td>0.102296</td>\n",
       "      <td>Fruits and Vegetables</td>\n",
       "      <td>162.3552</td>\n",
       "      <td>OUT019</td>\n",
       "      <td>1985</td>\n",
       "      <td>Small</td>\n",
       "      <td>Tier 1</td>\n",
       "      <td>Grocery Store</td>\n",
       "      <td>487.3656</td>\n",
       "    </tr>\n",
       "    <tr>\n",
       "      <th>8492</th>\n",
       "      <td>FDT34</td>\n",
       "      <td>9.30</td>\n",
       "      <td>Low Fat</td>\n",
       "      <td>0.174350</td>\n",
       "      <td>Snack Foods</td>\n",
       "      <td>104.4964</td>\n",
       "      <td>OUT046</td>\n",
       "      <td>1997</td>\n",
       "      <td>Small</td>\n",
       "      <td>Tier 1</td>\n",
       "      <td>Supermarket Type1</td>\n",
       "      <td>2419.5172</td>\n",
       "    </tr>\n",
       "    <tr>\n",
       "      <th>8517</th>\n",
       "      <td>FDF53</td>\n",
       "      <td>20.75</td>\n",
       "      <td>reg</td>\n",
       "      <td>0.083607</td>\n",
       "      <td>Frozen Foods</td>\n",
       "      <td>178.8318</td>\n",
       "      <td>OUT046</td>\n",
       "      <td>1997</td>\n",
       "      <td>Small</td>\n",
       "      <td>Tier 1</td>\n",
       "      <td>Supermarket Type1</td>\n",
       "      <td>3608.6360</td>\n",
       "    </tr>\n",
       "    <tr>\n",
       "      <th>8522</th>\n",
       "      <td>DRG01</td>\n",
       "      <td>14.80</td>\n",
       "      <td>Low Fat</td>\n",
       "      <td>0.044878</td>\n",
       "      <td>Soft Drinks</td>\n",
       "      <td>75.4670</td>\n",
       "      <td>OUT046</td>\n",
       "      <td>1997</td>\n",
       "      <td>Small</td>\n",
       "      <td>Tier 1</td>\n",
       "      <td>Supermarket Type1</td>\n",
       "      <td>765.6700</td>\n",
       "    </tr>\n",
       "  </tbody>\n",
       "</table>\n",
       "<p>2388 rows × 12 columns</p>\n",
       "</div>"
      ],
      "text/plain": [
       "     Item_Identifier  Item_Weight Item_Fat_Content  Item_Visibility  \\\n",
       "0              FDA15         9.30          Low Fat         0.016047   \n",
       "2              FDN15        17.50          Low Fat         0.016760   \n",
       "10             FDY07        11.80          Low Fat         0.000000   \n",
       "11             FDA03        18.50          Regular         0.045464   \n",
       "12             FDX32        15.10          Regular         0.100014   \n",
       "...              ...          ...              ...              ...   \n",
       "8480           FDQ58          NaN          Low Fat         0.000000   \n",
       "8490           FDU44          NaN          Regular         0.102296   \n",
       "8492           FDT34         9.30          Low Fat         0.174350   \n",
       "8517           FDF53        20.75              reg         0.083607   \n",
       "8522           DRG01        14.80          Low Fat         0.044878   \n",
       "\n",
       "                  Item_Type  Item_MRP Outlet_Identifier  \\\n",
       "0                     Dairy  249.8092            OUT049   \n",
       "2                      Meat  141.6180            OUT049   \n",
       "10    Fruits and Vegetables   45.5402            OUT049   \n",
       "11                    Dairy  144.1102            OUT046   \n",
       "12    Fruits and Vegetables  145.4786            OUT049   \n",
       "...                     ...       ...               ...   \n",
       "8480            Snack Foods  154.5340            OUT019   \n",
       "8490  Fruits and Vegetables  162.3552            OUT019   \n",
       "8492            Snack Foods  104.4964            OUT046   \n",
       "8517           Frozen Foods  178.8318            OUT046   \n",
       "8522            Soft Drinks   75.4670            OUT046   \n",
       "\n",
       "      Outlet_Establishment_Year Outlet_Size Outlet_Location_Type  \\\n",
       "0                          1999      Medium               Tier 1   \n",
       "2                          1999      Medium               Tier 1   \n",
       "10                         1999      Medium               Tier 1   \n",
       "11                         1997       Small               Tier 1   \n",
       "12                         1999      Medium               Tier 1   \n",
       "...                         ...         ...                  ...   \n",
       "8480                       1985       Small               Tier 1   \n",
       "8490                       1985       Small               Tier 1   \n",
       "8492                       1997       Small               Tier 1   \n",
       "8517                       1997       Small               Tier 1   \n",
       "8522                       1997       Small               Tier 1   \n",
       "\n",
       "            Outlet_Type  Item_Outlet_Sales  \n",
       "0     Supermarket Type1          3735.1380  \n",
       "2     Supermarket Type1          2097.2700  \n",
       "10    Supermarket Type1          1516.0266  \n",
       "11    Supermarket Type1          2187.1530  \n",
       "12    Supermarket Type1          1589.2646  \n",
       "...                 ...                ...  \n",
       "8480      Grocery Store           459.4020  \n",
       "8490      Grocery Store           487.3656  \n",
       "8492  Supermarket Type1          2419.5172  \n",
       "8517  Supermarket Type1          3608.6360  \n",
       "8522  Supermarket Type1           765.6700  \n",
       "\n",
       "[2388 rows x 12 columns]"
      ]
     },
     "execution_count": 51,
     "metadata": {},
     "output_type": "execute_result"
    }
   ],
   "source": [
    "obj.get_group('Tier 1')"
   ]
  },
  {
   "cell_type": "code",
   "execution_count": 53,
   "id": "65a8e0bc",
   "metadata": {},
   "outputs": [
    {
     "data": {
      "text/plain": [
       "datetime.datetime(2024, 1, 20, 0, 0)"
      ]
     },
     "execution_count": 53,
     "metadata": {},
     "output_type": "execute_result"
    }
   ],
   "source": [
    "import datetime\n",
    "from datetime import datetime\n",
    "datetime(2024, 1, 20)"
   ]
  },
  {
   "cell_type": "code",
   "execution_count": 54,
   "id": "739665fc",
   "metadata": {},
   "outputs": [
    {
     "data": {
      "text/plain": [
       "datetime.datetime(2011, 1, 11, 21, 20)"
      ]
     },
     "execution_count": 54,
     "metadata": {},
     "output_type": "execute_result"
    }
   ],
   "source": [
    "datetime(2011, 1, 11, 21, 20)"
   ]
  },
  {
   "cell_type": "code",
   "execution_count": 55,
   "id": "b57055b8",
   "metadata": {},
   "outputs": [
    {
     "data": {
      "text/plain": [
       "datetime.datetime(2023, 1, 27, 13, 40, 52, 652624)"
      ]
     },
     "execution_count": 55,
     "metadata": {},
     "output_type": "execute_result"
    }
   ],
   "source": [
    "datetime.now()"
   ]
  },
  {
   "cell_type": "code",
   "execution_count": 57,
   "id": "541590da",
   "metadata": {},
   "outputs": [
    {
     "data": {
      "text/plain": [
       "datetime.date(2023, 1, 27)"
      ]
     },
     "execution_count": 57,
     "metadata": {},
     "output_type": "execute_result"
    }
   ],
   "source": [
    "datetime.now().date()"
   ]
  },
  {
   "cell_type": "code",
   "execution_count": 58,
   "id": "2bc7da83",
   "metadata": {},
   "outputs": [
    {
     "data": {
      "text/plain": [
       "datetime.time(13, 48, 49, 325478)"
      ]
     },
     "execution_count": 58,
     "metadata": {},
     "output_type": "execute_result"
    }
   ],
   "source": [
    "datetime.now().time()"
   ]
  },
  {
   "cell_type": "code",
   "execution_count": 59,
   "id": "83ea85d8",
   "metadata": {},
   "outputs": [
    {
     "data": {
      "text/plain": [
       "datetime.time(18, 12)"
      ]
     },
     "execution_count": 59,
     "metadata": {},
     "output_type": "execute_result"
    }
   ],
   "source": [
    "datetime.time(datetime(2012, 12, 15, 18, 12))"
   ]
  },
  {
   "cell_type": "code",
   "execution_count": 60,
   "id": "67d20e12",
   "metadata": {},
   "outputs": [
    {
     "data": {
      "text/plain": [
       "datetime.date(2012, 12, 15)"
      ]
     },
     "execution_count": 60,
     "metadata": {},
     "output_type": "execute_result"
    }
   ],
   "source": [
    "datetime.date(datetime(2012, 12, 15, 18, 12))"
   ]
  },
  {
   "cell_type": "code",
   "execution_count": 61,
   "id": "352b7b3d",
   "metadata": {},
   "outputs": [
    {
     "data": {
      "text/plain": [
       "datetime.datetime(2016, 12, 27, 0, 0)"
      ]
     },
     "execution_count": 61,
     "metadata": {},
     "output_type": "execute_result"
    }
   ],
   "source": [
    "datetime(2016, 12, 27)"
   ]
  },
  {
   "cell_type": "code",
   "execution_count": 62,
   "id": "0a56429a",
   "metadata": {},
   "outputs": [
    {
     "data": {
      "text/plain": [
       "datetime.datetime(2023, 1, 27, 13, 56, 4, 126845)"
      ]
     },
     "execution_count": 62,
     "metadata": {},
     "output_type": "execute_result"
    }
   ],
   "source": [
    "datetime.now()"
   ]
  },
  {
   "cell_type": "code",
   "execution_count": 63,
   "id": "87d24146",
   "metadata": {},
   "outputs": [
    {
     "data": {
      "text/plain": [
       "Timestamp('2016-11-06 00:00:00')"
      ]
     },
     "execution_count": 63,
     "metadata": {},
     "output_type": "execute_result"
    }
   ],
   "source": [
    "pd.Timestamp('2016-11-6')"
   ]
  },
  {
   "cell_type": "code",
   "execution_count": 66,
   "id": "384b2fe3",
   "metadata": {},
   "outputs": [
    {
     "data": {
      "text/plain": [
       "Timestamp('2023-01-27 11:30:00')"
      ]
     },
     "execution_count": 66,
     "metadata": {},
     "output_type": "execute_result"
    }
   ],
   "source": [
    "pd.Timestamp('11:30')"
   ]
  },
  {
   "cell_type": "code",
   "execution_count": 67,
   "id": "f9c518a6",
   "metadata": {},
   "outputs": [
    {
     "data": {
      "text/plain": [
       "Timestamp('2023-01-27 18:58:01.336224')"
      ]
     },
     "execution_count": 67,
     "metadata": {},
     "output_type": "execute_result"
    }
   ],
   "source": [
    "pd.Timestamp('now')"
   ]
  },
  {
   "cell_type": "code",
   "execution_count": 68,
   "id": "05ec64d1",
   "metadata": {},
   "outputs": [],
   "source": [
    "date1 = datetime(year=2020, month=12, day=6)"
   ]
  },
  {
   "cell_type": "code",
   "execution_count": 69,
   "id": "7ff150fe",
   "metadata": {},
   "outputs": [
    {
     "data": {
      "text/plain": [
       "datetime.datetime(2020, 12, 6, 0, 0)"
      ]
     },
     "execution_count": 69,
     "metadata": {},
     "output_type": "execute_result"
    }
   ],
   "source": [
    "date1"
   ]
  },
  {
   "cell_type": "code",
   "execution_count": 152,
   "id": "c6a29d0d",
   "metadata": {},
   "outputs": [
    {
     "data": {
      "text/plain": [
       "datetime.datetime(2023, 1, 28, 0, 0)"
      ]
     },
     "execution_count": 152,
     "metadata": {},
     "output_type": "execute_result"
    }
   ],
   "source": [
    "today= datetime(2023, 1, 28)\n",
    "today"
   ]
  },
  {
   "cell_type": "code",
   "execution_count": 155,
   "id": "b19d7e43",
   "metadata": {},
   "outputs": [],
   "source": [
    "tomorrow = today + pd.Timedelta(days=20)"
   ]
  },
  {
   "cell_type": "code",
   "execution_count": 156,
   "id": "24eb4f19",
   "metadata": {},
   "outputs": [
    {
     "data": {
      "text/plain": [
       "datetime.datetime(2023, 2, 17, 0, 0)"
      ]
     },
     "execution_count": 156,
     "metadata": {},
     "output_type": "execute_result"
    }
   ],
   "source": [
    "tomorrow"
   ]
  },
  {
   "cell_type": "code",
   "execution_count": 157,
   "id": "4f150398",
   "metadata": {},
   "outputs": [],
   "source": [
    "yesterday = today - pd.Timedelta(days=20)"
   ]
  },
  {
   "cell_type": "code",
   "execution_count": 158,
   "id": "e8136313",
   "metadata": {},
   "outputs": [
    {
     "data": {
      "text/plain": [
       "datetime.datetime(2023, 1, 8, 0, 0)"
      ]
     },
     "execution_count": 158,
     "metadata": {},
     "output_type": "execute_result"
    }
   ],
   "source": [
    "yesterday"
   ]
  },
  {
   "cell_type": "code",
   "execution_count": 81,
   "id": "dde3dc94",
   "metadata": {},
   "outputs": [],
   "source": [
    "date1 = datetime(2023, 1, 20)\n",
    "date2 = datetime(2023, 1, 10)"
   ]
  },
  {
   "cell_type": "code",
   "execution_count": 82,
   "id": "41addef4",
   "metadata": {},
   "outputs": [
    {
     "data": {
      "text/plain": [
       "datetime.timedelta(days=10)"
      ]
     },
     "execution_count": 82,
     "metadata": {},
     "output_type": "execute_result"
    }
   ],
   "source": [
    "date1 - date2"
   ]
  },
  {
   "cell_type": "code",
   "execution_count": 83,
   "id": "f29c3e43",
   "metadata": {},
   "outputs": [],
   "source": [
    "import numpy as np"
   ]
  },
  {
   "cell_type": "code",
   "execution_count": 86,
   "id": "ee3db5e5",
   "metadata": {},
   "outputs": [
    {
     "data": {
      "text/plain": [
       "array([0.03676494, 0.53719648])"
      ]
     },
     "execution_count": 86,
     "metadata": {},
     "output_type": "execute_result"
    }
   ],
   "source": [
    "np.random.rand(2)"
   ]
  },
  {
   "cell_type": "code",
   "execution_count": 87,
   "id": "b559f6c1",
   "metadata": {},
   "outputs": [],
   "source": [
    "dates = [datetime(2022, 1, 20), datetime(2022, 1, 30)]"
   ]
  },
  {
   "cell_type": "code",
   "execution_count": 88,
   "id": "d51bd42e",
   "metadata": {},
   "outputs": [],
   "source": [
    "time_series = pd.Series(np.random.rand(2), dates)"
   ]
  },
  {
   "cell_type": "code",
   "execution_count": 89,
   "id": "cf0edba0",
   "metadata": {},
   "outputs": [
    {
     "data": {
      "text/plain": [
       "2022-01-20    0.052998\n",
       "2022-01-30    0.757179\n",
       "dtype: float64"
      ]
     },
     "execution_count": 89,
     "metadata": {},
     "output_type": "execute_result"
    }
   ],
   "source": [
    "time_series"
   ]
  },
  {
   "cell_type": "code",
   "execution_count": 92,
   "id": "55f63412",
   "metadata": {},
   "outputs": [],
   "source": [
    "dates = ['2022-1-20', '2012-1-5', '2013-1-20']\n",
    "timeseries = pd.Series(np.random.rand(3), dates)"
   ]
  },
  {
   "cell_type": "code",
   "execution_count": 93,
   "id": "1428d1b2",
   "metadata": {},
   "outputs": [
    {
     "data": {
      "text/plain": [
       "2022-1-20    0.945563\n",
       "2012-1-5     0.200321\n",
       "2013-1-20    0.359211\n",
       "dtype: float64"
      ]
     },
     "execution_count": 93,
     "metadata": {},
     "output_type": "execute_result"
    }
   ],
   "source": [
    "timeseries"
   ]
  },
  {
   "cell_type": "code",
   "execution_count": 94,
   "id": "3c310e1f",
   "metadata": {},
   "outputs": [],
   "source": [
    "data = {'Gender':['m','f','f','m','f','m','m'],'Height':[172,171,169,173,170,175,178]}"
   ]
  },
  {
   "cell_type": "code",
   "execution_count": 96,
   "id": "f70414ce",
   "metadata": {},
   "outputs": [],
   "source": [
    "df1 = pd.DataFrame(data)"
   ]
  },
  {
   "cell_type": "code",
   "execution_count": 97,
   "id": "5c0003f1",
   "metadata": {},
   "outputs": [
    {
     "data": {
      "text/html": [
       "<div>\n",
       "<style scoped>\n",
       "    .dataframe tbody tr th:only-of-type {\n",
       "        vertical-align: middle;\n",
       "    }\n",
       "\n",
       "    .dataframe tbody tr th {\n",
       "        vertical-align: top;\n",
       "    }\n",
       "\n",
       "    .dataframe thead th {\n",
       "        text-align: right;\n",
       "    }\n",
       "</style>\n",
       "<table border=\"1\" class=\"dataframe\">\n",
       "  <thead>\n",
       "    <tr style=\"text-align: right;\">\n",
       "      <th></th>\n",
       "      <th>Gender</th>\n",
       "      <th>Height</th>\n",
       "    </tr>\n",
       "  </thead>\n",
       "  <tbody>\n",
       "    <tr>\n",
       "      <th>0</th>\n",
       "      <td>m</td>\n",
       "      <td>172</td>\n",
       "    </tr>\n",
       "    <tr>\n",
       "      <th>1</th>\n",
       "      <td>f</td>\n",
       "      <td>171</td>\n",
       "    </tr>\n",
       "    <tr>\n",
       "      <th>2</th>\n",
       "      <td>f</td>\n",
       "      <td>169</td>\n",
       "    </tr>\n",
       "    <tr>\n",
       "      <th>3</th>\n",
       "      <td>m</td>\n",
       "      <td>173</td>\n",
       "    </tr>\n",
       "    <tr>\n",
       "      <th>4</th>\n",
       "      <td>f</td>\n",
       "      <td>170</td>\n",
       "    </tr>\n",
       "    <tr>\n",
       "      <th>5</th>\n",
       "      <td>m</td>\n",
       "      <td>175</td>\n",
       "    </tr>\n",
       "    <tr>\n",
       "      <th>6</th>\n",
       "      <td>m</td>\n",
       "      <td>178</td>\n",
       "    </tr>\n",
       "  </tbody>\n",
       "</table>\n",
       "</div>"
      ],
      "text/plain": [
       "  Gender  Height\n",
       "0      m     172\n",
       "1      f     171\n",
       "2      f     169\n",
       "3      m     173\n",
       "4      f     170\n",
       "5      m     175\n",
       "6      m     178"
      ]
     },
     "execution_count": 97,
     "metadata": {},
     "output_type": "execute_result"
    }
   ],
   "source": [
    "df1\n"
   ]
  },
  {
   "cell_type": "code",
   "execution_count": 98,
   "id": "794d5e6d",
   "metadata": {},
   "outputs": [
    {
     "data": {
      "text/html": [
       "<div>\n",
       "<style scoped>\n",
       "    .dataframe tbody tr th:only-of-type {\n",
       "        vertical-align: middle;\n",
       "    }\n",
       "\n",
       "    .dataframe tbody tr th {\n",
       "        vertical-align: top;\n",
       "    }\n",
       "\n",
       "    .dataframe thead th {\n",
       "        text-align: right;\n",
       "    }\n",
       "</style>\n",
       "<table border=\"1\" class=\"dataframe\">\n",
       "  <thead>\n",
       "    <tr style=\"text-align: right;\">\n",
       "      <th></th>\n",
       "      <th>Height</th>\n",
       "    </tr>\n",
       "    <tr>\n",
       "      <th>Gender</th>\n",
       "      <th></th>\n",
       "    </tr>\n",
       "  </thead>\n",
       "  <tbody>\n",
       "    <tr>\n",
       "      <th>f</th>\n",
       "      <td>3</td>\n",
       "    </tr>\n",
       "    <tr>\n",
       "      <th>m</th>\n",
       "      <td>4</td>\n",
       "    </tr>\n",
       "  </tbody>\n",
       "</table>\n",
       "</div>"
      ],
      "text/plain": [
       "        Height\n",
       "Gender        \n",
       "f            3\n",
       "m            4"
      ]
     },
     "execution_count": 98,
     "metadata": {},
     "output_type": "execute_result"
    }
   ],
   "source": [
    "df1.groupby(\"Gender\").count()"
   ]
  },
  {
   "cell_type": "code",
   "execution_count": 102,
   "id": "943644cc",
   "metadata": {},
   "outputs": [
    {
     "data": {
      "text/html": [
       "<div>\n",
       "<style scoped>\n",
       "    .dataframe tbody tr th:only-of-type {\n",
       "        vertical-align: middle;\n",
       "    }\n",
       "\n",
       "    .dataframe tbody tr th {\n",
       "        vertical-align: top;\n",
       "    }\n",
       "\n",
       "    .dataframe thead th {\n",
       "        text-align: right;\n",
       "    }\n",
       "</style>\n",
       "<table border=\"1\" class=\"dataframe\">\n",
       "  <thead>\n",
       "    <tr style=\"text-align: right;\">\n",
       "      <th></th>\n",
       "      <th>Height</th>\n",
       "    </tr>\n",
       "    <tr>\n",
       "      <th>Gender</th>\n",
       "      <th></th>\n",
       "    </tr>\n",
       "  </thead>\n",
       "  <tbody>\n",
       "    <tr>\n",
       "      <th>f</th>\n",
       "      <td>170.0</td>\n",
       "    </tr>\n",
       "    <tr>\n",
       "      <th>m</th>\n",
       "      <td>174.5</td>\n",
       "    </tr>\n",
       "  </tbody>\n",
       "</table>\n",
       "</div>"
      ],
      "text/plain": [
       "        Height\n",
       "Gender        \n",
       "f        170.0\n",
       "m        174.5"
      ]
     },
     "execution_count": 102,
     "metadata": {},
     "output_type": "execute_result"
    }
   ],
   "source": [
    "df1.groupby(\"Gender\").mean()"
   ]
  },
  {
   "cell_type": "code",
   "execution_count": 103,
   "id": "4600cc5f",
   "metadata": {},
   "outputs": [
    {
     "data": {
      "text/plain": [
       "datetime.datetime(2023, 1, 28, 10, 41, 30, 65919)"
      ]
     },
     "execution_count": 103,
     "metadata": {},
     "output_type": "execute_result"
    }
   ],
   "source": [
    "datetime.now()"
   ]
  },
  {
   "cell_type": "code",
   "execution_count": 105,
   "id": "702125cf",
   "metadata": {},
   "outputs": [
    {
     "data": {
      "text/plain": [
       "datetime.datetime(2022, 11, 27, 10, 20)"
      ]
     },
     "execution_count": 105,
     "metadata": {},
     "output_type": "execute_result"
    }
   ],
   "source": [
    "datetime(2022, 11, 27, 10, 20)"
   ]
  },
  {
   "cell_type": "code",
   "execution_count": 106,
   "id": "84c6364e",
   "metadata": {},
   "outputs": [
    {
     "data": {
      "text/plain": [
       "datetime.date(2023, 1, 28)"
      ]
     },
     "execution_count": 106,
     "metadata": {},
     "output_type": "execute_result"
    }
   ],
   "source": [
    "datetime.now().date()"
   ]
  },
  {
   "cell_type": "code",
   "execution_count": 107,
   "id": "b74faa57",
   "metadata": {},
   "outputs": [
    {
     "data": {
      "text/plain": [
       "datetime.time(10, 42, 57, 743093)"
      ]
     },
     "execution_count": 107,
     "metadata": {},
     "output_type": "execute_result"
    }
   ],
   "source": [
    "datetime.now().time()"
   ]
  },
  {
   "cell_type": "code",
   "execution_count": 109,
   "id": "194ccb40",
   "metadata": {},
   "outputs": [
    {
     "data": {
      "text/plain": [
       "Timestamp('2022-02-06 00:00:00')"
      ]
     },
     "execution_count": 109,
     "metadata": {},
     "output_type": "execute_result"
    }
   ],
   "source": [
    "pd.Timestamp('2022-2-6')"
   ]
  },
  {
   "cell_type": "code",
   "execution_count": 110,
   "id": "dcb8df9b",
   "metadata": {},
   "outputs": [
    {
     "data": {
      "text/plain": [
       "Timestamp('2023-01-28 11:20:00')"
      ]
     },
     "execution_count": 110,
     "metadata": {},
     "output_type": "execute_result"
    }
   ],
   "source": [
    "pd.Timestamp('11:20')"
   ]
  },
  {
   "cell_type": "code",
   "execution_count": 111,
   "id": "1b3f98bf",
   "metadata": {},
   "outputs": [
    {
     "data": {
      "text/plain": [
       "Timestamp('2023-01-28 10:45:25.912742')"
      ]
     },
     "execution_count": 111,
     "metadata": {},
     "output_type": "execute_result"
    }
   ],
   "source": [
    "pd.Timestamp('now')"
   ]
  },
  {
   "cell_type": "code",
   "execution_count": 113,
   "id": "19261c6f",
   "metadata": {},
   "outputs": [],
   "source": [
    "date1 = datetime(year=2022, month=12, day=12)"
   ]
  },
  {
   "cell_type": "code",
   "execution_count": 114,
   "id": "0b6f971f",
   "metadata": {},
   "outputs": [
    {
     "data": {
      "text/plain": [
       "datetime.datetime(2022, 12, 12, 0, 0)"
      ]
     },
     "execution_count": 114,
     "metadata": {},
     "output_type": "execute_result"
    }
   ],
   "source": [
    "date1"
   ]
  },
  {
   "cell_type": "code",
   "execution_count": 115,
   "id": "77bbc0df",
   "metadata": {},
   "outputs": [],
   "source": [
    "from dateutil import parser"
   ]
  },
  {
   "cell_type": "code",
   "execution_count": 116,
   "id": "8833e1b1",
   "metadata": {},
   "outputs": [
    {
     "data": {
      "text/plain": [
       "datetime.datetime(2023, 1, 1, 0, 0)"
      ]
     },
     "execution_count": 116,
     "metadata": {},
     "output_type": "execute_result"
    }
   ],
   "source": [
    "date2 = parser.parse(\"1st of january 2023\")\n",
    "date2"
   ]
  },
  {
   "cell_type": "code",
   "execution_count": 117,
   "id": "22dffd63",
   "metadata": {},
   "outputs": [],
   "source": [
    "today = datetime(2023, 1, 28)\n",
    "tomorrow = today + pd.Timedelta(days=1)"
   ]
  },
  {
   "cell_type": "code",
   "execution_count": 118,
   "id": "c05f4ffc",
   "metadata": {},
   "outputs": [
    {
     "data": {
      "text/plain": [
       "datetime.datetime(2023, 1, 29, 0, 0)"
      ]
     },
     "execution_count": 118,
     "metadata": {},
     "output_type": "execute_result"
    }
   ],
   "source": [
    "tomorrow"
   ]
  },
  {
   "cell_type": "code",
   "execution_count": 119,
   "id": "df5a288e",
   "metadata": {},
   "outputs": [],
   "source": [
    "yesterday = today - pd.Timedelta(days=2)"
   ]
  },
  {
   "cell_type": "code",
   "execution_count": 120,
   "id": "97dd7104",
   "metadata": {},
   "outputs": [
    {
     "data": {
      "text/plain": [
       "datetime.datetime(2023, 1, 26, 0, 0)"
      ]
     },
     "execution_count": 120,
     "metadata": {},
     "output_type": "execute_result"
    }
   ],
   "source": [
    "yesterday"
   ]
  },
  {
   "cell_type": "code",
   "execution_count": 121,
   "id": "dda05a73",
   "metadata": {},
   "outputs": [],
   "source": [
    "d1 = datetime(2022, 1, 23)\n",
    "d2 = datetime(2022, 1, 13)"
   ]
  },
  {
   "cell_type": "code",
   "execution_count": 122,
   "id": "af6ca889",
   "metadata": {},
   "outputs": [
    {
     "data": {
      "text/plain": [
       "datetime.timedelta(days=10)"
      ]
     },
     "execution_count": 122,
     "metadata": {},
     "output_type": "execute_result"
    }
   ],
   "source": [
    "d1-d2"
   ]
  },
  {
   "cell_type": "code",
   "execution_count": 123,
   "id": "9e101be1",
   "metadata": {},
   "outputs": [],
   "source": [
    "dates = [datetime(2022, 12, 6), datetime(2022, 12, 10)]\n",
    "time_series = pd.Series(np.random.randn(2), dates)"
   ]
  },
  {
   "cell_type": "code",
   "execution_count": 124,
   "id": "d0c578f8",
   "metadata": {},
   "outputs": [
    {
     "data": {
      "text/plain": [
       "2022-12-06    2.017402\n",
       "2022-12-10   -1.071754\n",
       "dtype: float64"
      ]
     },
     "execution_count": 124,
     "metadata": {},
     "output_type": "execute_result"
    }
   ],
   "source": [
    "time_series"
   ]
  },
  {
   "cell_type": "code",
   "execution_count": 125,
   "id": "3b635516",
   "metadata": {},
   "outputs": [],
   "source": [
    "dates = ['2020-1-20', '2021-1-25', '2022-1-30', '2023-1-4']\n",
    "time_series = pd.Series(np.random.randn(4), dates)"
   ]
  },
  {
   "cell_type": "code",
   "execution_count": 126,
   "id": "60593760",
   "metadata": {},
   "outputs": [
    {
     "data": {
      "text/plain": [
       "2020-1-20    1.472020\n",
       "2021-1-25   -2.385120\n",
       "2022-1-30   -0.239433\n",
       "2023-1-4    -1.643167\n",
       "dtype: float64"
      ]
     },
     "execution_count": 126,
     "metadata": {},
     "output_type": "execute_result"
    }
   ],
   "source": [
    "time_series"
   ]
  },
  {
   "cell_type": "code",
   "execution_count": 127,
   "id": "325e3b7d",
   "metadata": {},
   "outputs": [],
   "source": [
    "#Write a Pandas program to create a time series object that has time indexed data. Also select the dates of same year and select the dates between certain dates."
   ]
  },
  {
   "cell_type": "code",
   "execution_count": 129,
   "id": "9bb0c622",
   "metadata": {},
   "outputs": [],
   "source": [
    "index = pd.DatetimeIndex(['2011-09-02', '2012-08-04',\n",
    "                          '2015-09-03', '2010-08-04',\n",
    "                          '2015-03-03', '2011-08-04',\n",
    "                          '2015-04-03', '2012-08-04'])"
   ]
  },
  {
   "cell_type": "code",
   "execution_count": 131,
   "id": "4bfc4822",
   "metadata": {},
   "outputs": [],
   "source": [
    "sd = pd.Series([0, 1, 2, 3, 4, 5, 6, 7], index = index)"
   ]
  },
  {
   "cell_type": "code",
   "execution_count": 132,
   "id": "b0d025fc",
   "metadata": {},
   "outputs": [
    {
     "data": {
      "text/plain": [
       "2011-09-02    0\n",
       "2012-08-04    1\n",
       "2015-09-03    2\n",
       "2010-08-04    3\n",
       "2015-03-03    4\n",
       "2011-08-04    5\n",
       "2015-04-03    6\n",
       "2012-08-04    7\n",
       "dtype: int64"
      ]
     },
     "execution_count": 132,
     "metadata": {},
     "output_type": "execute_result"
    }
   ],
   "source": [
    "sd"
   ]
  },
  {
   "cell_type": "code",
   "execution_count": 133,
   "id": "32747225",
   "metadata": {},
   "outputs": [
    {
     "data": {
      "text/plain": [
       "2015-09-03    2\n",
       "2015-03-03    4\n",
       "2015-04-03    6\n",
       "dtype: int64"
      ]
     },
     "execution_count": 133,
     "metadata": {},
     "output_type": "execute_result"
    }
   ],
   "source": [
    "sd['2015']"
   ]
  },
  {
   "cell_type": "code",
   "execution_count": 134,
   "id": "243e43b9",
   "metadata": {},
   "outputs": [
    {
     "name": "stderr",
     "output_type": "stream",
     "text": [
      "C:\\Users\\Lenovo\\AppData\\Local\\Temp\\ipykernel_1100\\2519756932.py:1: FutureWarning: Value based partial slicing on non-monotonic DatetimeIndexes with non-existing keys is deprecated and will raise a KeyError in a future Version.\n",
      "  sd['2012-1-1':'2012-12-30']\n"
     ]
    },
    {
     "data": {
      "text/plain": [
       "2012-08-04    1\n",
       "2012-08-04    7\n",
       "dtype: int64"
      ]
     },
     "execution_count": 134,
     "metadata": {},
     "output_type": "execute_result"
    }
   ],
   "source": [
    "sd['2012-1-1':'2012-12-30']"
   ]
  },
  {
   "cell_type": "code",
   "execution_count": 135,
   "id": "af51b959",
   "metadata": {},
   "outputs": [],
   "source": [
    "date_range = pd.date_range('2020-1-1', periods=42)"
   ]
  },
  {
   "cell_type": "code",
   "execution_count": 136,
   "id": "a633985e",
   "metadata": {},
   "outputs": [
    {
     "data": {
      "text/plain": [
       "DatetimeIndex(['2020-01-01', '2020-01-02', '2020-01-03', '2020-01-04',\n",
       "               '2020-01-05', '2020-01-06', '2020-01-07', '2020-01-08',\n",
       "               '2020-01-09', '2020-01-10', '2020-01-11', '2020-01-12',\n",
       "               '2020-01-13', '2020-01-14', '2020-01-15', '2020-01-16',\n",
       "               '2020-01-17', '2020-01-18', '2020-01-19', '2020-01-20',\n",
       "               '2020-01-21', '2020-01-22', '2020-01-23', '2020-01-24',\n",
       "               '2020-01-25', '2020-01-26', '2020-01-27', '2020-01-28',\n",
       "               '2020-01-29', '2020-01-30', '2020-01-31', '2020-02-01',\n",
       "               '2020-02-02', '2020-02-03', '2020-02-04', '2020-02-05',\n",
       "               '2020-02-06', '2020-02-07', '2020-02-08', '2020-02-09',\n",
       "               '2020-02-10', '2020-02-11'],\n",
       "              dtype='datetime64[ns]', freq='D')"
      ]
     },
     "execution_count": 136,
     "metadata": {},
     "output_type": "execute_result"
    }
   ],
   "source": [
    "date_range"
   ]
  },
  {
   "cell_type": "code",
   "execution_count": 137,
   "id": "5fcb769e",
   "metadata": {},
   "outputs": [
    {
     "data": {
      "text/plain": [
       "0    2020-01-01\n",
       "1    2020-01-02\n",
       "2    2020-01-03\n",
       "3    2020-01-04\n",
       "4    2020-01-05\n",
       "5    2020-01-06\n",
       "6    2020-01-07\n",
       "7    2020-01-08\n",
       "8    2020-01-09\n",
       "9    2020-01-10\n",
       "10   2020-01-11\n",
       "11   2020-01-12\n",
       "12   2020-01-13\n",
       "13   2020-01-14\n",
       "14   2020-01-15\n",
       "15   2020-01-16\n",
       "16   2020-01-17\n",
       "17   2020-01-18\n",
       "18   2020-01-19\n",
       "19   2020-01-20\n",
       "20   2020-01-21\n",
       "21   2020-01-22\n",
       "22   2020-01-23\n",
       "23   2020-01-24\n",
       "24   2020-01-25\n",
       "25   2020-01-26\n",
       "26   2020-01-27\n",
       "27   2020-01-28\n",
       "28   2020-01-29\n",
       "29   2020-01-30\n",
       "30   2020-01-31\n",
       "dtype: datetime64[ns]"
      ]
     },
     "execution_count": 137,
     "metadata": {},
     "output_type": "execute_result"
    }
   ],
   "source": [
    "dates = pd.Series(pd.date_range('2020-1-1', periods=31, freq='D'))\n",
    "dates"
   ]
  },
  {
   "cell_type": "code",
   "execution_count": 138,
   "id": "166fcba7",
   "metadata": {},
   "outputs": [
    {
     "data": {
      "text/plain": [
       "Timestamp('2020-01-01 00:00:00')"
      ]
     },
     "execution_count": 138,
     "metadata": {},
     "output_type": "execute_result"
    }
   ],
   "source": [
    "dates.min()"
   ]
  },
  {
   "cell_type": "code",
   "execution_count": 139,
   "id": "d19bf87d",
   "metadata": {},
   "outputs": [
    {
     "data": {
      "text/plain": [
       "Timestamp('2020-01-31 00:00:00')"
      ]
     },
     "execution_count": 139,
     "metadata": {},
     "output_type": "execute_result"
    }
   ],
   "source": [
    "dates.max()"
   ]
  },
  {
   "cell_type": "code",
   "execution_count": 140,
   "id": "8f6bf621",
   "metadata": {},
   "outputs": [
    {
     "data": {
      "text/plain": [
       "30"
      ]
     },
     "execution_count": 140,
     "metadata": {},
     "output_type": "execute_result"
    }
   ],
   "source": [
    "dates.idxmax()"
   ]
  },
  {
   "cell_type": "code",
   "execution_count": 141,
   "id": "f54541ec",
   "metadata": {},
   "outputs": [
    {
     "data": {
      "text/plain": [
       "0"
      ]
     },
     "execution_count": 141,
     "metadata": {},
     "output_type": "execute_result"
    }
   ],
   "source": [
    "dates.idxmin()"
   ]
  },
  {
   "cell_type": "code",
   "execution_count": 142,
   "id": "42e07594",
   "metadata": {},
   "outputs": [],
   "source": [
    "time = pd.date_range('1/1/2020', periods = 20, freq='2M')"
   ]
  },
  {
   "cell_type": "code",
   "execution_count": 143,
   "id": "08744a37",
   "metadata": {},
   "outputs": [
    {
     "data": {
      "text/plain": [
       "DatetimeIndex(['2020-01-31', '2020-03-31', '2020-05-31', '2020-07-31',\n",
       "               '2020-09-30', '2020-11-30', '2021-01-31', '2021-03-31',\n",
       "               '2021-05-31', '2021-07-31', '2021-09-30', '2021-11-30',\n",
       "               '2022-01-31', '2022-03-31', '2022-05-31', '2022-07-31',\n",
       "               '2022-09-30', '2022-11-30', '2023-01-31', '2023-03-31'],\n",
       "              dtype='datetime64[ns]', freq='2M')"
      ]
     },
     "execution_count": 143,
     "metadata": {},
     "output_type": "execute_result"
    }
   ],
   "source": [
    "time"
   ]
  },
  {
   "cell_type": "code",
   "execution_count": 144,
   "id": "1fb8141b",
   "metadata": {},
   "outputs": [],
   "source": [
    "from datetime import date"
   ]
  },
  {
   "cell_type": "code",
   "execution_count": 147,
   "id": "9ab07f36",
   "metadata": {},
   "outputs": [],
   "source": [
    "now = pd.to_datetime(str(date.today()))"
   ]
  },
  {
   "cell_type": "code",
   "execution_count": 148,
   "id": "cd591005",
   "metadata": {},
   "outputs": [
    {
     "data": {
      "text/plain": [
       "Timestamp('2023-01-28 00:00:00')"
      ]
     },
     "execution_count": 148,
     "metadata": {},
     "output_type": "execute_result"
    }
   ],
   "source": [
    "now"
   ]
  },
  {
   "cell_type": "code",
   "execution_count": 150,
   "id": "ee971df8",
   "metadata": {},
   "outputs": [],
   "source": [
    "now = pd.to_datetime(str(datetime.today()))"
   ]
  },
  {
   "cell_type": "code",
   "execution_count": 151,
   "id": "677232e5",
   "metadata": {},
   "outputs": [
    {
     "data": {
      "text/plain": [
       "Timestamp('2023-01-28 16:23:33.838117')"
      ]
     },
     "execution_count": 151,
     "metadata": {},
     "output_type": "execute_result"
    }
   ],
   "source": [
    "now"
   ]
  },
  {
   "cell_type": "code",
   "execution_count": 159,
   "id": "19ef6d0e",
   "metadata": {},
   "outputs": [],
   "source": [
    "index = pd.DatetimeIndex(['2011-09-02', '2012-08-04',\n",
    "                          '2015-09-03', '2010-08-04',\n",
    "                          '2015-03-03', '2011-08-04',\n",
    "                          '2015-04-03', '2012-08-04'])"
   ]
  },
  {
   "cell_type": "code",
   "execution_count": null,
   "id": "7343d944",
   "metadata": {},
   "outputs": [],
   "source": []
  }
 ],
 "metadata": {
  "kernelspec": {
   "display_name": "Python 3 (ipykernel)",
   "language": "python",
   "name": "python3"
  },
  "language_info": {
   "codemirror_mode": {
    "name": "ipython",
    "version": 3
   },
   "file_extension": ".py",
   "mimetype": "text/x-python",
   "name": "python",
   "nbconvert_exporter": "python",
   "pygments_lexer": "ipython3",
   "version": "3.9.12"
  }
 },
 "nbformat": 4,
 "nbformat_minor": 5
}

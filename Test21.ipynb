{
 "cells": [
  {
   "cell_type": "code",
   "execution_count": 1,
   "id": "a7898fd4",
   "metadata": {},
   "outputs": [],
   "source": [
    "import pandas as pd\n",
    "import numpy as np\n",
    "import matplotlib.pyplot as plt"
   ]
  },
  {
   "cell_type": "code",
   "execution_count": 2,
   "id": "4603c061",
   "metadata": {},
   "outputs": [],
   "source": [
    "df = pd.read_csv(\"../../Downloads/fueldata/Fuel_Consumption_2000-2022.csv\")"
   ]
  },
  {
   "cell_type": "code",
   "execution_count": 4,
   "id": "20220ffd",
   "metadata": {},
   "outputs": [
    {
     "data": {
      "text/html": [
       "<div>\n",
       "<style scoped>\n",
       "    .dataframe tbody tr th:only-of-type {\n",
       "        vertical-align: middle;\n",
       "    }\n",
       "\n",
       "    .dataframe tbody tr th {\n",
       "        vertical-align: top;\n",
       "    }\n",
       "\n",
       "    .dataframe thead th {\n",
       "        text-align: right;\n",
       "    }\n",
       "</style>\n",
       "<table border=\"1\" class=\"dataframe\">\n",
       "  <thead>\n",
       "    <tr style=\"text-align: right;\">\n",
       "      <th></th>\n",
       "      <th>YEAR</th>\n",
       "      <th>MAKE</th>\n",
       "      <th>MODEL</th>\n",
       "      <th>VEHICLE CLASS</th>\n",
       "      <th>ENGINE SIZE</th>\n",
       "      <th>CYLINDERS</th>\n",
       "      <th>TRANSMISSION</th>\n",
       "      <th>FUEL</th>\n",
       "      <th>FUEL CONSUMPTION</th>\n",
       "      <th>HWY (L/100 km)</th>\n",
       "      <th>COMB (L/100 km)</th>\n",
       "      <th>COMB (mpg)</th>\n",
       "      <th>EMISSIONS</th>\n",
       "    </tr>\n",
       "  </thead>\n",
       "  <tbody>\n",
       "    <tr>\n",
       "      <th>0</th>\n",
       "      <td>2000</td>\n",
       "      <td>ACURA</td>\n",
       "      <td>1.6EL</td>\n",
       "      <td>COMPACT</td>\n",
       "      <td>1.6</td>\n",
       "      <td>4</td>\n",
       "      <td>A4</td>\n",
       "      <td>X</td>\n",
       "      <td>9.2</td>\n",
       "      <td>6.7</td>\n",
       "      <td>8.1</td>\n",
       "      <td>35</td>\n",
       "      <td>186</td>\n",
       "    </tr>\n",
       "    <tr>\n",
       "      <th>1</th>\n",
       "      <td>2000</td>\n",
       "      <td>ACURA</td>\n",
       "      <td>1.6EL</td>\n",
       "      <td>COMPACT</td>\n",
       "      <td>1.6</td>\n",
       "      <td>4</td>\n",
       "      <td>M5</td>\n",
       "      <td>X</td>\n",
       "      <td>8.5</td>\n",
       "      <td>6.5</td>\n",
       "      <td>7.6</td>\n",
       "      <td>37</td>\n",
       "      <td>175</td>\n",
       "    </tr>\n",
       "    <tr>\n",
       "      <th>2</th>\n",
       "      <td>2000</td>\n",
       "      <td>ACURA</td>\n",
       "      <td>3.2TL</td>\n",
       "      <td>MID-SIZE</td>\n",
       "      <td>3.2</td>\n",
       "      <td>6</td>\n",
       "      <td>AS5</td>\n",
       "      <td>Z</td>\n",
       "      <td>12.2</td>\n",
       "      <td>7.4</td>\n",
       "      <td>10.0</td>\n",
       "      <td>28</td>\n",
       "      <td>230</td>\n",
       "    </tr>\n",
       "    <tr>\n",
       "      <th>3</th>\n",
       "      <td>2000</td>\n",
       "      <td>ACURA</td>\n",
       "      <td>3.5RL</td>\n",
       "      <td>MID-SIZE</td>\n",
       "      <td>3.5</td>\n",
       "      <td>6</td>\n",
       "      <td>A4</td>\n",
       "      <td>Z</td>\n",
       "      <td>13.4</td>\n",
       "      <td>9.2</td>\n",
       "      <td>11.5</td>\n",
       "      <td>25</td>\n",
       "      <td>264</td>\n",
       "    </tr>\n",
       "    <tr>\n",
       "      <th>4</th>\n",
       "      <td>2000</td>\n",
       "      <td>ACURA</td>\n",
       "      <td>INTEGRA</td>\n",
       "      <td>SUBCOMPACT</td>\n",
       "      <td>1.8</td>\n",
       "      <td>4</td>\n",
       "      <td>A4</td>\n",
       "      <td>X</td>\n",
       "      <td>10.0</td>\n",
       "      <td>7.0</td>\n",
       "      <td>8.6</td>\n",
       "      <td>33</td>\n",
       "      <td>198</td>\n",
       "    </tr>\n",
       "  </tbody>\n",
       "</table>\n",
       "</div>"
      ],
      "text/plain": [
       "   YEAR   MAKE    MODEL VEHICLE CLASS  ENGINE SIZE  CYLINDERS TRANSMISSION  \\\n",
       "0  2000  ACURA    1.6EL       COMPACT          1.6          4           A4   \n",
       "1  2000  ACURA    1.6EL       COMPACT          1.6          4           M5   \n",
       "2  2000  ACURA    3.2TL      MID-SIZE          3.2          6          AS5   \n",
       "3  2000  ACURA    3.5RL      MID-SIZE          3.5          6           A4   \n",
       "4  2000  ACURA  INTEGRA    SUBCOMPACT          1.8          4           A4   \n",
       "\n",
       "  FUEL  FUEL CONSUMPTION  HWY (L/100 km)  COMB (L/100 km)  COMB (mpg)  \\\n",
       "0    X               9.2             6.7              8.1          35   \n",
       "1    X               8.5             6.5              7.6          37   \n",
       "2    Z              12.2             7.4             10.0          28   \n",
       "3    Z              13.4             9.2             11.5          25   \n",
       "4    X              10.0             7.0              8.6          33   \n",
       "\n",
       "   EMISSIONS  \n",
       "0        186  \n",
       "1        175  \n",
       "2        230  \n",
       "3        264  \n",
       "4        198  "
      ]
     },
     "execution_count": 4,
     "metadata": {},
     "output_type": "execute_result"
    }
   ],
   "source": [
    "df.head()"
   ]
  },
  {
   "cell_type": "code",
   "execution_count": 5,
   "id": "a529c156",
   "metadata": {},
   "outputs": [
    {
     "data": {
      "text/plain": [
       "(22556, 13)"
      ]
     },
     "execution_count": 5,
     "metadata": {},
     "output_type": "execute_result"
    }
   ],
   "source": [
    "df.shape"
   ]
  },
  {
   "cell_type": "code",
   "execution_count": 6,
   "id": "dc8dc026",
   "metadata": {},
   "outputs": [
    {
     "name": "stdout",
     "output_type": "stream",
     "text": [
      "<class 'pandas.core.frame.DataFrame'>\n",
      "RangeIndex: 22556 entries, 0 to 22555\n",
      "Data columns (total 13 columns):\n",
      " #   Column            Non-Null Count  Dtype  \n",
      "---  ------            --------------  -----  \n",
      " 0   YEAR              22556 non-null  int64  \n",
      " 1   MAKE              22556 non-null  object \n",
      " 2   MODEL             22556 non-null  object \n",
      " 3   VEHICLE CLASS     22556 non-null  object \n",
      " 4   ENGINE SIZE       22556 non-null  float64\n",
      " 5   CYLINDERS         22556 non-null  int64  \n",
      " 6   TRANSMISSION      22556 non-null  object \n",
      " 7   FUEL              22556 non-null  object \n",
      " 8   FUEL CONSUMPTION  22556 non-null  float64\n",
      " 9   HWY (L/100 km)    22556 non-null  float64\n",
      " 10  COMB (L/100 km)   22556 non-null  float64\n",
      " 11  COMB (mpg)        22556 non-null  int64  \n",
      " 12  EMISSIONS         22556 non-null  int64  \n",
      "dtypes: float64(4), int64(4), object(5)\n",
      "memory usage: 2.2+ MB\n"
     ]
    }
   ],
   "source": [
    "df.info()"
   ]
  },
  {
   "cell_type": "code",
   "execution_count": 7,
   "id": "c3cdcfe1",
   "metadata": {},
   "outputs": [
    {
     "data": {
      "text/plain": [
       "YEAR                  int64\n",
       "MAKE                 object\n",
       "MODEL                object\n",
       "VEHICLE CLASS        object\n",
       "ENGINE SIZE         float64\n",
       "CYLINDERS             int64\n",
       "TRANSMISSION         object\n",
       "FUEL                 object\n",
       "FUEL CONSUMPTION    float64\n",
       "HWY (L/100 km)      float64\n",
       "COMB (L/100 km)     float64\n",
       "COMB (mpg)            int64\n",
       "EMISSIONS             int64\n",
       "dtype: object"
      ]
     },
     "execution_count": 7,
     "metadata": {},
     "output_type": "execute_result"
    }
   ],
   "source": [
    "df.dtypes"
   ]
  },
  {
   "cell_type": "code",
   "execution_count": 10,
   "id": "31a3d433",
   "metadata": {},
   "outputs": [],
   "source": [
    "df1 = df.select_dtypes(include='number')"
   ]
  },
  {
   "cell_type": "code",
   "execution_count": 11,
   "id": "4b07182a",
   "metadata": {},
   "outputs": [
    {
     "data": {
      "text/html": [
       "<div>\n",
       "<style scoped>\n",
       "    .dataframe tbody tr th:only-of-type {\n",
       "        vertical-align: middle;\n",
       "    }\n",
       "\n",
       "    .dataframe tbody tr th {\n",
       "        vertical-align: top;\n",
       "    }\n",
       "\n",
       "    .dataframe thead th {\n",
       "        text-align: right;\n",
       "    }\n",
       "</style>\n",
       "<table border=\"1\" class=\"dataframe\">\n",
       "  <thead>\n",
       "    <tr style=\"text-align: right;\">\n",
       "      <th></th>\n",
       "      <th>YEAR</th>\n",
       "      <th>ENGINE SIZE</th>\n",
       "      <th>CYLINDERS</th>\n",
       "      <th>FUEL CONSUMPTION</th>\n",
       "      <th>HWY (L/100 km)</th>\n",
       "      <th>COMB (L/100 km)</th>\n",
       "      <th>COMB (mpg)</th>\n",
       "      <th>EMISSIONS</th>\n",
       "    </tr>\n",
       "  </thead>\n",
       "  <tbody>\n",
       "    <tr>\n",
       "      <th>0</th>\n",
       "      <td>2000</td>\n",
       "      <td>1.6</td>\n",
       "      <td>4</td>\n",
       "      <td>9.2</td>\n",
       "      <td>6.7</td>\n",
       "      <td>8.1</td>\n",
       "      <td>35</td>\n",
       "      <td>186</td>\n",
       "    </tr>\n",
       "    <tr>\n",
       "      <th>1</th>\n",
       "      <td>2000</td>\n",
       "      <td>1.6</td>\n",
       "      <td>4</td>\n",
       "      <td>8.5</td>\n",
       "      <td>6.5</td>\n",
       "      <td>7.6</td>\n",
       "      <td>37</td>\n",
       "      <td>175</td>\n",
       "    </tr>\n",
       "    <tr>\n",
       "      <th>2</th>\n",
       "      <td>2000</td>\n",
       "      <td>3.2</td>\n",
       "      <td>6</td>\n",
       "      <td>12.2</td>\n",
       "      <td>7.4</td>\n",
       "      <td>10.0</td>\n",
       "      <td>28</td>\n",
       "      <td>230</td>\n",
       "    </tr>\n",
       "    <tr>\n",
       "      <th>3</th>\n",
       "      <td>2000</td>\n",
       "      <td>3.5</td>\n",
       "      <td>6</td>\n",
       "      <td>13.4</td>\n",
       "      <td>9.2</td>\n",
       "      <td>11.5</td>\n",
       "      <td>25</td>\n",
       "      <td>264</td>\n",
       "    </tr>\n",
       "    <tr>\n",
       "      <th>4</th>\n",
       "      <td>2000</td>\n",
       "      <td>1.8</td>\n",
       "      <td>4</td>\n",
       "      <td>10.0</td>\n",
       "      <td>7.0</td>\n",
       "      <td>8.6</td>\n",
       "      <td>33</td>\n",
       "      <td>198</td>\n",
       "    </tr>\n",
       "    <tr>\n",
       "      <th>...</th>\n",
       "      <td>...</td>\n",
       "      <td>...</td>\n",
       "      <td>...</td>\n",
       "      <td>...</td>\n",
       "      <td>...</td>\n",
       "      <td>...</td>\n",
       "      <td>...</td>\n",
       "      <td>...</td>\n",
       "    </tr>\n",
       "    <tr>\n",
       "      <th>22551</th>\n",
       "      <td>2022</td>\n",
       "      <td>2.0</td>\n",
       "      <td>4</td>\n",
       "      <td>10.7</td>\n",
       "      <td>7.7</td>\n",
       "      <td>9.4</td>\n",
       "      <td>30</td>\n",
       "      <td>219</td>\n",
       "    </tr>\n",
       "    <tr>\n",
       "      <th>22552</th>\n",
       "      <td>2022</td>\n",
       "      <td>2.0</td>\n",
       "      <td>4</td>\n",
       "      <td>10.5</td>\n",
       "      <td>8.1</td>\n",
       "      <td>9.4</td>\n",
       "      <td>30</td>\n",
       "      <td>219</td>\n",
       "    </tr>\n",
       "    <tr>\n",
       "      <th>22553</th>\n",
       "      <td>2022</td>\n",
       "      <td>2.0</td>\n",
       "      <td>4</td>\n",
       "      <td>11.0</td>\n",
       "      <td>8.7</td>\n",
       "      <td>9.9</td>\n",
       "      <td>29</td>\n",
       "      <td>232</td>\n",
       "    </tr>\n",
       "    <tr>\n",
       "      <th>22554</th>\n",
       "      <td>2022</td>\n",
       "      <td>2.0</td>\n",
       "      <td>4</td>\n",
       "      <td>11.5</td>\n",
       "      <td>8.4</td>\n",
       "      <td>10.1</td>\n",
       "      <td>28</td>\n",
       "      <td>236</td>\n",
       "    </tr>\n",
       "    <tr>\n",
       "      <th>22555</th>\n",
       "      <td>2022</td>\n",
       "      <td>2.0</td>\n",
       "      <td>4</td>\n",
       "      <td>12.4</td>\n",
       "      <td>8.9</td>\n",
       "      <td>10.8</td>\n",
       "      <td>26</td>\n",
       "      <td>252</td>\n",
       "    </tr>\n",
       "  </tbody>\n",
       "</table>\n",
       "<p>22556 rows × 8 columns</p>\n",
       "</div>"
      ],
      "text/plain": [
       "       YEAR  ENGINE SIZE  CYLINDERS  FUEL CONSUMPTION  HWY (L/100 km)  \\\n",
       "0      2000          1.6          4               9.2             6.7   \n",
       "1      2000          1.6          4               8.5             6.5   \n",
       "2      2000          3.2          6              12.2             7.4   \n",
       "3      2000          3.5          6              13.4             9.2   \n",
       "4      2000          1.8          4              10.0             7.0   \n",
       "...     ...          ...        ...               ...             ...   \n",
       "22551  2022          2.0          4              10.7             7.7   \n",
       "22552  2022          2.0          4              10.5             8.1   \n",
       "22553  2022          2.0          4              11.0             8.7   \n",
       "22554  2022          2.0          4              11.5             8.4   \n",
       "22555  2022          2.0          4              12.4             8.9   \n",
       "\n",
       "       COMB (L/100 km)  COMB (mpg)  EMISSIONS  \n",
       "0                  8.1          35        186  \n",
       "1                  7.6          37        175  \n",
       "2                 10.0          28        230  \n",
       "3                 11.5          25        264  \n",
       "4                  8.6          33        198  \n",
       "...                ...         ...        ...  \n",
       "22551              9.4          30        219  \n",
       "22552              9.4          30        219  \n",
       "22553              9.9          29        232  \n",
       "22554             10.1          28        236  \n",
       "22555             10.8          26        252  \n",
       "\n",
       "[22556 rows x 8 columns]"
      ]
     },
     "execution_count": 11,
     "metadata": {},
     "output_type": "execute_result"
    }
   ],
   "source": [
    "df1"
   ]
  },
  {
   "cell_type": "code",
   "execution_count": 12,
   "id": "3b57db14",
   "metadata": {},
   "outputs": [
    {
     "data": {
      "text/plain": [
       "<AxesSubplot:>"
      ]
     },
     "execution_count": 12,
     "metadata": {},
     "output_type": "execute_result"
    },
    {
     "data": {
      "image/png": "[encoded data removed]",
      "text/plain": [
       "<Figure size 432x288 with 1 Axes>"
      ]
     },
     "metadata": {
      "needs_background": "light"
     },
     "output_type": "display_data"
    }
   ],
   "source": [
    "df1['CYLINDERS'].hist(bins=10)"
   ]
  },
  {
   "cell_type": "code",
   "execution_count": 20,
   "id": "6235b36d",
   "metadata": {},
   "outputs": [
    {
     "data": {
      "image/png": "[encoded data removed]",
      "text/plain": [
       "<Figure size 432x288 with 1 Axes>"
      ]
     },
     "metadata": {
      "needs_background": "light"
     },
     "output_type": "display_data"
    },
    {
     "data": {
      "image/png": "[encoded data removed]",
      "text/plain": [
       "<Figure size 432x288 with 1 Axes>"
      ]
     },
     "metadata": {
      "needs_background": "light"
     },
     "output_type": "display_data"
    },
    {
     "data": {
      "image/png": "[encoded data removed]",
      "text/plain": [
       "<Figure size 432x288 with 1 Axes>"
      ]
     },
     "metadata": {
      "needs_background": "light"
     },
     "output_type": "display_data"
    },
    {
     "data": {
      "image/png": "[encoded data removed]",
      "text/plain": [
       "<Figure size 432x288 with 1 Axes>"
      ]
     },
     "metadata": {
      "needs_background": "light"
     },
     "output_type": "display_data"
    },
    {
     "data": {
      "image/png": "[encoded data removed]",
      "text/plain": [
       "<Figure size 432x288 with 1 Axes>"
      ]
     },
     "metadata": {
      "needs_background": "light"
     },
     "output_type": "display_data"
    },
    {
     "data": {
      "image/png": "[encoded data removed]",
      "text/plain": [
       "<Figure size 432x288 with 1 Axes>"
      ]
     },
     "metadata": {
      "needs_background": "light"
     },
     "output_type": "display_data"
    },
    {
     "data": {
      "image/png": "[encoded data removed]",
      "text/plain": [
       "<Figure size 432x288 with 1 Axes>"
      ]
     },
     "metadata": {
      "needs_background": "light"
     },
     "output_type": "display_data"
    },
    {
     "data": {
      "image/png": "[encoded data removed]",
      "text/plain": [
       "<Figure size 432x288 with 1 Axes>"
      ]
     },
     "metadata": {
      "needs_background": "light"
     },
     "output_type": "display_data"
    }
   ],
   "source": [
    "for column in df1:\n",
    "    df1[column].hist(bins=10)\n",
    "    plt.title(f'Distribution of {column}')\n",
    "    plt.show()"
   ]
  },
  {
   "cell_type": "code",
   "execution_count": 21,
   "id": "3770561b",
   "metadata": {},
   "outputs": [],
   "source": [
    "df2 = df.select_dtypes(include='object')"
   ]
  },
  {
   "cell_type": "code",
   "execution_count": 23,
   "id": "44f8e28a",
   "metadata": {},
   "outputs": [
    {
     "data": {
      "text/plain": [
       "Index(['MAKE', 'MODEL', 'VEHICLE CLASS', 'TRANSMISSION', 'FUEL'], dtype='object')"
      ]
     },
     "execution_count": 23,
     "metadata": {},
     "output_type": "execute_result"
    }
   ],
   "source": [
    "df2.columns"
   ]
  },
  {
   "cell_type": "code",
   "execution_count": 29,
   "id": "5f21d38f",
   "metadata": {},
   "outputs": [
    {
     "data": {
      "image/png": "[encoded data removed]",
      "text/plain": [
       "<Figure size 432x288 with 1 Axes>"
      ]
     },
     "metadata": {
      "needs_background": "light"
     },
     "output_type": "display_data"
    },
    {
     "data": {
      "image/png": "[encoded data removed]",
      "text/plain": [
       "<Figure size 432x288 with 1 Axes>"
      ]
     },
     "metadata": {
      "needs_background": "light"
     },
     "output_type": "display_data"
    },
    {
     "data": {
      "image/png": "[encoded data removed]",
      "text/plain": [
       "<Figure size 432x288 with 1 Axes>"
      ]
     },
     "metadata": {
      "needs_background": "light"
     },
     "output_type": "display_data"
    },
    {
     "data": {
      "image/png": "[encoded data removed]",
      "text/plain": [
       "<Figure size 432x288 with 1 Axes>"
      ]
     },
     "metadata": {
      "needs_background": "light"
     },
     "output_type": "display_data"
    },
    {
     "data": {
      "image/png": "[encoded data removed]",
      "text/plain": [
       "<Figure size 432x288 with 1 Axes>"
      ]
     },
     "metadata": {
      "needs_background": "light"
     },
     "output_type": "display_data"
    }
   ],
   "source": [
    "for column in df2.columns:\n",
    "    df2[column].value_counts().plot(kind='bar')\n",
    "    plt.show()"
   ]
  },
  {
   "cell_type": "code",
   "execution_count": 30,
   "id": "8f3d8396",
   "metadata": {},
   "outputs": [],
   "source": [
    "fifa = pd.read_csv(\"../../Downloads/fifa/Fifa_world_cup_matches.csv\")"
   ]
  },
  {
   "cell_type": "code",
   "execution_count": 31,
   "id": "524e72e1",
   "metadata": {},
   "outputs": [
    {
     "data": {
      "text/html": [
       "<div>\n",
       "<style scoped>\n",
       "    .dataframe tbody tr th:only-of-type {\n",
       "        vertical-align: middle;\n",
       "    }\n",
       "\n",
       "    .dataframe tbody tr th {\n",
       "        vertical-align: top;\n",
       "    }\n",
       "\n",
       "    .dataframe thead th {\n",
       "        text-align: right;\n",
       "    }\n",
       "</style>\n",
       "<table border=\"1\" class=\"dataframe\">\n",
       "  <thead>\n",
       "    <tr style=\"text-align: right;\">\n",
       "      <th></th>\n",
       "      <th>team1</th>\n",
       "      <th>team2</th>\n",
       "      <th>possession team1</th>\n",
       "      <th>possession team2</th>\n",
       "      <th>possession in contest</th>\n",
       "      <th>number of goals team1</th>\n",
       "      <th>number of goals team2</th>\n",
       "      <th>date</th>\n",
       "      <th>hour</th>\n",
       "      <th>category</th>\n",
       "      <th>...</th>\n",
       "      <th>penalties scored team1</th>\n",
       "      <th>penalties scored team2</th>\n",
       "      <th>goal preventions team1</th>\n",
       "      <th>goal preventions team2</th>\n",
       "      <th>own goals team1</th>\n",
       "      <th>own goals team2</th>\n",
       "      <th>forced turnovers team1</th>\n",
       "      <th>forced turnovers team2</th>\n",
       "      <th>defensive pressures applied team1</th>\n",
       "      <th>defensive pressures applied team2</th>\n",
       "    </tr>\n",
       "  </thead>\n",
       "  <tbody>\n",
       "    <tr>\n",
       "      <th>0</th>\n",
       "      <td>QATAR</td>\n",
       "      <td>ECUADOR</td>\n",
       "      <td>42%</td>\n",
       "      <td>50%</td>\n",
       "      <td>8%</td>\n",
       "      <td>0</td>\n",
       "      <td>2</td>\n",
       "      <td>20 NOV 2022</td>\n",
       "      <td>17 : 00</td>\n",
       "      <td>Group A</td>\n",
       "      <td>...</td>\n",
       "      <td>0</td>\n",
       "      <td>1</td>\n",
       "      <td>6</td>\n",
       "      <td>5</td>\n",
       "      <td>0</td>\n",
       "      <td>0</td>\n",
       "      <td>52</td>\n",
       "      <td>72</td>\n",
       "      <td>256</td>\n",
       "      <td>279</td>\n",
       "    </tr>\n",
       "    <tr>\n",
       "      <th>1</th>\n",
       "      <td>ENGLAND</td>\n",
       "      <td>IRAN</td>\n",
       "      <td>72%</td>\n",
       "      <td>19%</td>\n",
       "      <td>9%</td>\n",
       "      <td>6</td>\n",
       "      <td>2</td>\n",
       "      <td>21 NOV 2022</td>\n",
       "      <td>14 : 00</td>\n",
       "      <td>Group B</td>\n",
       "      <td>...</td>\n",
       "      <td>0</td>\n",
       "      <td>1</td>\n",
       "      <td>8</td>\n",
       "      <td>13</td>\n",
       "      <td>0</td>\n",
       "      <td>0</td>\n",
       "      <td>63</td>\n",
       "      <td>72</td>\n",
       "      <td>139</td>\n",
       "      <td>416</td>\n",
       "    </tr>\n",
       "    <tr>\n",
       "      <th>2</th>\n",
       "      <td>SENEGAL</td>\n",
       "      <td>NETHERLANDS</td>\n",
       "      <td>44%</td>\n",
       "      <td>45%</td>\n",
       "      <td>11%</td>\n",
       "      <td>0</td>\n",
       "      <td>2</td>\n",
       "      <td>21 NOV 2022</td>\n",
       "      <td>17 : 00</td>\n",
       "      <td>Group A</td>\n",
       "      <td>...</td>\n",
       "      <td>0</td>\n",
       "      <td>0</td>\n",
       "      <td>9</td>\n",
       "      <td>15</td>\n",
       "      <td>0</td>\n",
       "      <td>0</td>\n",
       "      <td>63</td>\n",
       "      <td>73</td>\n",
       "      <td>263</td>\n",
       "      <td>251</td>\n",
       "    </tr>\n",
       "    <tr>\n",
       "      <th>3</th>\n",
       "      <td>UNITED STATES</td>\n",
       "      <td>WALES</td>\n",
       "      <td>51%</td>\n",
       "      <td>39%</td>\n",
       "      <td>10%</td>\n",
       "      <td>1</td>\n",
       "      <td>1</td>\n",
       "      <td>21 NOV 2022</td>\n",
       "      <td>20 : 00</td>\n",
       "      <td>Group B</td>\n",
       "      <td>...</td>\n",
       "      <td>0</td>\n",
       "      <td>1</td>\n",
       "      <td>7</td>\n",
       "      <td>7</td>\n",
       "      <td>0</td>\n",
       "      <td>0</td>\n",
       "      <td>81</td>\n",
       "      <td>72</td>\n",
       "      <td>242</td>\n",
       "      <td>292</td>\n",
       "    </tr>\n",
       "    <tr>\n",
       "      <th>4</th>\n",
       "      <td>ARGENTINA</td>\n",
       "      <td>SAUDI ARABIA</td>\n",
       "      <td>64%</td>\n",
       "      <td>24%</td>\n",
       "      <td>12%</td>\n",
       "      <td>1</td>\n",
       "      <td>2</td>\n",
       "      <td>22 NOV 2022</td>\n",
       "      <td>11 : 00</td>\n",
       "      <td>Group C</td>\n",
       "      <td>...</td>\n",
       "      <td>1</td>\n",
       "      <td>0</td>\n",
       "      <td>4</td>\n",
       "      <td>14</td>\n",
       "      <td>0</td>\n",
       "      <td>0</td>\n",
       "      <td>65</td>\n",
       "      <td>80</td>\n",
       "      <td>163</td>\n",
       "      <td>361</td>\n",
       "    </tr>\n",
       "  </tbody>\n",
       "</table>\n",
       "<p>5 rows × 88 columns</p>\n",
       "</div>"
      ],
      "text/plain": [
       "           team1         team2 possession team1 possession team2  \\\n",
       "0          QATAR       ECUADOR              42%              50%   \n",
       "1        ENGLAND          IRAN              72%              19%   \n",
       "2        SENEGAL   NETHERLANDS              44%              45%   \n",
       "3  UNITED STATES         WALES              51%              39%   \n",
       "4      ARGENTINA  SAUDI ARABIA              64%              24%   \n",
       "\n",
       "  possession in contest  number of goals team1  number of goals team2  \\\n",
       "0                    8%                      0                      2   \n",
       "1                    9%                      6                      2   \n",
       "2                   11%                      0                      2   \n",
       "3                   10%                      1                      1   \n",
       "4                   12%                      1                      2   \n",
       "\n",
       "          date     hour category  ...  penalties scored team1  \\\n",
       "0  20 NOV 2022  17 : 00  Group A  ...                       0   \n",
       "1  21 NOV 2022  14 : 00  Group B  ...                       0   \n",
       "2  21 NOV 2022  17 : 00  Group A  ...                       0   \n",
       "3  21 NOV 2022  20 : 00  Group B  ...                       0   \n",
       "4  22 NOV 2022  11 : 00  Group C  ...                       1   \n",
       "\n",
       "   penalties scored team2  goal preventions team1  goal preventions team2  \\\n",
       "0                       1                       6                       5   \n",
       "1                       1                       8                      13   \n",
       "2                       0                       9                      15   \n",
       "3                       1                       7                       7   \n",
       "4                       0                       4                      14   \n",
       "\n",
       "   own goals team1  own goals team2  forced turnovers team1  \\\n",
       "0                0                0                      52   \n",
       "1                0                0                      63   \n",
       "2                0                0                      63   \n",
       "3                0                0                      81   \n",
       "4                0                0                      65   \n",
       "\n",
       "   forced turnovers team2  defensive pressures applied team1  \\\n",
       "0                      72                                256   \n",
       "1                      72                                139   \n",
       "2                      73                                263   \n",
       "3                      72                                242   \n",
       "4                      80                                163   \n",
       "\n",
       "   defensive pressures applied team2  \n",
       "0                                279  \n",
       "1                                416  \n",
       "2                                251  \n",
       "3                                292  \n",
       "4                                361  \n",
       "\n",
       "[5 rows x 88 columns]"
      ]
     },
     "execution_count": 31,
     "metadata": {},
     "output_type": "execute_result"
    }
   ],
   "source": [
    "fifa.head()"
   ]
  },
  {
   "cell_type": "code",
   "execution_count": 32,
   "id": "7460cec0",
   "metadata": {},
   "outputs": [
    {
     "data": {
      "text/plain": [
       "(64, 88)"
      ]
     },
     "execution_count": 32,
     "metadata": {},
     "output_type": "execute_result"
    }
   ],
   "source": [
    "fifa.shape"
   ]
  },
  {
   "cell_type": "code",
   "execution_count": 33,
   "id": "498cff88",
   "metadata": {},
   "outputs": [
    {
     "data": {
      "text/plain": [
       "team1                                object\n",
       "team2                                object\n",
       "possession team1                     object\n",
       "possession team2                     object\n",
       "possession in contest                object\n",
       "                                      ...  \n",
       "own goals team2                       int64\n",
       "forced turnovers team1                int64\n",
       "forced turnovers team2                int64\n",
       "defensive pressures applied team1     int64\n",
       "defensive pressures applied team2     int64\n",
       "Length: 88, dtype: object"
      ]
     },
     "execution_count": 33,
     "metadata": {},
     "output_type": "execute_result"
    }
   ],
   "source": [
    "fifa.dtypes"
   ]
  },
  {
   "cell_type": "code",
   "execution_count": 43,
   "id": "52dc7368",
   "metadata": {},
   "outputs": [],
   "source": [
    "df2 = fifa.select_dtypes(include='number')"
   ]
  },
  {
   "cell_type": "code",
   "execution_count": 44,
   "id": "a2a7ebe4",
   "metadata": {},
   "outputs": [
    {
     "data": {
      "text/html": [
       "<div>\n",
       "<style scoped>\n",
       "    .dataframe tbody tr th:only-of-type {\n",
       "        vertical-align: middle;\n",
       "    }\n",
       "\n",
       "    .dataframe tbody tr th {\n",
       "        vertical-align: top;\n",
       "    }\n",
       "\n",
       "    .dataframe thead th {\n",
       "        text-align: right;\n",
       "    }\n",
       "</style>\n",
       "<table border=\"1\" class=\"dataframe\">\n",
       "  <thead>\n",
       "    <tr style=\"text-align: right;\">\n",
       "      <th></th>\n",
       "      <th>number of goals team1</th>\n",
       "      <th>number of goals team2</th>\n",
       "      <th>total attempts team1</th>\n",
       "      <th>total attempts team2</th>\n",
       "      <th>conceded team1</th>\n",
       "      <th>conceded team2</th>\n",
       "      <th>goal inside the penalty area team1</th>\n",
       "      <th>goal inside the penalty area team2</th>\n",
       "      <th>goal outside the penalty area team1</th>\n",
       "      <th>goal outside the penalty area team2</th>\n",
       "      <th>...</th>\n",
       "      <th>penalties scored team1</th>\n",
       "      <th>penalties scored team2</th>\n",
       "      <th>goal preventions team1</th>\n",
       "      <th>goal preventions team2</th>\n",
       "      <th>own goals team1</th>\n",
       "      <th>own goals team2</th>\n",
       "      <th>forced turnovers team1</th>\n",
       "      <th>forced turnovers team2</th>\n",
       "      <th>defensive pressures applied team1</th>\n",
       "      <th>defensive pressures applied team2</th>\n",
       "    </tr>\n",
       "  </thead>\n",
       "  <tbody>\n",
       "    <tr>\n",
       "      <th>0</th>\n",
       "      <td>0</td>\n",
       "      <td>2</td>\n",
       "      <td>5</td>\n",
       "      <td>6</td>\n",
       "      <td>2</td>\n",
       "      <td>0</td>\n",
       "      <td>0</td>\n",
       "      <td>2</td>\n",
       "      <td>0</td>\n",
       "      <td>0</td>\n",
       "      <td>...</td>\n",
       "      <td>0</td>\n",
       "      <td>1</td>\n",
       "      <td>6</td>\n",
       "      <td>5</td>\n",
       "      <td>0</td>\n",
       "      <td>0</td>\n",
       "      <td>52</td>\n",
       "      <td>72</td>\n",
       "      <td>256</td>\n",
       "      <td>279</td>\n",
       "    </tr>\n",
       "    <tr>\n",
       "      <th>1</th>\n",
       "      <td>6</td>\n",
       "      <td>2</td>\n",
       "      <td>13</td>\n",
       "      <td>8</td>\n",
       "      <td>2</td>\n",
       "      <td>6</td>\n",
       "      <td>6</td>\n",
       "      <td>2</td>\n",
       "      <td>0</td>\n",
       "      <td>0</td>\n",
       "      <td>...</td>\n",
       "      <td>0</td>\n",
       "      <td>1</td>\n",
       "      <td>8</td>\n",
       "      <td>13</td>\n",
       "      <td>0</td>\n",
       "      <td>0</td>\n",
       "      <td>63</td>\n",
       "      <td>72</td>\n",
       "      <td>139</td>\n",
       "      <td>416</td>\n",
       "    </tr>\n",
       "    <tr>\n",
       "      <th>2</th>\n",
       "      <td>0</td>\n",
       "      <td>2</td>\n",
       "      <td>14</td>\n",
       "      <td>9</td>\n",
       "      <td>2</td>\n",
       "      <td>0</td>\n",
       "      <td>0</td>\n",
       "      <td>2</td>\n",
       "      <td>0</td>\n",
       "      <td>0</td>\n",
       "      <td>...</td>\n",
       "      <td>0</td>\n",
       "      <td>0</td>\n",
       "      <td>9</td>\n",
       "      <td>15</td>\n",
       "      <td>0</td>\n",
       "      <td>0</td>\n",
       "      <td>63</td>\n",
       "      <td>73</td>\n",
       "      <td>263</td>\n",
       "      <td>251</td>\n",
       "    </tr>\n",
       "    <tr>\n",
       "      <th>3</th>\n",
       "      <td>1</td>\n",
       "      <td>1</td>\n",
       "      <td>6</td>\n",
       "      <td>7</td>\n",
       "      <td>1</td>\n",
       "      <td>1</td>\n",
       "      <td>1</td>\n",
       "      <td>1</td>\n",
       "      <td>0</td>\n",
       "      <td>0</td>\n",
       "      <td>...</td>\n",
       "      <td>0</td>\n",
       "      <td>1</td>\n",
       "      <td>7</td>\n",
       "      <td>7</td>\n",
       "      <td>0</td>\n",
       "      <td>0</td>\n",
       "      <td>81</td>\n",
       "      <td>72</td>\n",
       "      <td>242</td>\n",
       "      <td>292</td>\n",
       "    </tr>\n",
       "    <tr>\n",
       "      <th>4</th>\n",
       "      <td>1</td>\n",
       "      <td>2</td>\n",
       "      <td>14</td>\n",
       "      <td>3</td>\n",
       "      <td>2</td>\n",
       "      <td>1</td>\n",
       "      <td>1</td>\n",
       "      <td>2</td>\n",
       "      <td>0</td>\n",
       "      <td>0</td>\n",
       "      <td>...</td>\n",
       "      <td>1</td>\n",
       "      <td>0</td>\n",
       "      <td>4</td>\n",
       "      <td>14</td>\n",
       "      <td>0</td>\n",
       "      <td>0</td>\n",
       "      <td>65</td>\n",
       "      <td>80</td>\n",
       "      <td>163</td>\n",
       "      <td>361</td>\n",
       "    </tr>\n",
       "    <tr>\n",
       "      <th>...</th>\n",
       "      <td>...</td>\n",
       "      <td>...</td>\n",
       "      <td>...</td>\n",
       "      <td>...</td>\n",
       "      <td>...</td>\n",
       "      <td>...</td>\n",
       "      <td>...</td>\n",
       "      <td>...</td>\n",
       "      <td>...</td>\n",
       "      <td>...</td>\n",
       "      <td>...</td>\n",
       "      <td>...</td>\n",
       "      <td>...</td>\n",
       "      <td>...</td>\n",
       "      <td>...</td>\n",
       "      <td>...</td>\n",
       "      <td>...</td>\n",
       "      <td>...</td>\n",
       "      <td>...</td>\n",
       "      <td>...</td>\n",
       "      <td>...</td>\n",
       "    </tr>\n",
       "    <tr>\n",
       "      <th>59</th>\n",
       "      <td>1</td>\n",
       "      <td>2</td>\n",
       "      <td>14</td>\n",
       "      <td>9</td>\n",
       "      <td>2</td>\n",
       "      <td>1</td>\n",
       "      <td>1</td>\n",
       "      <td>1</td>\n",
       "      <td>0</td>\n",
       "      <td>1</td>\n",
       "      <td>...</td>\n",
       "      <td>1</td>\n",
       "      <td>0</td>\n",
       "      <td>9</td>\n",
       "      <td>15</td>\n",
       "      <td>0</td>\n",
       "      <td>0</td>\n",
       "      <td>49</td>\n",
       "      <td>54</td>\n",
       "      <td>193</td>\n",
       "      <td>308</td>\n",
       "    </tr>\n",
       "    <tr>\n",
       "      <th>60</th>\n",
       "      <td>3</td>\n",
       "      <td>0</td>\n",
       "      <td>10</td>\n",
       "      <td>12</td>\n",
       "      <td>0</td>\n",
       "      <td>3</td>\n",
       "      <td>3</td>\n",
       "      <td>0</td>\n",
       "      <td>0</td>\n",
       "      <td>0</td>\n",
       "      <td>...</td>\n",
       "      <td>1</td>\n",
       "      <td>0</td>\n",
       "      <td>12</td>\n",
       "      <td>10</td>\n",
       "      <td>0</td>\n",
       "      <td>0</td>\n",
       "      <td>85</td>\n",
       "      <td>63</td>\n",
       "      <td>321</td>\n",
       "      <td>260</td>\n",
       "    </tr>\n",
       "    <tr>\n",
       "      <th>61</th>\n",
       "      <td>2</td>\n",
       "      <td>0</td>\n",
       "      <td>14</td>\n",
       "      <td>13</td>\n",
       "      <td>0</td>\n",
       "      <td>2</td>\n",
       "      <td>2</td>\n",
       "      <td>0</td>\n",
       "      <td>0</td>\n",
       "      <td>0</td>\n",
       "      <td>...</td>\n",
       "      <td>0</td>\n",
       "      <td>0</td>\n",
       "      <td>13</td>\n",
       "      <td>14</td>\n",
       "      <td>0</td>\n",
       "      <td>0</td>\n",
       "      <td>72</td>\n",
       "      <td>47</td>\n",
       "      <td>328</td>\n",
       "      <td>218</td>\n",
       "    </tr>\n",
       "    <tr>\n",
       "      <th>62</th>\n",
       "      <td>2</td>\n",
       "      <td>1</td>\n",
       "      <td>14</td>\n",
       "      <td>7</td>\n",
       "      <td>1</td>\n",
       "      <td>2</td>\n",
       "      <td>2</td>\n",
       "      <td>1</td>\n",
       "      <td>0</td>\n",
       "      <td>0</td>\n",
       "      <td>...</td>\n",
       "      <td>0</td>\n",
       "      <td>0</td>\n",
       "      <td>7</td>\n",
       "      <td>14</td>\n",
       "      <td>0</td>\n",
       "      <td>0</td>\n",
       "      <td>75</td>\n",
       "      <td>72</td>\n",
       "      <td>288</td>\n",
       "      <td>277</td>\n",
       "    </tr>\n",
       "    <tr>\n",
       "      <th>63</th>\n",
       "      <td>3</td>\n",
       "      <td>3</td>\n",
       "      <td>21</td>\n",
       "      <td>10</td>\n",
       "      <td>3</td>\n",
       "      <td>3</td>\n",
       "      <td>3</td>\n",
       "      <td>3</td>\n",
       "      <td>0</td>\n",
       "      <td>0</td>\n",
       "      <td>...</td>\n",
       "      <td>1</td>\n",
       "      <td>2</td>\n",
       "      <td>11</td>\n",
       "      <td>21</td>\n",
       "      <td>0</td>\n",
       "      <td>0</td>\n",
       "      <td>87</td>\n",
       "      <td>104</td>\n",
       "      <td>280</td>\n",
       "      <td>409</td>\n",
       "    </tr>\n",
       "  </tbody>\n",
       "</table>\n",
       "<p>64 rows × 80 columns</p>\n",
       "</div>"
      ],
      "text/plain": [
       "    number of goals team1  number of goals team2  total attempts team1  \\\n",
       "0                       0                      2                     5   \n",
       "1                       6                      2                    13   \n",
       "2                       0                      2                    14   \n",
       "3                       1                      1                     6   \n",
       "4                       1                      2                    14   \n",
       "..                    ...                    ...                   ...   \n",
       "59                      1                      2                    14   \n",
       "60                      3                      0                    10   \n",
       "61                      2                      0                    14   \n",
       "62                      2                      1                    14   \n",
       "63                      3                      3                    21   \n",
       "\n",
       "    total attempts team2  conceded team1  conceded team2  \\\n",
       "0                      6               2               0   \n",
       "1                      8               2               6   \n",
       "2                      9               2               0   \n",
       "3                      7               1               1   \n",
       "4                      3               2               1   \n",
       "..                   ...             ...             ...   \n",
       "59                     9               2               1   \n",
       "60                    12               0               3   \n",
       "61                    13               0               2   \n",
       "62                     7               1               2   \n",
       "63                    10               3               3   \n",
       "\n",
       "    goal inside the penalty area team1  goal inside the penalty area team2  \\\n",
       "0                                    0                                   2   \n",
       "1                                    6                                   2   \n",
       "2                                    0                                   2   \n",
       "3                                    1                                   1   \n",
       "4                                    1                                   2   \n",
       "..                                 ...                                 ...   \n",
       "59                                   1                                   1   \n",
       "60                                   3                                   0   \n",
       "61                                   2                                   0   \n",
       "62                                   2                                   1   \n",
       "63                                   3                                   3   \n",
       "\n",
       "    goal outside the penalty area team1  goal outside the penalty area team2  \\\n",
       "0                                     0                                    0   \n",
       "1                                     0                                    0   \n",
       "2                                     0                                    0   \n",
       "3                                     0                                    0   \n",
       "4                                     0                                    0   \n",
       "..                                  ...                                  ...   \n",
       "59                                    0                                    1   \n",
       "60                                    0                                    0   \n",
       "61                                    0                                    0   \n",
       "62                                    0                                    0   \n",
       "63                                    0                                    0   \n",
       "\n",
       "    ...  penalties scored team1  penalties scored team2  \\\n",
       "0   ...                       0                       1   \n",
       "1   ...                       0                       1   \n",
       "2   ...                       0                       0   \n",
       "3   ...                       0                       1   \n",
       "4   ...                       1                       0   \n",
       "..  ...                     ...                     ...   \n",
       "59  ...                       1                       0   \n",
       "60  ...                       1                       0   \n",
       "61  ...                       0                       0   \n",
       "62  ...                       0                       0   \n",
       "63  ...                       1                       2   \n",
       "\n",
       "    goal preventions team1  goal preventions team2  own goals team1  \\\n",
       "0                        6                       5                0   \n",
       "1                        8                      13                0   \n",
       "2                        9                      15                0   \n",
       "3                        7                       7                0   \n",
       "4                        4                      14                0   \n",
       "..                     ...                     ...              ...   \n",
       "59                       9                      15                0   \n",
       "60                      12                      10                0   \n",
       "61                      13                      14                0   \n",
       "62                       7                      14                0   \n",
       "63                      11                      21                0   \n",
       "\n",
       "    own goals team2  forced turnovers team1  forced turnovers team2  \\\n",
       "0                 0                      52                      72   \n",
       "1                 0                      63                      72   \n",
       "2                 0                      63                      73   \n",
       "3                 0                      81                      72   \n",
       "4                 0                      65                      80   \n",
       "..              ...                     ...                     ...   \n",
       "59                0                      49                      54   \n",
       "60                0                      85                      63   \n",
       "61                0                      72                      47   \n",
       "62                0                      75                      72   \n",
       "63                0                      87                     104   \n",
       "\n",
       "    defensive pressures applied team1  defensive pressures applied team2  \n",
       "0                                 256                                279  \n",
       "1                                 139                                416  \n",
       "2                                 263                                251  \n",
       "3                                 242                                292  \n",
       "4                                 163                                361  \n",
       "..                                ...                                ...  \n",
       "59                                193                                308  \n",
       "60                                321                                260  \n",
       "61                                328                                218  \n",
       "62                                288                                277  \n",
       "63                                280                                409  \n",
       "\n",
       "[64 rows x 80 columns]"
      ]
     },
     "execution_count": 44,
     "metadata": {},
     "output_type": "execute_result"
    }
   ],
   "source": [
    "df2"
   ]
  },
  {
   "cell_type": "code",
   "execution_count": 46,
   "id": "dac055eb",
   "metadata": {},
   "outputs": [],
   "source": [
    "df3 = df2.iloc[:, 0:6]"
   ]
  },
  {
   "cell_type": "code",
   "execution_count": 47,
   "id": "b83c8845",
   "metadata": {},
   "outputs": [
    {
     "data": {
      "text/html": [
       "<div>\n",
       "<style scoped>\n",
       "    .dataframe tbody tr th:only-of-type {\n",
       "        vertical-align: middle;\n",
       "    }\n",
       "\n",
       "    .dataframe tbody tr th {\n",
       "        vertical-align: top;\n",
       "    }\n",
       "\n",
       "    .dataframe thead th {\n",
       "        text-align: right;\n",
       "    }\n",
       "</style>\n",
       "<table border=\"1\" class=\"dataframe\">\n",
       "  <thead>\n",
       "    <tr style=\"text-align: right;\">\n",
       "      <th></th>\n",
       "      <th>number of goals team1</th>\n",
       "      <th>number of goals team2</th>\n",
       "      <th>total attempts team1</th>\n",
       "      <th>total attempts team2</th>\n",
       "      <th>conceded team1</th>\n",
       "      <th>conceded team2</th>\n",
       "    </tr>\n",
       "  </thead>\n",
       "  <tbody>\n",
       "    <tr>\n",
       "      <th>0</th>\n",
       "      <td>0</td>\n",
       "      <td>2</td>\n",
       "      <td>5</td>\n",
       "      <td>6</td>\n",
       "      <td>2</td>\n",
       "      <td>0</td>\n",
       "    </tr>\n",
       "    <tr>\n",
       "      <th>1</th>\n",
       "      <td>6</td>\n",
       "      <td>2</td>\n",
       "      <td>13</td>\n",
       "      <td>8</td>\n",
       "      <td>2</td>\n",
       "      <td>6</td>\n",
       "    </tr>\n",
       "    <tr>\n",
       "      <th>2</th>\n",
       "      <td>0</td>\n",
       "      <td>2</td>\n",
       "      <td>14</td>\n",
       "      <td>9</td>\n",
       "      <td>2</td>\n",
       "      <td>0</td>\n",
       "    </tr>\n",
       "    <tr>\n",
       "      <th>3</th>\n",
       "      <td>1</td>\n",
       "      <td>1</td>\n",
       "      <td>6</td>\n",
       "      <td>7</td>\n",
       "      <td>1</td>\n",
       "      <td>1</td>\n",
       "    </tr>\n",
       "    <tr>\n",
       "      <th>4</th>\n",
       "      <td>1</td>\n",
       "      <td>2</td>\n",
       "      <td>14</td>\n",
       "      <td>3</td>\n",
       "      <td>2</td>\n",
       "      <td>1</td>\n",
       "    </tr>\n",
       "    <tr>\n",
       "      <th>...</th>\n",
       "      <td>...</td>\n",
       "      <td>...</td>\n",
       "      <td>...</td>\n",
       "      <td>...</td>\n",
       "      <td>...</td>\n",
       "      <td>...</td>\n",
       "    </tr>\n",
       "    <tr>\n",
       "      <th>59</th>\n",
       "      <td>1</td>\n",
       "      <td>2</td>\n",
       "      <td>14</td>\n",
       "      <td>9</td>\n",
       "      <td>2</td>\n",
       "      <td>1</td>\n",
       "    </tr>\n",
       "    <tr>\n",
       "      <th>60</th>\n",
       "      <td>3</td>\n",
       "      <td>0</td>\n",
       "      <td>10</td>\n",
       "      <td>12</td>\n",
       "      <td>0</td>\n",
       "      <td>3</td>\n",
       "    </tr>\n",
       "    <tr>\n",
       "      <th>61</th>\n",
       "      <td>2</td>\n",
       "      <td>0</td>\n",
       "      <td>14</td>\n",
       "      <td>13</td>\n",
       "      <td>0</td>\n",
       "      <td>2</td>\n",
       "    </tr>\n",
       "    <tr>\n",
       "      <th>62</th>\n",
       "      <td>2</td>\n",
       "      <td>1</td>\n",
       "      <td>14</td>\n",
       "      <td>7</td>\n",
       "      <td>1</td>\n",
       "      <td>2</td>\n",
       "    </tr>\n",
       "    <tr>\n",
       "      <th>63</th>\n",
       "      <td>3</td>\n",
       "      <td>3</td>\n",
       "      <td>21</td>\n",
       "      <td>10</td>\n",
       "      <td>3</td>\n",
       "      <td>3</td>\n",
       "    </tr>\n",
       "  </tbody>\n",
       "</table>\n",
       "<p>64 rows × 6 columns</p>\n",
       "</div>"
      ],
      "text/plain": [
       "    number of goals team1  number of goals team2  total attempts team1  \\\n",
       "0                       0                      2                     5   \n",
       "1                       6                      2                    13   \n",
       "2                       0                      2                    14   \n",
       "3                       1                      1                     6   \n",
       "4                       1                      2                    14   \n",
       "..                    ...                    ...                   ...   \n",
       "59                      1                      2                    14   \n",
       "60                      3                      0                    10   \n",
       "61                      2                      0                    14   \n",
       "62                      2                      1                    14   \n",
       "63                      3                      3                    21   \n",
       "\n",
       "    total attempts team2  conceded team1  conceded team2  \n",
       "0                      6               2               0  \n",
       "1                      8               2               6  \n",
       "2                      9               2               0  \n",
       "3                      7               1               1  \n",
       "4                      3               2               1  \n",
       "..                   ...             ...             ...  \n",
       "59                     9               2               1  \n",
       "60                    12               0               3  \n",
       "61                    13               0               2  \n",
       "62                     7               1               2  \n",
       "63                    10               3               3  \n",
       "\n",
       "[64 rows x 6 columns]"
      ]
     },
     "execution_count": 47,
     "metadata": {},
     "output_type": "execute_result"
    }
   ],
   "source": [
    "df3"
   ]
  },
  {
   "cell_type": "code",
   "execution_count": 50,
   "id": "f3c0440e",
   "metadata": {},
   "outputs": [
    {
     "data": {
      "image/png": "[encoded data removed]",
      "text/plain": [
       "<Figure size 432x288 with 1 Axes>"
      ]
     },
     "metadata": {
      "needs_background": "light"
     },
     "output_type": "display_data"
    },
    {
     "data": {
      "image/png": "[encoded data removed]",
      "text/plain": [
       "<Figure size 432x288 with 1 Axes>"
      ]
     },
     "metadata": {
      "needs_background": "light"
     },
     "output_type": "display_data"
    },
    {
     "data": {
      "image/png": "[encoded data removed]",
      "text/plain": [
       "<Figure size 432x288 with 1 Axes>"
      ]
     },
     "metadata": {
      "needs_background": "light"
     },
     "output_type": "display_data"
    },
    {
     "data": {
      "image/png": "[encoded data removed]",
      "text/plain": [
       "<Figure size 432x288 with 1 Axes>"
      ]
     },
     "metadata": {
      "needs_background": "light"
     },
     "output_type": "display_data"
    },
    {
     "data": {
      "image/png": "[encoded data removed]",
      "text/plain": [
       "<Figure size 432x288 with 1 Axes>"
      ]
     },
     "metadata": {
      "needs_background": "light"
     },
     "output_type": "display_data"
    },
    {
     "data": {
      "image/png": "[encoded data removed]",
      "text/plain": [
       "<Figure size 432x288 with 1 Axes>"
      ]
     },
     "metadata": {
      "needs_background": "light"
     },
     "output_type": "display_data"
    }
   ],
   "source": [
    "for value in df3.columns:\n",
    "    df3[value].hist(bins=10)\n",
    "    plt.title('Distribution of {0}'.format(value))\n",
    "    plt.show()"
   ]
  },
  {
   "cell_type": "code",
   "execution_count": 51,
   "id": "48e9814b",
   "metadata": {},
   "outputs": [
    {
     "data": {
      "text/html": [
       "<div>\n",
       "<style scoped>\n",
       "    .dataframe tbody tr th:only-of-type {\n",
       "        vertical-align: middle;\n",
       "    }\n",
       "\n",
       "    .dataframe tbody tr th {\n",
       "        vertical-align: top;\n",
       "    }\n",
       "\n",
       "    .dataframe thead th {\n",
       "        text-align: right;\n",
       "    }\n",
       "</style>\n",
       "<table border=\"1\" class=\"dataframe\">\n",
       "  <thead>\n",
       "    <tr style=\"text-align: right;\">\n",
       "      <th></th>\n",
       "      <th>team1</th>\n",
       "      <th>team2</th>\n",
       "      <th>possession team1</th>\n",
       "      <th>possession team2</th>\n",
       "      <th>possession in contest</th>\n",
       "      <th>date</th>\n",
       "      <th>hour</th>\n",
       "      <th>category</th>\n",
       "    </tr>\n",
       "  </thead>\n",
       "  <tbody>\n",
       "    <tr>\n",
       "      <th>0</th>\n",
       "      <td>QATAR</td>\n",
       "      <td>ECUADOR</td>\n",
       "      <td>42%</td>\n",
       "      <td>50%</td>\n",
       "      <td>8%</td>\n",
       "      <td>20 NOV 2022</td>\n",
       "      <td>17 : 00</td>\n",
       "      <td>Group A</td>\n",
       "    </tr>\n",
       "    <tr>\n",
       "      <th>1</th>\n",
       "      <td>ENGLAND</td>\n",
       "      <td>IRAN</td>\n",
       "      <td>72%</td>\n",
       "      <td>19%</td>\n",
       "      <td>9%</td>\n",
       "      <td>21 NOV 2022</td>\n",
       "      <td>14 : 00</td>\n",
       "      <td>Group B</td>\n",
       "    </tr>\n",
       "    <tr>\n",
       "      <th>2</th>\n",
       "      <td>SENEGAL</td>\n",
       "      <td>NETHERLANDS</td>\n",
       "      <td>44%</td>\n",
       "      <td>45%</td>\n",
       "      <td>11%</td>\n",
       "      <td>21 NOV 2022</td>\n",
       "      <td>17 : 00</td>\n",
       "      <td>Group A</td>\n",
       "    </tr>\n",
       "    <tr>\n",
       "      <th>3</th>\n",
       "      <td>UNITED STATES</td>\n",
       "      <td>WALES</td>\n",
       "      <td>51%</td>\n",
       "      <td>39%</td>\n",
       "      <td>10%</td>\n",
       "      <td>21 NOV 2022</td>\n",
       "      <td>20 : 00</td>\n",
       "      <td>Group B</td>\n",
       "    </tr>\n",
       "    <tr>\n",
       "      <th>4</th>\n",
       "      <td>ARGENTINA</td>\n",
       "      <td>SAUDI ARABIA</td>\n",
       "      <td>64%</td>\n",
       "      <td>24%</td>\n",
       "      <td>12%</td>\n",
       "      <td>22 NOV 2022</td>\n",
       "      <td>11 : 00</td>\n",
       "      <td>Group C</td>\n",
       "    </tr>\n",
       "    <tr>\n",
       "      <th>...</th>\n",
       "      <td>...</td>\n",
       "      <td>...</td>\n",
       "      <td>...</td>\n",
       "      <td>...</td>\n",
       "      <td>...</td>\n",
       "      <td>...</td>\n",
       "      <td>...</td>\n",
       "      <td>...</td>\n",
       "    </tr>\n",
       "    <tr>\n",
       "      <th>59</th>\n",
       "      <td>ENGLAND</td>\n",
       "      <td>FRANCE</td>\n",
       "      <td>54%</td>\n",
       "      <td>36%</td>\n",
       "      <td>10%</td>\n",
       "      <td>10 DEC 2022</td>\n",
       "      <td>20 : 00</td>\n",
       "      <td>Quarter-final</td>\n",
       "    </tr>\n",
       "    <tr>\n",
       "      <th>60</th>\n",
       "      <td>ARGENTINA</td>\n",
       "      <td>CROATIA</td>\n",
       "      <td>34%</td>\n",
       "      <td>54%</td>\n",
       "      <td>12%</td>\n",
       "      <td>13 DEC 2022</td>\n",
       "      <td>20 : 00</td>\n",
       "      <td>Semi-final</td>\n",
       "    </tr>\n",
       "    <tr>\n",
       "      <th>61</th>\n",
       "      <td>FRANCE</td>\n",
       "      <td>MOROCCO</td>\n",
       "      <td>34%</td>\n",
       "      <td>55%</td>\n",
       "      <td>11%</td>\n",
       "      <td>14 DEC 2022</td>\n",
       "      <td>20 : 00</td>\n",
       "      <td>Semi-final</td>\n",
       "    </tr>\n",
       "    <tr>\n",
       "      <th>62</th>\n",
       "      <td>CROATIA</td>\n",
       "      <td>MOROCCO</td>\n",
       "      <td>45%</td>\n",
       "      <td>45%</td>\n",
       "      <td>10%</td>\n",
       "      <td>17 DEC 2022</td>\n",
       "      <td>16 : 00</td>\n",
       "      <td>Play-off for third place</td>\n",
       "    </tr>\n",
       "    <tr>\n",
       "      <th>63</th>\n",
       "      <td>ARGENTINA</td>\n",
       "      <td>FRANCE</td>\n",
       "      <td>46%</td>\n",
       "      <td>40%</td>\n",
       "      <td>14%</td>\n",
       "      <td>18 DEC 2022</td>\n",
       "      <td>16 : 00</td>\n",
       "      <td>Final</td>\n",
       "    </tr>\n",
       "  </tbody>\n",
       "</table>\n",
       "<p>64 rows × 8 columns</p>\n",
       "</div>"
      ],
      "text/plain": [
       "            team1         team2 possession team1 possession team2  \\\n",
       "0           QATAR       ECUADOR              42%              50%   \n",
       "1         ENGLAND          IRAN              72%              19%   \n",
       "2         SENEGAL   NETHERLANDS              44%              45%   \n",
       "3   UNITED STATES         WALES              51%              39%   \n",
       "4       ARGENTINA  SAUDI ARABIA              64%              24%   \n",
       "..            ...           ...              ...              ...   \n",
       "59        ENGLAND        FRANCE              54%              36%   \n",
       "60      ARGENTINA       CROATIA              34%              54%   \n",
       "61         FRANCE       MOROCCO              34%              55%   \n",
       "62        CROATIA       MOROCCO              45%              45%   \n",
       "63      ARGENTINA        FRANCE              46%              40%   \n",
       "\n",
       "   possession in contest         date     hour                  category  \n",
       "0                     8%  20 NOV 2022  17 : 00                   Group A  \n",
       "1                     9%  21 NOV 2022  14 : 00                   Group B  \n",
       "2                    11%  21 NOV 2022  17 : 00                   Group A  \n",
       "3                    10%  21 NOV 2022  20 : 00                   Group B  \n",
       "4                    12%  22 NOV 2022  11 : 00                   Group C  \n",
       "..                   ...          ...      ...                       ...  \n",
       "59                   10%  10 DEC 2022  20 : 00             Quarter-final  \n",
       "60                   12%  13 DEC 2022  20 : 00                Semi-final  \n",
       "61                   11%  14 DEC 2022  20 : 00                Semi-final  \n",
       "62                   10%  17 DEC 2022  16 : 00  Play-off for third place  \n",
       "63                   14%  18 DEC 2022  16 : 00                     Final  \n",
       "\n",
       "[64 rows x 8 columns]"
      ]
     },
     "execution_count": 51,
     "metadata": {},
     "output_type": "execute_result"
    }
   ],
   "source": [
    "fifa.select_dtypes(include='object')"
   ]
  },
  {
   "cell_type": "code",
   "execution_count": null,
   "id": "ffdcd8ed",
   "metadata": {},
   "outputs": [],
   "source": [
    "# user: hi\n",
    "# bot: how may I assist you?\n",
    "# user: I want to book a ticket\n",
    "# bot: sure, please help me with your email to login\n",
    "# user: I didn't register\n",
    "# bot: sure, I will help you with registering, please help me with your email\n",
    "# user: xyz@gmail.com\n",
    "# bot: thank you, please provide a password\n",
    "# user: sfljslfj\n",
    "# bot: thank you for the information. Successfully registerd\n",
    "# bot: To which location you would like to book the ticket for?\n",
    "# user: Hyderabad\n",
    "# bot: Okay, there is a bus at 5pm to hyderabad, shall I go ahead and look it\n",
    "# user: yes\n",
    "# bot: Thank you booked the ticket for hyderabad at 5pm"
   ]
  },
  {
   "cell_type": "code",
   "execution_count": 58,
   "id": "0a09ff59",
   "metadata": {},
   "outputs": [
    {
     "name": "stdout",
     "output_type": "stream",
     "text": [
      "hello wrld\n",
      "hii\n"
     ]
    }
   ],
   "source": [
    "print(\"hello wrld\" \"\\n\" \"hii\")"
   ]
  },
  {
   "cell_type": "code",
   "execution_count": 85,
   "id": "fb88412e",
   "metadata": {},
   "outputs": [
    {
     "data": {
      "text/plain": [
       "10"
      ]
     },
     "execution_count": 85,
     "metadata": {},
     "output_type": "execute_result"
    }
   ],
   "source": [
    "np.random.randint(1,13)\n"
   ]
  },
  {
   "cell_type": "code",
   "execution_count": null,
   "id": "ed92a7c8",
   "metadata": {},
   "outputs": [],
   "source": []
  },
  {
   "cell_type": "code",
   "execution_count": null,
   "id": "51d99289",
   "metadata": {},
   "outputs": [],
   "source": []
  }
 ],
 "metadata": {
  "kernelspec": {
   "display_name": "Python 3 (ipykernel)",
   "language": "python",
   "name": "python3"
  },
  "language_info": {
   "codemirror_mode": {
    "name": "ipython",
    "version": 3
   },
   "file_extension": ".py",
   "mimetype": "text/x-python",
   "name": "python",
   "nbconvert_exporter": "python",
   "pygments_lexer": "ipython3",
   "version": "3.9.12"
  }
 },
 "nbformat": 4,
 "nbformat_minor": 5
}

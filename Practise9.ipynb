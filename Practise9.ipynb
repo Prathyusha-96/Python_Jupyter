{
 "cells": [
  {
   "cell_type": "markdown",
   "id": "afac4911",
   "metadata": {},
   "source": [
    "# Iterator"
   ]
  },
  {
   "cell_type": "code",
   "execution_count": 1,
   "id": "4d3aeb7f",
   "metadata": {},
   "outputs": [
    {
     "name": "stdout",
     "output_type": "stream",
     "text": [
      "1\n",
      "2\n",
      "3\n",
      "4\n"
     ]
    }
   ],
   "source": [
    "#iterable\n",
    "lst = [1, 2, 3, 4]\n",
    "for i in lst:\n",
    "    print(i)"
   ]
  },
  {
   "cell_type": "code",
   "execution_count": 2,
   "id": "63997155",
   "metadata": {},
   "outputs": [
    {
     "data": {
      "text/plain": [
       "<list_iterator at 0x1c6edfeeac0>"
      ]
     },
     "execution_count": 2,
     "metadata": {},
     "output_type": "execute_result"
    }
   ],
   "source": [
    "#iterator\n",
    "iter(lst)"
   ]
  },
  {
   "cell_type": "code",
   "execution_count": 3,
   "id": "e11b5513",
   "metadata": {},
   "outputs": [],
   "source": [
    "lst1 = iter(lst)\n"
   ]
  },
  {
   "cell_type": "code",
   "execution_count": 4,
   "id": "f5b51585",
   "metadata": {},
   "outputs": [
    {
     "data": {
      "text/plain": [
       "1"
      ]
     },
     "execution_count": 4,
     "metadata": {},
     "output_type": "execute_result"
    }
   ],
   "source": [
    "next(lst1)"
   ]
  },
  {
   "cell_type": "code",
   "execution_count": 5,
   "id": "11645622",
   "metadata": {},
   "outputs": [],
   "source": [
    "str1 = 'PRATHYUSHA'"
   ]
  },
  {
   "cell_type": "code",
   "execution_count": 6,
   "id": "ed675ff6",
   "metadata": {},
   "outputs": [
    {
     "name": "stdout",
     "output_type": "stream",
     "text": [
      "P\n",
      "R\n",
      "A\n",
      "T\n",
      "H\n",
      "Y\n",
      "U\n",
      "S\n",
      "H\n",
      "A\n"
     ]
    }
   ],
   "source": [
    "for l in str1:\n",
    "    print(l)"
   ]
  },
  {
   "cell_type": "code",
   "execution_count": 7,
   "id": "53339db6",
   "metadata": {},
   "outputs": [
    {
     "data": {
      "text/plain": [
       "<str_iterator at 0x1c6ef009ee0>"
      ]
     },
     "execution_count": 7,
     "metadata": {},
     "output_type": "execute_result"
    }
   ],
   "source": [
    "iter(str1)"
   ]
  },
  {
   "cell_type": "code",
   "execution_count": 8,
   "id": "46fc1843",
   "metadata": {},
   "outputs": [],
   "source": [
    "str2 = iter(str1)"
   ]
  },
  {
   "cell_type": "code",
   "execution_count": 9,
   "id": "c70d2f21",
   "metadata": {},
   "outputs": [
    {
     "data": {
      "text/plain": [
       "'P'"
      ]
     },
     "execution_count": 9,
     "metadata": {},
     "output_type": "execute_result"
    }
   ],
   "source": [
    "next(str2)"
   ]
  },
  {
   "cell_type": "code",
   "execution_count": 10,
   "id": "0787e330",
   "metadata": {},
   "outputs": [
    {
     "name": "stdout",
     "output_type": "stream",
     "text": [
      "('name', 'john')\n",
      "('age', 30)\n"
     ]
    }
   ],
   "source": [
    "dict1 = {'name': 'john', 'age': 30}\n",
    "for key in dict1.items():\n",
    "    print(key)"
   ]
  },
  {
   "cell_type": "code",
   "execution_count": 11,
   "id": "f2a783eb",
   "metadata": {},
   "outputs": [
    {
     "data": {
      "text/plain": [
       "<dict_keyiterator at 0x1c6ef00f360>"
      ]
     },
     "execution_count": 11,
     "metadata": {},
     "output_type": "execute_result"
    }
   ],
   "source": [
    " iter(dict1)"
   ]
  },
  {
   "cell_type": "code",
   "execution_count": 12,
   "id": "45625dfc",
   "metadata": {},
   "outputs": [
    {
     "data": {
      "text/plain": [
       "'name'"
      ]
     },
     "execution_count": 12,
     "metadata": {},
     "output_type": "execute_result"
    }
   ],
   "source": [
    "dict2 = iter(dict1)\n",
    "next(dict2)"
   ]
  },
  {
   "cell_type": "code",
   "execution_count": 13,
   "id": "f1f16a9e",
   "metadata": {},
   "outputs": [],
   "source": [
    "tup = ('a', 'b', 'c', 'd', 'e')"
   ]
  },
  {
   "cell_type": "code",
   "execution_count": 14,
   "id": "dd96191f",
   "metadata": {},
   "outputs": [
    {
     "name": "stdout",
     "output_type": "stream",
     "text": [
      "a\n",
      "b\n",
      "c\n",
      "d\n",
      "e\n"
     ]
    }
   ],
   "source": [
    "for i in tup:\n",
    "    print(i)"
   ]
  },
  {
   "cell_type": "code",
   "execution_count": 15,
   "id": "f0731dcf",
   "metadata": {},
   "outputs": [
    {
     "name": "stdout",
     "output_type": "stream",
     "text": [
      "a\n",
      "b\n",
      "c\n",
      "\n",
      " outside loop\n",
      "d\n",
      "e\n"
     ]
    }
   ],
   "source": [
    "tup_iter = iter(tup)\n",
    "for index, item in enumerate(tup_iter):\n",
    "    print(item)\n",
    "    if index == 2:\n",
    "        break\n",
    "print('\\n outside loop')\n",
    "print(next(tup_iter))\n",
    "print(next(tup_iter))"
   ]
  },
  {
   "cell_type": "code",
   "execution_count": 16,
   "id": "c2776b7f",
   "metadata": {},
   "outputs": [],
   "source": [
    "lst_1 = [10, 20, 30, 40, 50]"
   ]
  },
  {
   "cell_type": "code",
   "execution_count": 17,
   "id": "6c260eca",
   "metadata": {},
   "outputs": [],
   "source": [
    "\n",
    "lst_iter = iter(lst_1)"
   ]
  },
  {
   "cell_type": "code",
   "execution_count": 18,
   "id": "ae03db6c",
   "metadata": {},
   "outputs": [
    {
     "name": "stdout",
     "output_type": "stream",
     "text": [
      "10\n"
     ]
    }
   ],
   "source": [
    "try:\n",
    "    print(next(lst_iter))\n",
    "except:\n",
    "    print('the iteration is empty')"
   ]
  },
  {
   "cell_type": "code",
   "execution_count": 19,
   "id": "ab46937b",
   "metadata": {},
   "outputs": [
    {
     "name": "stdout",
     "output_type": "stream",
     "text": [
      "20\n",
      "30\n",
      "40\n",
      "50\n"
     ]
    }
   ],
   "source": [
    "for i in lst_iter:\n",
    "    print(i)"
   ]
  },
  {
   "cell_type": "markdown",
   "id": "ece12677",
   "metadata": {},
   "source": [
    "# Generators\n"
   ]
  },
  {
   "cell_type": "code",
   "execution_count": 20,
   "id": "58cf8b83",
   "metadata": {},
   "outputs": [],
   "source": [
    "def square(n):\n",
    "    for i in range(n):\n",
    "        yield i**2\n"
   ]
  },
  {
   "cell_type": "code",
   "execution_count": 21,
   "id": "91df9b28",
   "metadata": {},
   "outputs": [
    {
     "name": "stdout",
     "output_type": "stream",
     "text": [
      "0\n",
      "1\n",
      "4\n"
     ]
    }
   ],
   "source": [
    "for i in square(3):\n",
    "    print(i)"
   ]
  },
  {
   "cell_type": "code",
   "execution_count": 22,
   "id": "187aa6a9",
   "metadata": {},
   "outputs": [
    {
     "data": {
      "text/plain": [
       "<generator object square at 0x000001C6EF01C0B0>"
      ]
     },
     "execution_count": 22,
     "metadata": {},
     "output_type": "execute_result"
    }
   ],
   "source": [
    "a = square(3)\n",
    "a"
   ]
  },
  {
   "cell_type": "code",
   "execution_count": 23,
   "id": "d412bd4b",
   "metadata": {},
   "outputs": [
    {
     "data": {
      "text/plain": [
       "0"
      ]
     },
     "execution_count": 23,
     "metadata": {},
     "output_type": "execute_result"
    }
   ],
   "source": [
    "next(a)"
   ]
  },
  {
   "cell_type": "code",
   "execution_count": 24,
   "id": "ace7c7eb",
   "metadata": {},
   "outputs": [
    {
     "name": "stdout",
     "output_type": "stream",
     "text": [
      "0\n",
      "1\n",
      "2\n"
     ]
    }
   ],
   "source": [
    "def my_func(n):\n",
    "    value = 0\n",
    "    while value < n:\n",
    "        yield value\n",
    "        value += 1\n",
    "for value in my_func(3):\n",
    "    print(value)\n",
    "        "
   ]
  },
  {
   "cell_type": "code",
   "execution_count": 25,
   "id": "7bab3030",
   "metadata": {},
   "outputs": [
    {
     "data": {
      "text/plain": [
       "<generator object my_func at 0x000001C6EF01C7B0>"
      ]
     },
     "execution_count": 25,
     "metadata": {},
     "output_type": "execute_result"
    }
   ],
   "source": [
    "a = my_func(3)\n",
    "a"
   ]
  },
  {
   "cell_type": "code",
   "execution_count": 26,
   "id": "26b0cf7f",
   "metadata": {},
   "outputs": [
    {
     "data": {
      "text/plain": [
       "0"
      ]
     },
     "execution_count": 26,
     "metadata": {},
     "output_type": "execute_result"
    }
   ],
   "source": [
    "next(a)"
   ]
  },
  {
   "cell_type": "code",
   "execution_count": 27,
   "id": "5aef385e",
   "metadata": {},
   "outputs": [
    {
     "name": "stdout",
     "output_type": "stream",
     "text": [
      "0\n",
      "1\n",
      "4\n",
      "9\n",
      "16\n"
     ]
    }
   ],
   "source": [
    "gene = [i ** 2 for i in range(5)]\n",
    "for  i in gene:\n",
    "    print(i)"
   ]
  },
  {
   "cell_type": "code",
   "execution_count": 28,
   "id": "41f937e7",
   "metadata": {},
   "outputs": [
    {
     "data": {
      "text/plain": [
       "<generator object add_num at 0x000001C6EF01C900>"
      ]
     },
     "execution_count": 28,
     "metadata": {},
     "output_type": "execute_result"
    }
   ],
   "source": [
    "def add_num(a, b):\n",
    "    yield a+b\n",
    "add_num(2, 3)"
   ]
  },
  {
   "cell_type": "code",
   "execution_count": 29,
   "id": "40edefd9",
   "metadata": {},
   "outputs": [
    {
     "data": {
      "text/plain": [
       "<generator object add_num at 0x000001C6EF01CB30>"
      ]
     },
     "execution_count": 29,
     "metadata": {},
     "output_type": "execute_result"
    }
   ],
   "source": [
    "a = add_num(2, 3)\n",
    "a"
   ]
  },
  {
   "cell_type": "code",
   "execution_count": 30,
   "id": "68709843",
   "metadata": {},
   "outputs": [
    {
     "data": {
      "text/plain": [
       "5"
      ]
     },
     "execution_count": 30,
     "metadata": {},
     "output_type": "execute_result"
    }
   ],
   "source": [
    "next(a)"
   ]
  },
  {
   "cell_type": "markdown",
   "id": "23eff25e",
   "metadata": {},
   "source": [
    "# Decorators"
   ]
  },
  {
   "cell_type": "code",
   "execution_count": 31,
   "id": "b8c8ed59",
   "metadata": {},
   "outputs": [],
   "source": [
    "def my_func():\n",
    "#     print('Hi, Welcome')\n",
    "      return 'Hi, Welcome'"
   ]
  },
  {
   "cell_type": "code",
   "execution_count": 32,
   "id": "a8d817c1",
   "metadata": {},
   "outputs": [
    {
     "data": {
      "text/plain": [
       "'Hi, Welcome'"
      ]
     },
     "execution_count": 32,
     "metadata": {},
     "output_type": "execute_result"
    }
   ],
   "source": [
    "my_func()"
   ]
  },
  {
   "cell_type": "code",
   "execution_count": 33,
   "id": "aeb83f1a",
   "metadata": {},
   "outputs": [],
   "source": [
    "wel = my_func()\n",
    "del my_func"
   ]
  },
  {
   "cell_type": "code",
   "execution_count": 34,
   "id": "b50acdbe",
   "metadata": {},
   "outputs": [
    {
     "data": {
      "text/plain": [
       "'Hi, Welcome'"
      ]
     },
     "execution_count": 34,
     "metadata": {},
     "output_type": "execute_result"
    }
   ],
   "source": [
    "wel"
   ]
  },
  {
   "cell_type": "code",
   "execution_count": 35,
   "id": "9788e752",
   "metadata": {},
   "outputs": [],
   "source": [
    "#closures\n",
    "def main_welcome():\n",
    "    msg = 'hey how are you'\n",
    "    def sub_welcome():\n",
    "        print('Iam good')\n",
    "        print(msg)\n",
    "        print('how may i help you')\n",
    "    return sub_welcome()"
   ]
  },
  {
   "cell_type": "code",
   "execution_count": 36,
   "id": "4b51d8a5",
   "metadata": {},
   "outputs": [
    {
     "name": "stdout",
     "output_type": "stream",
     "text": [
      "Iam good\n",
      "hey how are you\n",
      "how may i help you\n"
     ]
    }
   ],
   "source": [
    "main_welcome()"
   ]
  },
  {
   "cell_type": "code",
   "execution_count": 37,
   "id": "02554c8b",
   "metadata": {},
   "outputs": [],
   "source": [
    "def main_welcome(msg):\n",
    "   \n",
    "    def sub_welcome():\n",
    "        print('Iam good')\n",
    "        print(msg)\n",
    "        print('how may i help you')\n",
    "    return sub_welcome()"
   ]
  },
  {
   "cell_type": "code",
   "execution_count": 38,
   "id": "ad710a83",
   "metadata": {},
   "outputs": [
    {
     "name": "stdout",
     "output_type": "stream",
     "text": [
      "Iam good\n",
      "Hey how are you\n",
      "how may i help you\n"
     ]
    }
   ],
   "source": [
    "main_welcome('Hey how are you')"
   ]
  },
  {
   "cell_type": "code",
   "execution_count": 39,
   "id": "ed4abde4",
   "metadata": {},
   "outputs": [],
   "source": [
    "#clousers and initial decorators\n",
    "def main_welcome(func):\n",
    "   \n",
    "    def sub_welcome():\n",
    "        print('Iam good')\n",
    "        func('hey, how are you')\n",
    "        print('how may i help you')\n",
    "    return sub_welcome()"
   ]
  },
  {
   "cell_type": "code",
   "execution_count": 40,
   "id": "ead8be10",
   "metadata": {},
   "outputs": [
    {
     "name": "stdout",
     "output_type": "stream",
     "text": [
      "Iam good\n",
      "hey, how are you\n",
      "how may i help you\n"
     ]
    }
   ],
   "source": [
    "main_welcome(print) #inbuilt-function"
   ]
  },
  {
   "cell_type": "code",
   "execution_count": 41,
   "id": "64f1afe9",
   "metadata": {},
   "outputs": [],
   "source": [
    "def main_welcome(func):\n",
    "   \n",
    "    def sub_welcome():\n",
    "        print('Iam good')\n",
    "        print(func([1, 2, 3, 4, 5]))\n",
    "        print('how may i help you')\n",
    "    return sub_welcome()"
   ]
  },
  {
   "cell_type": "code",
   "execution_count": 42,
   "id": "e9328499",
   "metadata": {},
   "outputs": [
    {
     "name": "stdout",
     "output_type": "stream",
     "text": [
      "Iam good\n",
      "5\n",
      "how may i help you\n"
     ]
    }
   ],
   "source": [
    "main_welcome(len)"
   ]
  },
  {
   "cell_type": "code",
   "execution_count": 43,
   "id": "b8ee828d",
   "metadata": {},
   "outputs": [],
   "source": [
    "#Decorators\n",
    "def main_welcome(func):\n",
    "   \n",
    "    def sub_welcome():\n",
    "        print('Iam good')\n",
    "        func()\n",
    "        print('how may i help you')\n",
    "    return sub_welcome()"
   ]
  },
  {
   "cell_type": "code",
   "execution_count": 44,
   "id": "9bf11843",
   "metadata": {},
   "outputs": [
    {
     "name": "stdout",
     "output_type": "stream",
     "text": [
      "Iam good\n",
      "hey how are you\n",
      "how may i help you\n"
     ]
    }
   ],
   "source": [
    "@main_welcome\n",
    "def welcome():\n",
    "    print(\"hey how are you\")\n",
    "    "
   ]
  },
  {
   "cell_type": "code",
   "execution_count": 46,
   "id": "d95643eb",
   "metadata": {},
   "outputs": [
    {
     "name": "stdout",
     "output_type": "stream",
     "text": [
      "Iam good\n"
     ]
    },
    {
     "ename": "TypeError",
     "evalue": "'NoneType' object is not callable",
     "output_type": "error",
     "traceback": [
      "\u001b[1;31m---------------------------------------------------------------------------\u001b[0m",
      "\u001b[1;31mTypeError\u001b[0m                                 Traceback (most recent call last)",
      "Input \u001b[1;32mIn [46]\u001b[0m, in \u001b[0;36m<cell line: 1>\u001b[1;34m()\u001b[0m\n\u001b[1;32m----> 1\u001b[0m wel \u001b[38;5;241m=\u001b[39m \u001b[43mmain_welcome\u001b[49m\u001b[43m(\u001b[49m\u001b[43mwelcome\u001b[49m\u001b[43m)\u001b[49m\n\u001b[0;32m      2\u001b[0m wel()\n",
      "Input \u001b[1;32mIn [43]\u001b[0m, in \u001b[0;36mmain_welcome\u001b[1;34m(func)\u001b[0m\n\u001b[0;32m      6\u001b[0m     func()\n\u001b[0;32m      7\u001b[0m     \u001b[38;5;28mprint\u001b[39m(\u001b[38;5;124m'\u001b[39m\u001b[38;5;124mhow may i help you\u001b[39m\u001b[38;5;124m'\u001b[39m)\n\u001b[1;32m----> 8\u001b[0m \u001b[38;5;28;01mreturn\u001b[39;00m \u001b[43msub_welcome\u001b[49m\u001b[43m(\u001b[49m\u001b[43m)\u001b[49m\n",
      "Input \u001b[1;32mIn [43]\u001b[0m, in \u001b[0;36mmain_welcome.<locals>.sub_welcome\u001b[1;34m()\u001b[0m\n\u001b[0;32m      4\u001b[0m \u001b[38;5;28;01mdef\u001b[39;00m \u001b[38;5;21msub_welcome\u001b[39m():\n\u001b[0;32m      5\u001b[0m     \u001b[38;5;28mprint\u001b[39m(\u001b[38;5;124m'\u001b[39m\u001b[38;5;124mIam good\u001b[39m\u001b[38;5;124m'\u001b[39m)\n\u001b[1;32m----> 6\u001b[0m     \u001b[43mfunc\u001b[49m\u001b[43m(\u001b[49m\u001b[43m)\u001b[49m\n\u001b[0;32m      7\u001b[0m     \u001b[38;5;28mprint\u001b[39m(\u001b[38;5;124m'\u001b[39m\u001b[38;5;124mhow may i help you\u001b[39m\u001b[38;5;124m'\u001b[39m)\n",
      "\u001b[1;31mTypeError\u001b[0m: 'NoneType' object is not callable"
     ]
    }
   ],
   "source": [
    "wel = main_welcome(welcome)\n",
    "wel()"
   ]
  },
  {
   "cell_type": "code",
   "execution_count": 47,
   "id": "827b432d",
   "metadata": {},
   "outputs": [],
   "source": [
    "def hello_func(func):\n",
    "    def inner1():\n",
    "        print(\"hello  world\")\n",
    "        func()\n",
    "        print(\"hello everyone\")\n",
    "    return inner1()"
   ]
  },
  {
   "cell_type": "code",
   "execution_count": 48,
   "id": "4d061202",
   "metadata": {},
   "outputs": [
    {
     "name": "stdout",
     "output_type": "stream",
     "text": [
      "hello  world\n",
      "this is main function\n",
      "hello everyone\n"
     ]
    }
   ],
   "source": [
    "@hello_func\n",
    "def main_func():\n",
    "    print(\"this is main function\")"
   ]
  },
  {
   "cell_type": "code",
   "execution_count": 49,
   "id": "d639f2ab",
   "metadata": {},
   "outputs": [
    {
     "name": "stdout",
     "output_type": "stream",
     "text": [
      "hello  world\n"
     ]
    },
    {
     "ename": "TypeError",
     "evalue": "'NoneType' object is not callable",
     "output_type": "error",
     "traceback": [
      "\u001b[1;31m---------------------------------------------------------------------------\u001b[0m",
      "\u001b[1;31mTypeError\u001b[0m                                 Traceback (most recent call last)",
      "Input \u001b[1;32mIn [49]\u001b[0m, in \u001b[0;36m<cell line: 1>\u001b[1;34m()\u001b[0m\n\u001b[1;32m----> 1\u001b[0m \u001b[43mhello_func\u001b[49m\u001b[43m(\u001b[49m\u001b[43mmain_func\u001b[49m\u001b[43m)\u001b[49m\n",
      "Input \u001b[1;32mIn [47]\u001b[0m, in \u001b[0;36mhello_func\u001b[1;34m(func)\u001b[0m\n\u001b[0;32m      4\u001b[0m     func()\n\u001b[0;32m      5\u001b[0m     \u001b[38;5;28mprint\u001b[39m(\u001b[38;5;124m\"\u001b[39m\u001b[38;5;124mhello everyone\u001b[39m\u001b[38;5;124m\"\u001b[39m)\n\u001b[1;32m----> 6\u001b[0m \u001b[38;5;28;01mreturn\u001b[39;00m \u001b[43minner1\u001b[49m\u001b[43m(\u001b[49m\u001b[43m)\u001b[49m\n",
      "Input \u001b[1;32mIn [47]\u001b[0m, in \u001b[0;36mhello_func.<locals>.inner1\u001b[1;34m()\u001b[0m\n\u001b[0;32m      2\u001b[0m \u001b[38;5;28;01mdef\u001b[39;00m \u001b[38;5;21minner1\u001b[39m():\n\u001b[0;32m      3\u001b[0m     \u001b[38;5;28mprint\u001b[39m(\u001b[38;5;124m\"\u001b[39m\u001b[38;5;124mhello  world\u001b[39m\u001b[38;5;124m\"\u001b[39m)\n\u001b[1;32m----> 4\u001b[0m     \u001b[43mfunc\u001b[49m\u001b[43m(\u001b[49m\u001b[43m)\u001b[49m\n\u001b[0;32m      5\u001b[0m     \u001b[38;5;28mprint\u001b[39m(\u001b[38;5;124m\"\u001b[39m\u001b[38;5;124mhello everyone\u001b[39m\u001b[38;5;124m\"\u001b[39m)\n",
      "\u001b[1;31mTypeError\u001b[0m: 'NoneType' object is not callable"
     ]
    }
   ],
   "source": [
    "hello_func(main_func)"
   ]
  },
  {
   "cell_type": "code",
   "execution_count": 50,
   "id": "cedbe5b8",
   "metadata": {},
   "outputs": [],
   "source": [
    "def hello_func(func):\n",
    "    def add_num(a, b):\n",
    "        return a+b\n",
    "        print('add numbers')\n",
    "        func()\n",
    "        \n",
    "    return add_num(2,3)"
   ]
  },
  {
   "cell_type": "code",
   "execution_count": 51,
   "id": "6d4e6695",
   "metadata": {},
   "outputs": [
    {
     "data": {
      "text/plain": [
       "5"
      ]
     },
     "execution_count": 51,
     "metadata": {},
     "output_type": "execute_result"
    }
   ],
   "source": [
    "hello_func('addition')"
   ]
  },
  {
   "cell_type": "code",
   "execution_count": 52,
   "id": "6dba0363",
   "metadata": {},
   "outputs": [
    {
     "name": "stdout",
     "output_type": "stream",
     "text": [
      "1\n",
      "2\n",
      "3\n",
      "4\n",
      "5\n"
     ]
    }
   ],
   "source": [
    "li = [1, 2, 3, 4, 5]\n",
    "for i in li:\n",
    "    print(i)"
   ]
  },
  {
   "cell_type": "code",
   "execution_count": 53,
   "id": "333dc17e",
   "metadata": {},
   "outputs": [],
   "source": [
    "tup = ('a', 'b', 'c', 'd')\n",
    "tup_iter = iter(tup)"
   ]
  },
  {
   "cell_type": "code",
   "execution_count": 54,
   "id": "670da89f",
   "metadata": {},
   "outputs": [
    {
     "data": {
      "text/plain": [
       "<tuple_iterator at 0x1c6ef036880>"
      ]
     },
     "execution_count": 54,
     "metadata": {},
     "output_type": "execute_result"
    }
   ],
   "source": [
    "tup_iter"
   ]
  },
  {
   "cell_type": "code",
   "execution_count": 55,
   "id": "8553cc62",
   "metadata": {},
   "outputs": [
    {
     "data": {
      "text/plain": [
       "'a'"
      ]
     },
     "execution_count": 55,
     "metadata": {},
     "output_type": "execute_result"
    }
   ],
   "source": [
    "next(tup_iter)"
   ]
  },
  {
   "cell_type": "code",
   "execution_count": 56,
   "id": "330e21dd",
   "metadata": {},
   "outputs": [],
   "source": [
    "def my_func(a, b):\n",
    "    yield a+b"
   ]
  },
  {
   "cell_type": "code",
   "execution_count": 57,
   "id": "8bf7b0bb",
   "metadata": {},
   "outputs": [],
   "source": [
    "a = my_func(2, 3)"
   ]
  },
  {
   "cell_type": "code",
   "execution_count": 58,
   "id": "701e37da",
   "metadata": {},
   "outputs": [
    {
     "data": {
      "text/plain": [
       "<generator object my_func at 0x000001C6EFB08510>"
      ]
     },
     "execution_count": 58,
     "metadata": {},
     "output_type": "execute_result"
    }
   ],
   "source": [
    "a"
   ]
  },
  {
   "cell_type": "code",
   "execution_count": 59,
   "id": "9f52d746",
   "metadata": {},
   "outputs": [
    {
     "data": {
      "text/plain": [
       "5"
      ]
     },
     "execution_count": 59,
     "metadata": {},
     "output_type": "execute_result"
    }
   ],
   "source": [
    "next(a)"
   ]
  },
  {
   "cell_type": "code",
   "execution_count": 60,
   "id": "78f48f84",
   "metadata": {},
   "outputs": [],
   "source": [
    "def square(n):\n",
    "    yield n**3\n",
    "    "
   ]
  },
  {
   "cell_type": "code",
   "execution_count": 61,
   "id": "b94dfde5",
   "metadata": {},
   "outputs": [
    {
     "name": "stdout",
     "output_type": "stream",
     "text": [
      "27\n"
     ]
    }
   ],
   "source": [
    "for i in square(3):\n",
    "    print(i)"
   ]
  },
  {
   "cell_type": "code",
   "execution_count": 62,
   "id": "5ddefea0",
   "metadata": {},
   "outputs": [
    {
     "data": {
      "text/plain": [
       "27"
      ]
     },
     "execution_count": 62,
     "metadata": {},
     "output_type": "execute_result"
    }
   ],
   "source": [
    "3**3"
   ]
  },
  {
   "cell_type": "code",
   "execution_count": 63,
   "id": "53c338bd",
   "metadata": {},
   "outputs": [
    {
     "data": {
      "text/plain": [
       "27"
      ]
     },
     "execution_count": 63,
     "metadata": {},
     "output_type": "execute_result"
    }
   ],
   "source": [
    "next(square(3))"
   ]
  },
  {
   "cell_type": "code",
   "execution_count": 133,
   "id": "d81ef1c2",
   "metadata": {},
   "outputs": [],
   "source": [
    "def welcome(func):\n",
    "    def sub_welcome():\n",
    "        print('hii, welcome')\n",
    "        func()\n",
    "        print('hwy, how are you')\n",
    "    return sub_welcome()"
   ]
  },
  {
   "cell_type": "code",
   "execution_count": 65,
   "id": "f0681a60",
   "metadata": {},
   "outputs": [
    {
     "name": "stdout",
     "output_type": "stream",
     "text": [
      "hii, welcome\n",
      "how may i help you\n",
      "hwy, how are you\n"
     ]
    }
   ],
   "source": [
    "@welcome\n",
    "def welcome_func():\n",
    "    print(\"how may i help you\")"
   ]
  },
  {
   "cell_type": "code",
   "execution_count": 134,
   "id": "e1241944",
   "metadata": {},
   "outputs": [
    {
     "name": "stdout",
     "output_type": "stream",
     "text": [
      "hii, welcome\n"
     ]
    },
    {
     "ename": "TypeError",
     "evalue": "'NoneType' object is not callable",
     "output_type": "error",
     "traceback": [
      "\u001b[1;31m---------------------------------------------------------------------------\u001b[0m",
      "\u001b[1;31mTypeError\u001b[0m                                 Traceback (most recent call last)",
      "Input \u001b[1;32mIn [134]\u001b[0m, in \u001b[0;36m<cell line: 1>\u001b[1;34m()\u001b[0m\n\u001b[1;32m----> 1\u001b[0m \u001b[43mwelcome\u001b[49m\u001b[43m(\u001b[49m\u001b[43mwelcome_func\u001b[49m\u001b[43m)\u001b[49m\n",
      "Input \u001b[1;32mIn [133]\u001b[0m, in \u001b[0;36mwelcome\u001b[1;34m(func)\u001b[0m\n\u001b[0;32m      4\u001b[0m     func()\n\u001b[0;32m      5\u001b[0m     \u001b[38;5;28mprint\u001b[39m(\u001b[38;5;124m'\u001b[39m\u001b[38;5;124mhwy, how are you\u001b[39m\u001b[38;5;124m'\u001b[39m)\n\u001b[1;32m----> 6\u001b[0m \u001b[38;5;28;01mreturn\u001b[39;00m \u001b[43msub_welcome\u001b[49m\u001b[43m(\u001b[49m\u001b[43m)\u001b[49m\n",
      "Input \u001b[1;32mIn [133]\u001b[0m, in \u001b[0;36mwelcome.<locals>.sub_welcome\u001b[1;34m()\u001b[0m\n\u001b[0;32m      2\u001b[0m \u001b[38;5;28;01mdef\u001b[39;00m \u001b[38;5;21msub_welcome\u001b[39m():\n\u001b[0;32m      3\u001b[0m     \u001b[38;5;28mprint\u001b[39m(\u001b[38;5;124m'\u001b[39m\u001b[38;5;124mhii, welcome\u001b[39m\u001b[38;5;124m'\u001b[39m)\n\u001b[1;32m----> 4\u001b[0m     \u001b[43mfunc\u001b[49m\u001b[43m(\u001b[49m\u001b[43m)\u001b[49m\n\u001b[0;32m      5\u001b[0m     \u001b[38;5;28mprint\u001b[39m(\u001b[38;5;124m'\u001b[39m\u001b[38;5;124mhwy, how are you\u001b[39m\u001b[38;5;124m'\u001b[39m)\n",
      "\u001b[1;31mTypeError\u001b[0m: 'NoneType' object is not callable"
     ]
    }
   ],
   "source": [
    "welcome(welcome_func)"
   ]
  },
  {
   "cell_type": "code",
   "execution_count": 76,
   "id": "3a7fab1c",
   "metadata": {},
   "outputs": [
    {
     "name": "stdout",
     "output_type": "stream",
     "text": [
      "Hi\n"
     ]
    }
   ],
   "source": [
    "def outer_func():\n",
    "    message = 'Hi'\n",
    "    def inner_func():\n",
    "        print(message)\n",
    "    return inner_func\n",
    "my_func = outer_func()\n",
    "my_func()"
   ]
  },
  {
   "cell_type": "code",
   "execution_count": 77,
   "id": "84471c9c",
   "metadata": {},
   "outputs": [
    {
     "name": "stdout",
     "output_type": "stream",
     "text": [
      "Hi\n"
     ]
    }
   ],
   "source": [
    "my_func = outer_func()\n",
    "my_func()"
   ]
  },
  {
   "cell_type": "code",
   "execution_count": 78,
   "id": "7b96af92",
   "metadata": {},
   "outputs": [
    {
     "name": "stdout",
     "output_type": "stream",
     "text": [
      "Hi\n"
     ]
    }
   ],
   "source": [
    "my_func()"
   ]
  },
  {
   "cell_type": "code",
   "execution_count": 102,
   "id": "34faec58",
   "metadata": {},
   "outputs": [],
   "source": [
    "def func_one(func):\n",
    "    message = 'hey how are you'\n",
    "    def func_two():\n",
    "        print(message)\n",
    "        return func()\n",
    "    return func_two()\n"
   ]
  },
  {
   "cell_type": "code",
   "execution_count": 104,
   "id": "60bac2d9",
   "metadata": {},
   "outputs": [
    {
     "name": "stdout",
     "output_type": "stream",
     "text": [
      "hey how are you\n",
      "iam good\n"
     ]
    }
   ],
   "source": [
    "@func_one\n",
    "def func_three():\n",
    "    print(\"iam good\")"
   ]
  },
  {
   "cell_type": "code",
   "execution_count": 105,
   "id": "7013cdcc",
   "metadata": {},
   "outputs": [
    {
     "name": "stdout",
     "output_type": "stream",
     "text": [
      "hey how are you\n"
     ]
    },
    {
     "ename": "TypeError",
     "evalue": "'NoneType' object is not callable",
     "output_type": "error",
     "traceback": [
      "\u001b[1;31m---------------------------------------------------------------------------\u001b[0m",
      "\u001b[1;31mTypeError\u001b[0m                                 Traceback (most recent call last)",
      "Input \u001b[1;32mIn [105]\u001b[0m, in \u001b[0;36m<cell line: 2>\u001b[1;34m()\u001b[0m\n\u001b[0;32m      1\u001b[0m \u001b[38;5;66;03m# func_one()\u001b[39;00m\n\u001b[1;32m----> 2\u001b[0m main_func \u001b[38;5;241m=\u001b[39m \u001b[43mfunc_one\u001b[49m\u001b[43m(\u001b[49m\u001b[43mfunc_three\u001b[49m\u001b[43m)\u001b[49m\n",
      "Input \u001b[1;32mIn [102]\u001b[0m, in \u001b[0;36mfunc_one\u001b[1;34m(func)\u001b[0m\n\u001b[0;32m      4\u001b[0m     \u001b[38;5;28mprint\u001b[39m(message)\n\u001b[0;32m      5\u001b[0m     \u001b[38;5;28;01mreturn\u001b[39;00m func()\n\u001b[1;32m----> 6\u001b[0m \u001b[38;5;28;01mreturn\u001b[39;00m \u001b[43mfunc_two\u001b[49m\u001b[43m(\u001b[49m\u001b[43m)\u001b[49m\n",
      "Input \u001b[1;32mIn [102]\u001b[0m, in \u001b[0;36mfunc_one.<locals>.func_two\u001b[1;34m()\u001b[0m\n\u001b[0;32m      3\u001b[0m \u001b[38;5;28;01mdef\u001b[39;00m \u001b[38;5;21mfunc_two\u001b[39m():\n\u001b[0;32m      4\u001b[0m     \u001b[38;5;28mprint\u001b[39m(message)\n\u001b[1;32m----> 5\u001b[0m     \u001b[38;5;28;01mreturn\u001b[39;00m \u001b[43mfunc\u001b[49m\u001b[43m(\u001b[49m\u001b[43m)\u001b[49m\n",
      "\u001b[1;31mTypeError\u001b[0m: 'NoneType' object is not callable"
     ]
    }
   ],
   "source": [
    "# func_one()\n",
    "main_func = func_one(func_three)"
   ]
  },
  {
   "cell_type": "code",
   "execution_count": 106,
   "id": "45e81239",
   "metadata": {},
   "outputs": [
    {
     "name": "stdout",
     "output_type": "stream",
     "text": [
      "hey how are you\n",
      "hey how are you\n",
      "iam good\n"
     ]
    }
   ],
   "source": [
    "main_func()"
   ]
  },
  {
   "cell_type": "code",
   "execution_count": 107,
   "id": "11650634",
   "metadata": {},
   "outputs": [
    {
     "name": "stdout",
     "output_type": "stream",
     "text": [
      "1\n",
      "2\n",
      "3\n",
      "4\n"
     ]
    }
   ],
   "source": [
    "my_list = [1, 2, 3,4]\n",
    "for i in my_list:\n",
    "    print(i)"
   ]
  },
  {
   "cell_type": "code",
   "execution_count": 114,
   "id": "8e853bd0",
   "metadata": {},
   "outputs": [
    {
     "data": {
      "text/plain": [
       "<list_iterator at 0x1c6ef321910>"
      ]
     },
     "execution_count": 114,
     "metadata": {},
     "output_type": "execute_result"
    }
   ],
   "source": [
    "list_iter = iter(my_list)\n",
    "list_iter"
   ]
  },
  {
   "cell_type": "code",
   "execution_count": 118,
   "id": "bc9fbf6f",
   "metadata": {},
   "outputs": [
    {
     "data": {
      "text/plain": [
       "4"
      ]
     },
     "execution_count": 118,
     "metadata": {},
     "output_type": "execute_result"
    }
   ],
   "source": [
    "next(list_iter)"
   ]
  },
  {
   "cell_type": "code",
   "execution_count": 129,
   "id": "85d51183",
   "metadata": {},
   "outputs": [
    {
     "data": {
      "text/plain": [
       "<generator object my_func at 0x000001C6EFB1FCF0>"
      ]
     },
     "execution_count": 129,
     "metadata": {},
     "output_type": "execute_result"
    }
   ],
   "source": [
    "def my_func(msg):\n",
    "    yield msg\n",
    "my_func('hii')"
   ]
  },
  {
   "cell_type": "code",
   "execution_count": 126,
   "id": "2499a572",
   "metadata": {},
   "outputs": [
    {
     "name": "stdout",
     "output_type": "stream",
     "text": [
      "hii\n"
     ]
    }
   ],
   "source": [
    "for l in my_func('hii'):\n",
    "    print(l)"
   ]
  },
  {
   "cell_type": "code",
   "execution_count": 130,
   "id": "091e87d4",
   "metadata": {},
   "outputs": [
    {
     "data": {
      "text/plain": [
       "'hii'"
      ]
     },
     "execution_count": 130,
     "metadata": {},
     "output_type": "execute_result"
    }
   ],
   "source": [
    "a = my_func('hii')\n",
    "next(a)"
   ]
  },
  {
   "cell_type": "code",
   "execution_count": null,
   "id": "c9d787d7",
   "metadata": {},
   "outputs": [],
   "source": [
    "li = "
   ]
  }
 ],
 "metadata": {
  "kernelspec": {
   "display_name": "Python 3 (ipykernel)",
   "language": "python",
   "name": "python3"
  },
  "language_info": {
   "codemirror_mode": {
    "name": "ipython",
    "version": 3
   },
   "file_extension": ".py",
   "mimetype": "text/x-python",
   "name": "python",
   "nbconvert_exporter": "python",
   "pygments_lexer": "ipython3",
   "version": "3.9.12"
  }
 },
 "nbformat": 4,
 "nbformat_minor": 5
}

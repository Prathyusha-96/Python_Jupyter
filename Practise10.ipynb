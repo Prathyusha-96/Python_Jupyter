{
 "cells": [
  {
   "cell_type": "code",
   "execution_count": 1,
   "id": "0ed0e83f",
   "metadata": {},
   "outputs": [],
   "source": [
    "#Write a Program in Python to Find the Smallest and the Largest List Elements on Inputs Provided by the User"
   ]
  },
  {
   "cell_type": "code",
   "execution_count": 2,
   "id": "f221a282",
   "metadata": {},
   "outputs": [
    {
     "data": {
      "text/plain": [
       "[1, 2, 3, 4, 5, 6, 7, 8, 9, 10]"
      ]
     },
     "execution_count": 2,
     "metadata": {},
     "output_type": "execute_result"
    }
   ],
   "source": [
    "li = []\n",
    "for i in range(1, 11):\n",
    "    li.append(i)\n",
    "li"
   ]
  },
  {
   "cell_type": "code",
   "execution_count": 4,
   "id": "5e3aed71",
   "metadata": {},
   "outputs": [
    {
     "data": {
      "text/plain": [
       "10"
      ]
     },
     "execution_count": 4,
     "metadata": {},
     "output_type": "execute_result"
    }
   ],
   "source": [
    "max(li)"
   ]
  },
  {
   "cell_type": "code",
   "execution_count": 5,
   "id": "ee703055",
   "metadata": {},
   "outputs": [
    {
     "data": {
      "text/plain": [
       "1"
      ]
     },
     "execution_count": 5,
     "metadata": {},
     "output_type": "execute_result"
    }
   ],
   "source": [
    "min(li)"
   ]
  },
  {
   "cell_type": "code",
   "execution_count": 6,
   "id": "1ba019a7",
   "metadata": {},
   "outputs": [],
   "source": [
    "#Write a Python Program to Split a List in Half and Store the Elements in Two Different Lists"
   ]
  },
  {
   "cell_type": "code",
   "execution_count": 7,
   "id": "b7943958",
   "metadata": {},
   "outputs": [],
   "source": [
    "lst = ['abc', 1, 2, 'bvs', 5, 4]"
   ]
  },
  {
   "cell_type": "code",
   "execution_count": 8,
   "id": "739327c0",
   "metadata": {},
   "outputs": [
    {
     "data": {
      "text/plain": [
       "6"
      ]
     },
     "execution_count": 8,
     "metadata": {},
     "output_type": "execute_result"
    }
   ],
   "source": [
    "len(lst)"
   ]
  },
  {
   "cell_type": "code",
   "execution_count": 9,
   "id": "86ff5dd5",
   "metadata": {},
   "outputs": [
    {
     "data": {
      "text/plain": [
       "['abc', 1, 2]"
      ]
     },
     "execution_count": 9,
     "metadata": {},
     "output_type": "execute_result"
    }
   ],
   "source": [
    "lst[:3]"
   ]
  },
  {
   "cell_type": "code",
   "execution_count": 11,
   "id": "a9a6e5a6",
   "metadata": {},
   "outputs": [
    {
     "data": {
      "text/plain": [
       "['bvs', 5, 4]"
      ]
     },
     "execution_count": 11,
     "metadata": {},
     "output_type": "execute_result"
    }
   ],
   "source": [
    "lst[3:]"
   ]
  },
  {
   "cell_type": "code",
   "execution_count": 12,
   "id": "f1d8876d",
   "metadata": {},
   "outputs": [],
   "source": [
    "#Write a Python Program to Remove Multiple Empty Strings From a List of Strings"
   ]
  },
  {
   "cell_type": "code",
   "execution_count": 25,
   "id": "5aa1444c",
   "metadata": {},
   "outputs": [],
   "source": [
    "List1 = ['','ABC','xyz', '', 'abc', 'XYZ']"
   ]
  },
  {
   "cell_type": "code",
   "execution_count": 28,
   "id": "d1ffd379",
   "metadata": {},
   "outputs": [
    {
     "data": {
      "text/plain": [
       "['ABC', 'xyz', 'abc', 'XYZ']"
      ]
     },
     "execution_count": 28,
     "metadata": {},
     "output_type": "execute_result"
    }
   ],
   "source": [
    "\n",
    "for x in List1:\n",
    "    if x == \"\":\n",
    "        List1.remove(\"\")\n",
    "List1"
   ]
  },
  {
   "cell_type": "code",
   "execution_count": 33,
   "id": "4e805eea",
   "metadata": {},
   "outputs": [
    {
     "data": {
      "text/plain": [
       "['ABC', 'xyz', 'abc', 'XYZ']"
      ]
     },
     "execution_count": 33,
     "metadata": {},
     "output_type": "execute_result"
    }
   ],
   "source": [
    "new_list = [x for x in List1 if x]\n",
    "new_list"
   ]
  },
  {
   "cell_type": "code",
   "execution_count": 22,
   "id": "cae14bf9",
   "metadata": {},
   "outputs": [
    {
     "data": {
      "text/plain": [
       "\"['', 'ABC', 'xyz', '', 'abc', 'XYZ']\""
      ]
     },
     "execution_count": 22,
     "metadata": {},
     "output_type": "execute_result"
    }
   ],
   "source": [
    "str(List1)"
   ]
  },
  {
   "cell_type": "code",
   "execution_count": 23,
   "id": "06e53ce0",
   "metadata": {},
   "outputs": [],
   "source": [
    "while \"\" in List1:\n",
    "    List1.remove(\"\")"
   ]
  },
  {
   "cell_type": "code",
   "execution_count": 24,
   "id": "707c8ac4",
   "metadata": {},
   "outputs": [
    {
     "data": {
      "text/plain": [
       "['ABC', 'xyz', 'abc', 'XYZ']"
      ]
     },
     "execution_count": 24,
     "metadata": {},
     "output_type": "execute_result"
    }
   ],
   "source": [
    "List1"
   ]
  },
  {
   "cell_type": "code",
   "execution_count": 34,
   "id": "a9aa5b36",
   "metadata": {},
   "outputs": [],
   "source": [
    "#Write a Python Program to Interchange First and Last Elements of in a List"
   ]
  },
  {
   "cell_type": "code",
   "execution_count": 37,
   "id": "17650176",
   "metadata": {},
   "outputs": [],
   "source": [
    "list2 = [10, 20, 30, 40, 50]\n",
    "list2[0], list2[-1] = list2[-1], list2[0]"
   ]
  },
  {
   "cell_type": "code",
   "execution_count": 38,
   "id": "f49c9ea1",
   "metadata": {},
   "outputs": [
    {
     "data": {
      "text/plain": [
       "[50, 20, 30, 40, 10]"
      ]
     },
     "execution_count": 38,
     "metadata": {},
     "output_type": "execute_result"
    }
   ],
   "source": [
    "list2"
   ]
  },
  {
   "cell_type": "code",
   "execution_count": 39,
   "id": "d3796b24",
   "metadata": {},
   "outputs": [],
   "source": [
    "#Write a Program in Python to Print Elements With Frequency Greater Than a Given Value k"
   ]
  },
  {
   "cell_type": "code",
   "execution_count": 40,
   "id": "81fd4bfb",
   "metadata": {},
   "outputs": [],
   "source": [
    "List1 = [1, 1, 1, 1, 2, 2, 2, 2, 3, 3, 5, 5, 5, 6, 7]\n",
    "k = 2"
   ]
  },
  {
   "cell_type": "code",
   "execution_count": 44,
   "id": "61d91698",
   "metadata": {},
   "outputs": [
    {
     "data": {
      "text/plain": [
       "[1, 2, 5]"
      ]
     },
     "execution_count": 44,
     "metadata": {},
     "output_type": "execute_result"
    }
   ],
   "source": [
    "res = []\n",
    "for i in List1:\n",
    "    counter = List1.count(i)\n",
    "#     print(i ,counter)\n",
    "    if counter > k and i not in res:\n",
    "        res.append(i)\n",
    "res"
   ]
  },
  {
   "cell_type": "code",
   "execution_count": null,
   "id": "7b95f7ee",
   "metadata": {},
   "outputs": [],
   "source": []
  }
 ],
 "metadata": {
  "kernelspec": {
   "display_name": "Python 3 (ipykernel)",
   "language": "python",
   "name": "python3"
  },
  "language_info": {
   "codemirror_mode": {
    "name": "ipython",
    "version": 3
   },
   "file_extension": ".py",
   "mimetype": "text/x-python",
   "name": "python",
   "nbconvert_exporter": "python",
   "pygments_lexer": "ipython3",
   "version": "3.9.12"
  }
 },
 "nbformat": 4,
 "nbformat_minor": 5
}

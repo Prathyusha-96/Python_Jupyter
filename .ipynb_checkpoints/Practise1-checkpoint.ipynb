{
 "cells": [
  {
   "cell_type": "code",
   "execution_count": 1,
   "id": "678cc898",
   "metadata": {},
   "outputs": [
    {
     "name": "stdout",
     "output_type": "stream",
     "text": [
      "1\n",
      "2\n",
      "3\n",
      "4\n",
      "5\n",
      "6\n",
      "7\n",
      "8\n",
      "9\n"
     ]
    }
   ],
   "source": [
    "for i in range(1, 10):\n",
    "    print(i)"
   ]
  },
  {
   "cell_type": "code",
   "execution_count": null,
   "id": "839162fc",
   "metadata": {},
   "outputs": [],
   "source": []
  },
  {
   "cell_type": "code",
   "execution_count": 2,
   "id": "fcc37480",
   "metadata": {},
   "outputs": [
    {
     "data": {
      "text/plain": [
       "6"
      ]
     },
     "execution_count": 2,
     "metadata": {},
     "output_type": "execute_result"
    }
   ],
   "source": [
    "x = [1, 2, 3, 4, 5, 8]\n",
    "len(x)\n",
    "# for i in x:\n",
    "#     print(x[i] )"
   ]
  },
  {
   "cell_type": "code",
   "execution_count": 3,
   "id": "7b016aca",
   "metadata": {},
   "outputs": [
    {
     "data": {
      "text/plain": [
       "1"
      ]
     },
     "execution_count": 3,
     "metadata": {},
     "output_type": "execute_result"
    }
   ],
   "source": [
    "x[0]"
   ]
  },
  {
   "cell_type": "code",
   "execution_count": 4,
   "id": "387d191e",
   "metadata": {},
   "outputs": [
    {
     "name": "stdout",
     "output_type": "stream",
     "text": [
      "2\n",
      "3\n",
      "4\n",
      "5\n",
      "8\n"
     ]
    },
    {
     "ename": "IndexError",
     "evalue": "list index out of range",
     "output_type": "error",
     "traceback": [
      "\u001b[1;31m---------------------------------------------------------------------------\u001b[0m",
      "\u001b[1;31mIndexError\u001b[0m                                Traceback (most recent call last)",
      "Input \u001b[1;32mIn [4]\u001b[0m, in \u001b[0;36m<cell line: 1>\u001b[1;34m()\u001b[0m\n\u001b[0;32m      1\u001b[0m \u001b[38;5;28;01mfor\u001b[39;00m i \u001b[38;5;129;01min\u001b[39;00m x:\n\u001b[1;32m----> 2\u001b[0m     \u001b[38;5;28mprint\u001b[39m(\u001b[43mx\u001b[49m\u001b[43m[\u001b[49m\u001b[43mi\u001b[49m\u001b[43m]\u001b[49m)\n",
      "\u001b[1;31mIndexError\u001b[0m: list index out of range"
     ]
    }
   ],
   "source": [
    "for i in x:\n",
    "    print(x[i])"
   ]
  },
  {
   "cell_type": "code",
   "execution_count": null,
   "id": "c53af9b9",
   "metadata": {},
   "outputs": [],
   "source": [
    "lang = ['python', 'java', 'react']\n",
    "i = 0 \n",
    "while i <= len(lang):\n",
    "    print(lang[i])\n",
    "    i += 1"
   ]
  },
  {
   "cell_type": "code",
   "execution_count": null,
   "id": "badff7b2",
   "metadata": {},
   "outputs": [],
   "source": [
    "lang = ['python', 'java', 'react']\n",
    "i = 0 \n",
    "while i < len(lang):\n",
    "    print(lang[i])\n",
    "    i += 1"
   ]
  },
  {
   "cell_type": "code",
   "execution_count": null,
   "id": "1f059d13",
   "metadata": {},
   "outputs": [],
   "source": [
    "languages = ['c', 'c++', 'php']\n",
    "for i in languages:\n",
    "    print(languages[i])"
   ]
  },
  {
   "cell_type": "code",
   "execution_count": 5,
   "id": "d381ac13",
   "metadata": {},
   "outputs": [
    {
     "name": "stdout",
     "output_type": "stream",
     "text": [
      "30\n"
     ]
    }
   ],
   "source": [
    "a = 10\n",
    "b = 20\n",
    "print(a+ b)"
   ]
  },
  {
   "cell_type": "code",
   "execution_count": 6,
   "id": "821a49d9",
   "metadata": {},
   "outputs": [
    {
     "data": {
      "text/plain": [
       "200"
      ]
     },
     "execution_count": 6,
     "metadata": {},
     "output_type": "execute_result"
    }
   ],
   "source": [
    "a*b"
   ]
  },
  {
   "cell_type": "code",
   "execution_count": 7,
   "id": "dc62117c",
   "metadata": {},
   "outputs": [
    {
     "data": {
      "text/plain": [
       "0.5"
      ]
     },
     "execution_count": 7,
     "metadata": {},
     "output_type": "execute_result"
    }
   ],
   "source": [
    "a/b"
   ]
  },
  {
   "cell_type": "code",
   "execution_count": 8,
   "id": "54b444e5",
   "metadata": {},
   "outputs": [
    {
     "data": {
      "text/plain": [
       "-10"
      ]
     },
     "execution_count": 8,
     "metadata": {},
     "output_type": "execute_result"
    }
   ],
   "source": [
    "a-b"
   ]
  },
  {
   "cell_type": "code",
   "execution_count": 10,
   "id": "c1434ba3",
   "metadata": {},
   "outputs": [
    {
     "data": {
      "text/plain": [
       "110"
      ]
     },
     "execution_count": 10,
     "metadata": {},
     "output_type": "execute_result"
    }
   ],
   "source": [
    "def mul_or_sum(a, b):\n",
    "    product = a * b\n",
    "    if product <= 100:\n",
    "        return product\n",
    "    else:\n",
    "        return a + b\n",
    "mul_or_sum(20, 90)"
   ]
  },
  {
   "cell_type": "code",
   "execution_count": 20,
   "id": "25c36db7",
   "metadata": {},
   "outputs": [
    {
     "name": "stdout",
     "output_type": "stream",
     "text": [
      "current num is 0 previous num is 0 sum is 0\n",
      "current num is 1 previous num is 0 sum is 1\n",
      "current num is 2 previous num is 1 sum is 3\n",
      "current num is 3 previous num is 2 sum is 5\n",
      "current num is 4 previous num is 3 sum is 7\n",
      "current num is 5 previous num is 4 sum is 9\n",
      "current num is 6 previous num is 5 sum is 11\n",
      "current num is 7 previous num is 6 sum is 13\n",
      "current num is 8 previous num is 7 sum is 15\n",
      "current num is 9 previous num is 8 sum is 17\n",
      "current num is 10 previous num is 9 sum is 19\n"
     ]
    }
   ],
   "source": [
    "#Print the sum of the current number and the previous number\n",
    "previous_num = 0\n",
    "for i in range(0,11):\n",
    "    x_sum = previous_num + i\n",
    "    print('current num is', i, 'previous num is', previous_num, 'sum is', x_sum)\n",
    "    previous_num = i"
   ]
  },
  {
   "cell_type": "code",
   "execution_count": null,
   "id": "de183675",
   "metadata": {},
   "outputs": [],
   "source": []
  }
 ],
 "metadata": {
  "kernelspec": {
   "display_name": "Python 3 (ipykernel)",
   "language": "python",
   "name": "python3"
  },
  "language_info": {
   "codemirror_mode": {
    "name": "ipython",
    "version": 3
   },
   "file_extension": ".py",
   "mimetype": "text/x-python",
   "name": "python",
   "nbconvert_exporter": "python",
   "pygments_lexer": "ipython3",
   "version": "3.9.12"
  }
 },
 "nbformat": 4,
 "nbformat_minor": 5
}

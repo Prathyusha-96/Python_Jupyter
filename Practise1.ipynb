{
 "cells": [
  {
   "cell_type": "code",
   "execution_count": 1,
   "id": "1ec6fef6",
   "metadata": {},
   "outputs": [
    {
     "name": "stdout",
     "output_type": "stream",
     "text": [
      "1\n",
      "2\n",
      "3\n",
      "4\n",
      "5\n",
      "6\n",
      "7\n",
      "8\n",
      "9\n"
     ]
    }
   ],
   "source": [
    "for i in range(1, 10):\n",
    "    print(i)"
   ]
  },
  {
   "cell_type": "code",
   "execution_count": null,
   "id": "82a48f2f",
   "metadata": {},
   "outputs": [],
   "source": []
  },
  {
   "cell_type": "code",
   "execution_count": 2,
   "id": "3a3470a7",
   "metadata": {},
   "outputs": [
    {
     "data": {
      "text/plain": [
       "6"
      ]
     },
     "execution_count": 2,
     "metadata": {},
     "output_type": "execute_result"
    }
   ],
   "source": [
    "x = [1, 2, 3, 4, 5, 8]\n",
    "len(x)\n",
    "# for i in x:\n",
    "#     print(x[i] )"
   ]
  },
  {
   "cell_type": "code",
   "execution_count": 3,
   "id": "28811b2a",
   "metadata": {},
   "outputs": [
    {
     "data": {
      "text/plain": [
       "1"
      ]
     },
     "execution_count": 3,
     "metadata": {},
     "output_type": "execute_result"
    }
   ],
   "source": [
    "x[0]"
   ]
  },
  {
   "cell_type": "code",
   "execution_count": 4,
   "id": "09c98732",
   "metadata": {},
   "outputs": [
    {
     "name": "stdout",
     "output_type": "stream",
     "text": [
      "2\n",
      "3\n",
      "4\n",
      "5\n",
      "8\n"
     ]
    },
    {
     "ename": "IndexError",
     "evalue": "list index out of range",
     "output_type": "error",
     "traceback": [
      "\u001b[1;31m---------------------------------------------------------------------------\u001b[0m",
      "\u001b[1;31mIndexError\u001b[0m                                Traceback (most recent call last)",
      "Input \u001b[1;32mIn [4]\u001b[0m, in \u001b[0;36m<cell line: 1>\u001b[1;34m()\u001b[0m\n\u001b[0;32m      1\u001b[0m \u001b[38;5;28;01mfor\u001b[39;00m i \u001b[38;5;129;01min\u001b[39;00m x:\n\u001b[1;32m----> 2\u001b[0m     \u001b[38;5;28mprint\u001b[39m(\u001b[43mx\u001b[49m\u001b[43m[\u001b[49m\u001b[43mi\u001b[49m\u001b[43m]\u001b[49m)\n",
      "\u001b[1;31mIndexError\u001b[0m: list index out of range"
     ]
    }
   ],
   "source": [
    "for i in x:\n",
    "    print(x[i])"
   ]
  },
  {
   "cell_type": "code",
   "execution_count": null,
   "id": "33badc1f",
   "metadata": {},
   "outputs": [],
   "source": [
    "lang = ['python', 'java', 'react']\n",
    "i = 0 \n",
    "while i <= len(lang):\n",
    "    print(lang[i])\n",
    "    i += 1"
   ]
  },
  {
   "cell_type": "code",
   "execution_count": null,
   "id": "514540b9",
   "metadata": {},
   "outputs": [],
   "source": [
    "lang = ['python', 'java', 'react']\n",
    "i = 0 \n",
    "while i < len(lang):\n",
    "    print(lang[i])\n",
    "    i += 1"
   ]
  },
  {
   "cell_type": "code",
   "execution_count": null,
   "id": "e3012d86",
   "metadata": {},
   "outputs": [],
   "source": [
    "languages = ['c', 'c++', 'php']\n",
    "for i in languages:\n",
    "    print(languages[i])"
   ]
  },
  {
   "cell_type": "code",
   "execution_count": 5,
   "id": "f7c65f4b",
   "metadata": {},
   "outputs": [
    {
     "name": "stdout",
     "output_type": "stream",
     "text": [
      "30\n"
     ]
    }
   ],
   "source": [
    "a = 10\n",
    "b = 20\n",
    "print(a+ b)"
   ]
  },
  {
   "cell_type": "code",
   "execution_count": 6,
   "id": "aaf0d9d0",
   "metadata": {},
   "outputs": [
    {
     "data": {
      "text/plain": [
       "200"
      ]
     },
     "execution_count": 6,
     "metadata": {},
     "output_type": "execute_result"
    }
   ],
   "source": [
    "a*b"
   ]
  },
  {
   "cell_type": "code",
   "execution_count": 7,
   "id": "c259bbd4",
   "metadata": {},
   "outputs": [
    {
     "data": {
      "text/plain": [
       "0.5"
      ]
     },
     "execution_count": 7,
     "metadata": {},
     "output_type": "execute_result"
    }
   ],
   "source": [
    "a/b"
   ]
  },
  {
   "cell_type": "code",
   "execution_count": 8,
   "id": "0009f26e",
   "metadata": {},
   "outputs": [
    {
     "data": {
      "text/plain": [
       "-10"
      ]
     },
     "execution_count": 8,
     "metadata": {},
     "output_type": "execute_result"
    }
   ],
   "source": [
    "a-b"
   ]
  },
  {
   "cell_type": "code",
   "execution_count": 9,
   "id": "1aea3fe4",
   "metadata": {},
   "outputs": [
    {
     "data": {
      "text/plain": [
       "110"
      ]
     },
     "execution_count": 9,
     "metadata": {},
     "output_type": "execute_result"
    }
   ],
   "source": [
    "def mul_or_sum(a, b):\n",
    "    product = a * b\n",
    "    if product <= 100:\n",
    "        return product\n",
    "    else:\n",
    "        return a + b\n",
    "mul_or_sum(20, 90)"
   ]
  },
  {
   "cell_type": "code",
   "execution_count": 10,
   "id": "3593d5bd",
   "metadata": {},
   "outputs": [
    {
     "name": "stdout",
     "output_type": "stream",
     "text": [
      "current num is 0 previous num is 0 sum is 0\n",
      "current num is 1 previous num is 0 sum is 1\n",
      "current num is 2 previous num is 1 sum is 3\n",
      "current num is 3 previous num is 2 sum is 5\n",
      "current num is 4 previous num is 3 sum is 7\n",
      "current num is 5 previous num is 4 sum is 9\n",
      "current num is 6 previous num is 5 sum is 11\n",
      "current num is 7 previous num is 6 sum is 13\n",
      "current num is 8 previous num is 7 sum is 15\n",
      "current num is 9 previous num is 8 sum is 17\n",
      "current num is 10 previous num is 9 sum is 19\n"
     ]
    }
   ],
   "source": [
    "#Print the sum of the current number and the previous number\n",
    "previous_num = 0\n",
    "for i in range(0,11):\n",
    "    x_sum = previous_num + i\n",
    "    print('current num is', i, 'previous num is', previous_num, 'sum is', x_sum)\n",
    "    previous_num = i"
   ]
  },
  {
   "cell_type": "code",
   "execution_count": 12,
   "id": "ed2f89e3",
   "metadata": {},
   "outputs": [
    {
     "name": "stdout",
     "output_type": "stream",
     "text": [
      "p\n",
      "y\n",
      "n\n",
      "a\n",
      "t\n",
      "i\n",
      "v\n",
      "e\n"
     ]
    }
   ],
   "source": [
    "#Print characters from a string that are present at an even index number\n",
    "str1 = \"pynative\"\n",
    "for i in str1:\n",
    "    print(i)\n",
    " "
   ]
  },
  {
   "cell_type": "code",
   "execution_count": 13,
   "id": "334fea22",
   "metadata": {},
   "outputs": [
    {
     "data": {
      "text/plain": [
       "8"
      ]
     },
     "execution_count": 13,
     "metadata": {},
     "output_type": "execute_result"
    }
   ],
   "source": [
    "len(str1)"
   ]
  },
  {
   "cell_type": "code",
   "execution_count": 14,
   "id": "712dcc8d",
   "metadata": {},
   "outputs": [
    {
     "name": "stdout",
     "output_type": "stream",
     "text": [
      "0\n",
      "2\n",
      "4\n",
      "6\n",
      "8\n"
     ]
    }
   ],
   "source": [
    "for i in range(0,9,2):\n",
    "    print(i)"
   ]
  },
  {
   "cell_type": "code",
   "execution_count": 15,
   "id": "ec490e10",
   "metadata": {},
   "outputs": [
    {
     "data": {
      "text/plain": [
       "['p', 'y', 'n', 'a', 't', 'i', 'v', 'e']"
      ]
     },
     "execution_count": 15,
     "metadata": {},
     "output_type": "execute_result"
    }
   ],
   "source": [
    "word = list(str1)\n",
    "word"
   ]
  },
  {
   "cell_type": "code",
   "execution_count": 16,
   "id": "9a536822",
   "metadata": {},
   "outputs": [
    {
     "name": "stdout",
     "output_type": "stream",
     "text": [
      "p\n",
      "n\n",
      "t\n",
      "v\n"
     ]
    }
   ],
   "source": [
    "for i in word[0::2]:\n",
    "    print(i)"
   ]
  },
  {
   "cell_type": "code",
   "execution_count": 17,
   "id": "b4ef0926",
   "metadata": {},
   "outputs": [
    {
     "data": {
      "text/plain": [
       "8"
      ]
     },
     "execution_count": 17,
     "metadata": {},
     "output_type": "execute_result"
    }
   ],
   "source": [
    "size =len(str1)\n",
    "size\n"
   ]
  },
  {
   "cell_type": "code",
   "execution_count": 18,
   "id": "f084d121",
   "metadata": {},
   "outputs": [
    {
     "name": "stdout",
     "output_type": "stream",
     "text": [
      "p\n",
      "n\n",
      "t\n",
      "v\n"
     ]
    }
   ],
   "source": [
    "for i in range(0, size-1, 2):\n",
    "    print(word[i])"
   ]
  },
  {
   "cell_type": "code",
   "execution_count": 19,
   "id": "8c24b6ff",
   "metadata": {},
   "outputs": [],
   "source": [
    "str1 = 'pynative'"
   ]
  },
  {
   "cell_type": "code",
   "execution_count": 20,
   "id": "4a82f67a",
   "metadata": {},
   "outputs": [
    {
     "data": {
      "text/plain": [
       "'tive'"
      ]
     },
     "execution_count": 20,
     "metadata": {},
     "output_type": "execute_result"
    }
   ],
   "source": [
    "str1[-4:]"
   ]
  },
  {
   "cell_type": "code",
   "execution_count": 21,
   "id": "97a62cc2",
   "metadata": {},
   "outputs": [
    {
     "data": {
      "text/plain": [
       "'native'"
      ]
     },
     "execution_count": 21,
     "metadata": {},
     "output_type": "execute_result"
    }
   ],
   "source": [
    "str1[2:]"
   ]
  },
  {
   "cell_type": "code",
   "execution_count": 22,
   "id": "3b7d0b36",
   "metadata": {},
   "outputs": [
    {
     "data": {
      "text/plain": [
       "'native'"
      ]
     },
     "execution_count": 22,
     "metadata": {},
     "output_type": "execute_result"
    }
   ],
   "source": [
    "def remove_chrs(word, n):\n",
    "    return word[n:]\n",
    "\n",
    "remove_chrs(\"pynative\", 2)"
   ]
  },
  {
   "cell_type": "code",
   "execution_count": 23,
   "id": "9002ce2b",
   "metadata": {},
   "outputs": [],
   "source": [
    "#Check if the first and last number of a list is the same\n",
    "x = [10, 20, 30, 40, 10]\n",
    "y = [75, 65, 35, 75, 30]"
   ]
  },
  {
   "cell_type": "code",
   "execution_count": 24,
   "id": "de96ca85",
   "metadata": {},
   "outputs": [
    {
     "data": {
      "text/plain": [
       "True"
      ]
     },
     "execution_count": 24,
     "metadata": {},
     "output_type": "execute_result"
    }
   ],
   "source": [
    "x[0] == x[-1]"
   ]
  },
  {
   "cell_type": "code",
   "execution_count": 25,
   "id": "e68c7de2",
   "metadata": {},
   "outputs": [
    {
     "data": {
      "text/plain": [
       "False"
      ]
     },
     "execution_count": 25,
     "metadata": {},
     "output_type": "execute_result"
    }
   ],
   "source": [
    "y[0] == y[-1]"
   ]
  },
  {
   "cell_type": "code",
   "execution_count": 26,
   "id": "c5a1fa7d",
   "metadata": {},
   "outputs": [
    {
     "data": {
      "text/plain": [
       "False"
      ]
     },
     "execution_count": 26,
     "metadata": {},
     "output_type": "execute_result"
    }
   ],
   "source": [
    "def first_last_same(numberlist):\n",
    "    first_num = numberlist[0]\n",
    "    last_num = numberlist[-1]\n",
    "    if first_num == last_num:\n",
    "        return True\n",
    "    else:\n",
    "        return False\n",
    "x = [10, 20, 30, 40, 10]\n",
    "y = [75, 65, 35, 75, 30]\n",
    "first_last_same(x)\n",
    "first_last_same(y)"
   ]
  },
  {
   "cell_type": "code",
   "execution_count": 27,
   "id": "d163932d",
   "metadata": {},
   "outputs": [
    {
     "name": "stdout",
     "output_type": "stream",
     "text": [
      "10\n",
      "20\n",
      "55\n"
     ]
    }
   ],
   "source": [
    "# Display numbers divisible by 5 from a list\n",
    "x = [10, 20, 33, 46, 55]\n",
    "for i in x:\n",
    "    if i%5 == 0:\n",
    "        print(i)"
   ]
  },
  {
   "cell_type": "code",
   "execution_count": 28,
   "id": "1e08468d",
   "metadata": {},
   "outputs": [
    {
     "name": "stdout",
     "output_type": "stream",
     "text": [
      "Emma appears 2 times\n"
     ]
    }
   ],
   "source": [
    "#Write a program to find how many times substring “Emma” appears in the given string.\n",
    "str_x = \"Emma is good developer. Emma is a writer\"\n",
    "print('Emma appears', str_x.count('Emma'),'times')"
   ]
  },
  {
   "cell_type": "code",
   "execution_count": 29,
   "id": "72be8bfe",
   "metadata": {},
   "outputs": [
    {
     "name": "stdout",
     "output_type": "stream",
     "text": [
      "\n",
      "\n",
      "1 \n",
      "\n",
      "2 2 \n",
      "\n",
      "3 3 3 \n",
      "\n",
      "4 4 4 4 \n",
      "\n",
      "5 5 5 5 5 \n",
      "\n"
     ]
    }
   ],
   "source": [
    "# Print the following pattern\n",
    "for num in range(6):\n",
    "#     print(num)\n",
    "    for j in range(num):\n",
    "#         print(j)\n",
    "        print(num, end=' ')\n",
    "    print('\\n')"
   ]
  },
  {
   "cell_type": "code",
   "execution_count": 30,
   "id": "d672fbe5",
   "metadata": {},
   "outputs": [
    {
     "data": {
      "text/plain": [
       "int"
      ]
     },
     "execution_count": 30,
     "metadata": {},
     "output_type": "execute_result"
    }
   ],
   "source": [
    "#Write a program to check if the given number is a palindrome number.\n",
    "num = 121\n",
    "type(num)"
   ]
  },
  {
   "cell_type": "code",
   "execution_count": 31,
   "id": "bf2f86c1",
   "metadata": {},
   "outputs": [
    {
     "data": {
      "text/plain": [
       "'121'"
      ]
     },
     "execution_count": 31,
     "metadata": {},
     "output_type": "execute_result"
    }
   ],
   "source": [
    "x = str(num)\n",
    "x"
   ]
  },
  {
   "cell_type": "code",
   "execution_count": 32,
   "id": "77f511b0",
   "metadata": {},
   "outputs": [
    {
     "data": {
      "text/plain": [
       "'121'"
      ]
     },
     "execution_count": 32,
     "metadata": {},
     "output_type": "execute_result"
    }
   ],
   "source": [
    "x[::-1]"
   ]
  },
  {
   "cell_type": "code",
   "execution_count": 34,
   "id": "67ea480c",
   "metadata": {},
   "outputs": [
    {
     "name": "stdout",
     "output_type": "stream",
     "text": [
      "palindrome\n"
     ]
    }
   ],
   "source": [
    "if int(x) == num:\n",
    "    print('palindrome')\n",
    "else:\n",
    "    print('not palindrome')"
   ]
  },
  {
   "cell_type": "code",
   "execution_count": 42,
   "id": "7114cf28",
   "metadata": {},
   "outputs": [
    {
     "name": "stdout",
     "output_type": "stream",
     "text": [
      "1\n",
      "12\n",
      "121\n",
      "palindrome\n"
     ]
    }
   ],
   "source": [
    "num = 121\n",
    "number = num\n",
    "reverse_num = 0\n",
    "while number > 0:\n",
    "    reverse_num = reverse_num * 10 + number % 10\n",
    "    number = number // 10\n",
    "    print(reverse_num)\n",
    "if num == reverse_num:\n",
    "    print('palindrome')\n",
    "else:\n",
    "    print('not palindrome')"
   ]
  },
  {
   "cell_type": "code",
   "execution_count": 39,
   "id": "7d6be3eb",
   "metadata": {},
   "outputs": [
    {
     "data": {
      "text/plain": [
       "1"
      ]
     },
     "execution_count": 39,
     "metadata": {},
     "output_type": "execute_result"
    }
   ],
   "source": [
    "121%10\n"
   ]
  },
  {
   "cell_type": "code",
   "execution_count": 40,
   "id": "471e433e",
   "metadata": {},
   "outputs": [
    {
     "data": {
      "text/plain": [
       "0"
      ]
     },
     "execution_count": 40,
     "metadata": {},
     "output_type": "execute_result"
    }
   ],
   "source": [
    "1 //10"
   ]
  },
  {
   "cell_type": "code",
   "execution_count": 43,
   "id": "52362e90",
   "metadata": {},
   "outputs": [],
   "source": [
    "#Create a new list from a two list using the following condition\n",
    "#new list should contain odd numbers from the first list and even numbers from the second list.\n",
    "list1 = [10, 20, 25, 30, 35]\n",
    "list2 = [40, 45, 60, 75, 90]"
   ]
  },
  {
   "cell_type": "code",
   "execution_count": 47,
   "id": "48f7c5b1",
   "metadata": {},
   "outputs": [
    {
     "data": {
      "text/plain": [
       "[25, 35, 40, 60, 90]"
      ]
     },
     "execution_count": 47,
     "metadata": {},
     "output_type": "execute_result"
    }
   ],
   "source": [
    "list3 = []\n",
    "for i in list1:\n",
    "    if i%2 != 0:\n",
    "        list3.append(i)\n",
    "for j in list2:\n",
    "    if j%2 == 0:\n",
    "        list3.append(j)\n",
    "list3"
   ]
  },
  {
   "cell_type": "code",
   "execution_count": 48,
   "id": "e8119a5f",
   "metadata": {},
   "outputs": [
    {
     "data": {
      "text/plain": [
       "int"
      ]
     },
     "execution_count": 48,
     "metadata": {},
     "output_type": "execute_result"
    }
   ],
   "source": [
    "#Write a Program to extract each digit from an integer in the reverse order.\n",
    "num= 7536\n",
    "type(num)"
   ]
  },
  {
   "cell_type": "code",
   "execution_count": 49,
   "id": "9a35db62",
   "metadata": {},
   "outputs": [
    {
     "data": {
      "text/plain": [
       "'7536'"
      ]
     },
     "execution_count": 49,
     "metadata": {},
     "output_type": "execute_result"
    }
   ],
   "source": [
    "x = str(num)\n",
    "x"
   ]
  },
  {
   "cell_type": "code",
   "execution_count": 52,
   "id": "1d9ff08d",
   "metadata": {},
   "outputs": [
    {
     "name": "stdout",
     "output_type": "stream",
     "text": [
      "6357\n"
     ]
    }
   ],
   "source": [
    "print(x[::-1])"
   ]
  },
  {
   "cell_type": "code",
   "execution_count": 56,
   "id": "5e5572c5",
   "metadata": {},
   "outputs": [
    {
     "name": "stdout",
     "output_type": "stream",
     "text": [
      "6 3 5 7 "
     ]
    }
   ],
   "source": [
    "num = 7536\n",
    "while num > 0:\n",
    "    digit = num % 10\n",
    "    num = num // 10\n",
    "    print(digit, end=\" \")"
   ]
  },
  {
   "cell_type": "code",
   "execution_count": 70,
   "id": "398a37ec",
   "metadata": {},
   "outputs": [
    {
     "name": "stdout",
     "output_type": "stream",
     "text": [
      "1 2 3 4 5 6 7 8 9 10 \t\n",
      "2 4 6 8 10 12 14 16 18 20 \t\n",
      "3 6 9 12 15 18 21 24 27 30 \t\n",
      "4 8 12 16 20 24 28 32 36 40 \t\n",
      "5 10 15 20 25 30 35 40 45 50 \t\n",
      "6 12 18 24 30 36 42 48 54 60 \t\n",
      "7 14 21 28 35 42 49 56 63 70 \t\n",
      "8 16 24 32 40 48 56 64 72 80 \t\n",
      "9 18 27 36 45 54 63 72 81 90 \t\n",
      "10 20 30 40 50 60 70 80 90 100 \t\n"
     ]
    }
   ],
   "source": [
    "#Print multiplication table form 1 to 10\n",
    "for i in range(1, 11):\n",
    "    for j in range(1, 11):\n",
    "        print(i * j, end=\" \")\n",
    "      \n",
    "    print(\"\\t\")"
   ]
  },
  {
   "cell_type": "code",
   "execution_count": 74,
   "id": "9e35e5c3",
   "metadata": {},
   "outputs": [
    {
     "name": "stdout",
     "output_type": "stream",
     "text": [
      "6\n",
      "0\n",
      "* 1\n",
      "* 2\n",
      "* 3\n",
      "* 4\n",
      "*  \n",
      "5\n",
      "0\n",
      "* 1\n",
      "* 2\n",
      "* 3\n",
      "*  \n",
      "4\n",
      "0\n",
      "* 1\n",
      "* 2\n",
      "*  \n",
      "3\n",
      "0\n",
      "* 1\n",
      "*  \n",
      "2\n",
      "0\n",
      "*  \n",
      "1\n",
      " \n"
     ]
    }
   ],
   "source": [
    "# Print downward Half-Pyramid Pattern with Star\n",
    "for i in range(6, 0, -1):\n",
    "    print(i)\n",
    "    for j in range(0, i-1):\n",
    "        print(j)\n",
    "        print(\"*\", end=\" \")\n",
    "    print(\" \")"
   ]
  },
  {
   "cell_type": "code",
   "execution_count": 86,
   "id": "e4f53eed",
   "metadata": {},
   "outputs": [
    {
     "name": "stdout",
     "output_type": "stream",
     "text": [
      "* * * * *  \n",
      "* * * *  \n",
      "* * *  \n",
      "* *  \n",
      "*  \n",
      " \n"
     ]
    }
   ],
   "source": [
    "for i in range(6, 0, -1):\n",
    "#     print(i)\n",
    "    for j in range(0, i - 1):\n",
    "        print(\"*\", end=' ')\n",
    "    print(' ')"
   ]
  },
  {
   "cell_type": "markdown",
   "id": "be4bd393",
   "metadata": {},
   "source": [
    "# # nested loops"
   ]
  },
  {
   "cell_type": "code",
   "execution_count": 103,
   "id": "a41b5661",
   "metadata": {},
   "outputs": [
    {
     "name": "stdout",
     "output_type": "stream",
     "text": [
      "5\n",
      "*\n",
      "*\n",
      "*\n",
      "*\n",
      "4\n",
      "*\n",
      "*\n",
      "*\n",
      "3\n",
      "*\n",
      "*\n",
      "2\n",
      "*\n",
      "1\n",
      "0\n"
     ]
    }
   ],
   "source": [
    "for i in range(5, -1, -1):\n",
    "    print(i)\n",
    "    for j in range(0, i-1):\n",
    "        print(\"*\")"
   ]
  },
  {
   "cell_type": "code",
   "execution_count": 100,
   "id": "6ce61816",
   "metadata": {},
   "outputs": [
    {
     "name": "stdout",
     "output_type": "stream",
     "text": [
      "1 4\n",
      "1 5\n",
      "2 4\n",
      "2 5\n"
     ]
    }
   ],
   "source": [
    "x = [1, 2]\n",
    "y = [4, 5]\n",
    "for i in x:\n",
    "    for j in y:\n",
    "        print(i, j)"
   ]
  },
  {
   "cell_type": "code",
   "execution_count": 101,
   "id": "f9659a65",
   "metadata": {},
   "outputs": [
    {
     "name": "stdout",
     "output_type": "stream",
     "text": [
      "red apple\n",
      "red banana\n",
      "red cherry\n",
      "red kiwi\n",
      "yellow apple\n",
      "yellow banana\n",
      "yellow cherry\n",
      "yellow kiwi\n",
      "pink apple\n",
      "pink banana\n",
      "pink cherry\n",
      "pink kiwi\n"
     ]
    }
   ],
   "source": [
    "col = ['red', 'yellow', 'pink']\n",
    "fruits = ['apple', 'banana', 'cherry', 'kiwi']\n",
    "for i in col:\n",
    "    for j in fruits:\n",
    "        print(i, j)"
   ]
  },
  {
   "cell_type": "code",
   "execution_count": 104,
   "id": "02b5da8c",
   "metadata": {},
   "outputs": [
    {
     "name": "stdout",
     "output_type": "stream",
     "text": [
      "0 0\n",
      "0 1\n",
      "0 2\n",
      "0 3\n",
      "0 4\n",
      "0 5\n",
      "1 0\n",
      "1 1\n",
      "1 2\n",
      "1 3\n",
      "1 4\n",
      "1 5\n",
      "2 0\n",
      "2 1\n",
      "2 2\n",
      "2 3\n",
      "2 4\n",
      "2 5\n",
      "3 0\n",
      "3 1\n",
      "3 2\n",
      "3 3\n",
      "3 4\n",
      "3 5\n",
      "4 0\n",
      "4 1\n",
      "4 2\n",
      "4 3\n",
      "4 4\n",
      "4 5\n"
     ]
    }
   ],
   "source": [
    "for i in range(5):\n",
    "    for j in range(6):\n",
    "        print(i, j)"
   ]
  },
  {
   "cell_type": "code",
   "execution_count": 11,
   "id": "b64e46c9",
   "metadata": {},
   "outputs": [],
   "source": [
    "my_str = '20-number_1'\n",
    "a = int(my_str.split('-')[0])"
   ]
  },
  {
   "cell_type": "code",
   "execution_count": 12,
   "id": "fb687b0a",
   "metadata": {},
   "outputs": [
    {
     "data": {
      "text/plain": [
       "20"
      ]
     },
     "execution_count": 12,
     "metadata": {},
     "output_type": "execute_result"
    }
   ],
   "source": [
    "a"
   ]
  },
  {
   "cell_type": "code",
   "execution_count": 7,
   "id": "d2309322",
   "metadata": {},
   "outputs": [
    {
     "data": {
      "text/plain": [
       "'20'"
      ]
     },
     "execution_count": 7,
     "metadata": {},
     "output_type": "execute_result"
    }
   ],
   "source": [
    "a[0]"
   ]
  },
  {
   "cell_type": "code",
   "execution_count": 8,
   "id": "c34baf05",
   "metadata": {},
   "outputs": [
    {
     "data": {
      "text/plain": [
       "20"
      ]
     },
     "execution_count": 8,
     "metadata": {},
     "output_type": "execute_result"
    }
   ],
   "source": [
    "int(a[0])"
   ]
  },
  {
   "cell_type": "code",
   "execution_count": null,
   "id": "ab6da235",
   "metadata": {},
   "outputs": [],
   "source": []
  }
 ],
 "metadata": {
  "kernelspec": {
   "display_name": "Python 3 (ipykernel)",
   "language": "python",
   "name": "python3"
  },
  "language_info": {
   "codemirror_mode": {
    "name": "ipython",
    "version": 3
   },
   "file_extension": ".py",
   "mimetype": "text/x-python",
   "name": "python",
   "nbconvert_exporter": "python",
   "pygments_lexer": "ipython3",
   "version": "3.9.12"
  }
 },
 "nbformat": 4,
 "nbformat_minor": 5
}
